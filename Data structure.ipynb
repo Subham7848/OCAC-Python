{
 "cells": [
  {
   "cell_type": "markdown",
   "id": "d18a38ff-ace5-4052-a8d8-29dac1df08b6",
   "metadata": {},
   "source": [
    "### Range"
   ]
  },
  {
   "cell_type": "code",
   "execution_count": 2,
   "id": "91446a1e-3e75-4676-8ff5-13d704f464b7",
   "metadata": {},
   "outputs": [
    {
     "data": {
      "text/plain": [
       "range(0, 20)"
      ]
     },
     "execution_count": 2,
     "metadata": {},
     "output_type": "execute_result"
    }
   ],
   "source": [
    "range(20)"
   ]
  },
  {
   "cell_type": "code",
   "execution_count": 4,
   "id": "bf48c324-9899-4aa6-a134-8e1ffdd8351a",
   "metadata": {},
   "outputs": [
    {
     "data": {
      "text/plain": [
       "[0, 1, 2, 3, 4, 5, 6, 7, 8, 9, 10, 11, 12, 13, 14]"
      ]
     },
     "execution_count": 4,
     "metadata": {},
     "output_type": "execute_result"
    }
   ],
   "source": [
    "list (range(15))"
   ]
  },
  {
   "cell_type": "code",
   "execution_count": 6,
   "id": "2beaea79-50a5-4906-9ef7-a13da7582824",
   "metadata": {},
   "outputs": [
    {
     "data": {
      "text/plain": [
       "[1, 2, 3, 4, 5, 6, 7, 8, 9, 10, 11, 12, 13, 14]"
      ]
     },
     "execution_count": 6,
     "metadata": {},
     "output_type": "execute_result"
    }
   ],
   "source": [
    "list(range(1,15))"
   ]
  },
  {
   "cell_type": "code",
   "execution_count": 8,
   "id": "7b27300b-2f4c-4a86-b9b4-d7e96ea4b577",
   "metadata": {},
   "outputs": [
    {
     "name": "stdout",
     "output_type": "stream",
     "text": [
      "[1, 4, 7, 10, 13]\n"
     ]
    }
   ],
   "source": [
    "print(list(range(1,15,3)))"
   ]
  },
  {
   "cell_type": "code",
   "execution_count": 10,
   "id": "5c72d675-94ad-4456-a882-4faf3b77d1f1",
   "metadata": {},
   "outputs": [
    {
     "name": "stdout",
     "output_type": "stream",
     "text": [
      "[6, 5, 4, 3]\n"
     ]
    }
   ],
   "source": [
    "print(list(range(6,2,-1)))"
   ]
  },
  {
   "cell_type": "code",
   "execution_count": 12,
   "id": "752e2463-2d95-4ca4-92ea-bd46006590aa",
   "metadata": {},
   "outputs": [
    {
     "name": "stdout",
     "output_type": "stream",
     "text": [
      "[100, 99, 98, 97, 96, 95, 94, 93, 92, 91, 90, 89, 88, 87, 86, 85, 84, 83, 82, 81, 80, 79, 78, 77, 76, 75, 74, 73, 72, 71, 70, 69, 68, 67, 66, 65, 64, 63, 62, 61, 60, 59, 58, 57, 56, 55, 54, 53, 52, 51, 50, 49, 48, 47, 46, 45, 44, 43, 42, 41, 40, 39, 38, 37, 36, 35, 34, 33, 32, 31, 30, 29, 28, 27, 26, 25, 24, 23, 22, 21, 20, 19, 18, 17, 16, 15, 14, 13, 12, 11, 10, 9, 8, 7, 6, 5, 4, 3, 2, 1]\n"
     ]
    }
   ],
   "source": [
    "print(list(range(100,0,-1)))"
   ]
  },
  {
   "cell_type": "markdown",
   "id": "562cfa36-d935-4f2b-8749-f17110be49c8",
   "metadata": {},
   "source": [
    "### list"
   ]
  },
  {
   "cell_type": "code",
   "execution_count": 17,
   "id": "1f700c9e-2e65-4fda-aed5-c049fb82d336",
   "metadata": {},
   "outputs": [
    {
     "data": {
      "text/plain": [
       "[]"
      ]
     },
     "execution_count": 17,
     "metadata": {},
     "output_type": "execute_result"
    }
   ],
   "source": [
    "l = []\n",
    "l"
   ]
  },
  {
   "cell_type": "code",
   "execution_count": 21,
   "id": "f845e108-0732-4fae-8449-ed7f5518088b",
   "metadata": {},
   "outputs": [
    {
     "data": {
      "text/plain": [
       "[]"
      ]
     },
     "execution_count": 21,
     "metadata": {},
     "output_type": "execute_result"
    }
   ],
   "source": [
    "l = list()\n",
    "l"
   ]
  },
  {
   "cell_type": "markdown",
   "id": "7ce05eaa-676e-4275-82ad-bec854683694",
   "metadata": {},
   "source": [
    "### List craetion"
   ]
  },
  {
   "cell_type": "code",
   "execution_count": 24,
   "id": "3d954b78-740e-4d56-a9da-43d3cc4488ca",
   "metadata": {},
   "outputs": [
    {
     "data": {
      "text/plain": [
       "[1, 2, 3, 4]"
      ]
     },
     "execution_count": 24,
     "metadata": {},
     "output_type": "execute_result"
    }
   ],
   "source": [
    "l = [1,2,3,4]\n",
    "l"
   ]
  },
  {
   "cell_type": "code",
   "execution_count": 28,
   "id": "433d882b-9894-4bbb-9240-0dca118bda6b",
   "metadata": {},
   "outputs": [
    {
     "data": {
      "text/plain": [
       "list"
      ]
     },
     "execution_count": 28,
     "metadata": {},
     "output_type": "execute_result"
    }
   ],
   "source": [
    "type(l)"
   ]
  },
  {
   "cell_type": "code",
   "execution_count": 40,
   "id": "a8a4c954-45b9-4c54-94ca-1f8c9f0a964a",
   "metadata": {},
   "outputs": [
    {
     "data": {
      "text/plain": [
       "[1, 0.3, (1+4j), True, '2', 'rew']"
      ]
     },
     "execution_count": 40,
     "metadata": {},
     "output_type": "execute_result"
    }
   ],
   "source": [
    "# list is a heterogenous (diferent datatypes)\n",
    "li=[1,0.3,1+4j,True,'2','rew']\n",
    "li\n"
   ]
  },
  {
   "cell_type": "code",
   "execution_count": 42,
   "id": "50fab157-0afc-4c76-ad4e-9e977e9a8074",
   "metadata": {},
   "outputs": [
    {
     "name": "stdout",
     "output_type": "stream",
     "text": [
      "[[1, 2], [3, 4], 1, 3]\n"
     ]
    }
   ],
   "source": [
    "# nested lists(list of lists)\n",
    "lst3 = [[1,2],[3,4],1,3]\n",
    "print(lst3)"
   ]
  },
  {
   "cell_type": "markdown",
   "id": "a2861bd0-86d9-45e9-82c0-51c24577f2b8",
   "metadata": {},
   "source": [
    "### List length"
   ]
  },
  {
   "cell_type": "code",
   "execution_count": 48,
   "id": "a7629011-1e85-40cb-8922-03feae81fb39",
   "metadata": {},
   "outputs": [
    {
     "name": "stdout",
     "output_type": "stream",
     "text": [
      "8\n"
     ]
    }
   ],
   "source": [
    "#find length of a list\n",
    "lst = ['one','two','three','four',[1,2,3,4],3,4,[1,2]]\n",
    "print(len(lst))"
   ]
  },
  {
   "cell_type": "markdown",
   "id": "c1891c5d-bab0-4ff5-aa06-ad6b953a020a",
   "metadata": {},
   "source": [
    "### List indexing"
   ]
  },
  {
   "cell_type": "code",
   "execution_count": 51,
   "id": "d8b2070a-8f8f-4e01-97fd-9e27f582ee0f",
   "metadata": {},
   "outputs": [
    {
     "name": "stdout",
     "output_type": "stream",
     "text": [
      "hello\n"
     ]
    }
   ],
   "source": [
    "my_list = [10,25,\"hello\"]\n",
    "#print lst index element\n",
    "my_list[0]\n",
    "#print last element using negative index\n",
    "print(my_list[-1])"
   ]
  },
  {
   "cell_type": "code",
   "execution_count": 53,
   "id": "0a2b89d8-e41a-4aac-8666-125b80bcb77c",
   "metadata": {},
   "outputs": [
    {
     "data": {
      "text/plain": [
       "['new', 25, 'hello']"
      ]
     },
     "execution_count": 53,
     "metadata": {},
     "output_type": "execute_result"
    }
   ],
   "source": [
    "# list are mutable, meaning, value of elements of a list can be altered.\n",
    "my_list[0] = 'new'\n",
    "my_list"
   ]
  },
  {
   "cell_type": "code",
   "execution_count": 57,
   "id": "f7973716-ca3e-4079-80d7-4d7938a3ccae",
   "metadata": {},
   "outputs": [
    {
     "name": "stdout",
     "output_type": "stream",
     "text": [
      "[10, 20, 30, 40, 50, 60, 70, 80, 90]\n",
      "[10, 20, 30, 40, 50, 60, 70, 80, 90]\n",
      "[10, 20, 30]\n",
      "[10, 30, 50, 70, 90]\n",
      "[30, 50, 70, 90]\n",
      "[90, 80, 70, 60, 50, 40, 30, 20, 10]\n"
     ]
    }
   ],
   "source": [
    "numbers = [10,20,30,40,50,60,70,80,90]\n",
    "#print all numbers \n",
    "print(numbers[:])\n",
    "#print from index 0 to index 3\n",
    "print(numbers[0:])\n",
    "#print upto index 2\n",
    "print(numbers[:3])\n",
    "#print alternate elements in a list\n",
    "print(numbers[::2])\n",
    "#print elemements start from 0 through rest of the list\n",
    "print(numbers[2::2])\n",
    "#print elements in reverse order\n",
    "print(numbers[-1::-1])"
   ]
  },
  {
   "cell_type": "code",
   "execution_count": 61,
   "id": "373b81f3-2924-4de0-bab9-8ea479ee8020",
   "metadata": {},
   "outputs": [
    {
     "data": {
      "text/plain": [
       "4"
      ]
     },
     "execution_count": 61,
     "metadata": {},
     "output_type": "execute_result"
    }
   ],
   "source": [
    "nest = [1,2,3,[4,5,['target',3,40]]]\n",
    "len(nest)"
   ]
  },
  {
   "cell_type": "code",
   "execution_count": 63,
   "id": "1bf14ee7-68d6-4dcc-9a82-434ad98af408",
   "metadata": {},
   "outputs": [
    {
     "data": {
      "text/plain": [
       "'target'"
      ]
     },
     "execution_count": 63,
     "metadata": {},
     "output_type": "execute_result"
    }
   ],
   "source": [
    "nest[3][2][0]"
   ]
  },
  {
   "cell_type": "code",
   "execution_count": 65,
   "id": "065cce7e-7957-41f5-bebe-890ce7fff629",
   "metadata": {},
   "outputs": [],
   "source": [
    "lst = [1,2,[3,4],[5,[100,200,['hello'],24,12],1,7]]"
   ]
  },
  {
   "cell_type": "code",
   "execution_count": 67,
   "id": "3eb1a4d0-b2c2-4890-adc7-f2cf546feef8",
   "metadata": {},
   "outputs": [
    {
     "data": {
      "text/plain": [
       "'hello'"
      ]
     },
     "execution_count": 67,
     "metadata": {},
     "output_type": "execute_result"
    }
   ],
   "source": [
    "# given this nested list,use indexing to grab the \"hello\"\n",
    "lst[3][1][2][0]"
   ]
  },
  {
   "cell_type": "code",
   "execution_count": 77,
   "id": "b00678b5-fa4c-4636-aac8-34251a9adb4a",
   "metadata": {},
   "outputs": [
    {
     "data": {
      "text/plain": [
       "[1, 2, [3, 4], [5, 35, 35, 35]]"
      ]
     },
     "execution_count": 77,
     "metadata": {},
     "output_type": "execute_result"
    }
   ],
   "source": [
    "# replace 24 with 35\n",
    "lst[3][2]=35\n",
    "lst"
   ]
  },
  {
   "cell_type": "markdown",
   "id": "340fff77-65e0-4c24-86b9-7e7a9f150f55",
   "metadata": {},
   "source": [
    "### List concatenation"
   ]
  },
  {
   "cell_type": "code",
   "execution_count": 90,
   "id": "f95472d6-a3fa-49cd-9585-6a457128876e",
   "metadata": {},
   "outputs": [
    {
     "data": {
      "text/plain": [
       "['dsad', 'b', 'c', 'dsad', 'b', 'c']"
      ]
     },
     "execution_count": 90,
     "metadata": {},
     "output_type": "execute_result"
    }
   ],
   "source": [
    "l2 = [\"dsad\", 'b','c']\n",
    "l3 = ['a',6,4.0]\n",
    "l2 + l2"
   ]
  },
  {
   "cell_type": "markdown",
   "id": "ede3c531-6738-4ea3-a26c-11306be2c718",
   "metadata": {},
   "source": [
    "### Append"
   ]
  },
  {
   "cell_type": "code",
   "execution_count": 93,
   "id": "5f70e8bb-c48e-4e42-8163-9b22fd67d7db",
   "metadata": {},
   "outputs": [
    {
     "data": {
      "text/plain": [
       "['x', 'y', 'z', '8', '6']"
      ]
     },
     "execution_count": 93,
     "metadata": {},
     "output_type": "execute_result"
    }
   ],
   "source": [
    "my_list = ['x','y','z','8']\n",
    "my_list.append('6')\n",
    "my_list"
   ]
  },
  {
   "cell_type": "code",
   "execution_count": 95,
   "id": "a5ead0e4-540f-4e18-8b8a-ca904d33433d",
   "metadata": {},
   "outputs": [
    {
     "data": {
      "text/plain": [
       "[1, 2, 3, 4, 5, 6, [7, 8]]"
      ]
     },
     "execution_count": 95,
     "metadata": {},
     "output_type": "execute_result"
    }
   ],
   "source": [
    "lst=[1,2,3,4,5,6]\n",
    "lst.append([7,8])\n",
    "lst"
   ]
  },
  {
   "cell_type": "markdown",
   "id": "065ec901-c516-404e-aa99-44f74a70ea15",
   "metadata": {},
   "source": [
    "### Extend"
   ]
  },
  {
   "cell_type": "code",
   "execution_count": 98,
   "id": "cc1b6418-917b-4eae-8aea-723f3a227030",
   "metadata": {},
   "outputs": [
    {
     "data": {
      "text/plain": [
       "[1, 2, 3, 4, 5, 6, 7, 8]"
      ]
     },
     "execution_count": 98,
     "metadata": {},
     "output_type": "execute_result"
    }
   ],
   "source": [
    "lst=[1,2,3,4,5,6]\n",
    "lst.extend([7,8])\n",
    "lst"
   ]
  },
  {
   "cell_type": "markdown",
   "id": "3c130c4d-a802-46bc-aa1a-795cbd7d16ee",
   "metadata": {},
   "source": [
    "### Insert"
   ]
  },
  {
   "cell_type": "code",
   "execution_count": 101,
   "id": "45da4a7f-a5ac-432e-961f-d8b4a56f589e",
   "metadata": {},
   "outputs": [
    {
     "name": "stdout",
     "output_type": "stream",
     "text": [
      "['one', 1, 'two', 'three']\n"
     ]
    }
   ],
   "source": [
    "lst = ['one','two','three']\n",
    "lst.insert(1,1)\n",
    "print(lst)"
   ]
  },
  {
   "cell_type": "markdown",
   "id": "898dcb29-8d78-4c36-a63a-d81cf458fb3c",
   "metadata": {},
   "source": [
    "### Remove"
   ]
  },
  {
   "cell_type": "code",
   "execution_count": 106,
   "id": "cbd8c959-ec7d-409b-8259-ad46e1b6d01b",
   "metadata": {},
   "outputs": [
    {
     "data": {
      "text/plain": [
       "[10, 20, 40, 50, 60, 7, 8, 9, 5]"
      ]
     },
     "execution_count": 106,
     "metadata": {},
     "output_type": "execute_result"
    }
   ],
   "source": [
    "#syntax: lst.remove(a)\n",
    "marks=[10,20,30,40,50,60,7,8,9,5]\n",
    "marks.remove(30)\n",
    "marks"
   ]
  },
  {
   "cell_type": "code",
   "execution_count": 108,
   "id": "470258ca-e803-4341-9adb-9162ea1299f4",
   "metadata": {},
   "outputs": [
    {
     "name": "stdout",
     "output_type": "stream",
     "text": [
      "['one', 'three', 'four', 'two']\n"
     ]
    }
   ],
   "source": [
    "lst = ['one',[1,2,'two'],'three','four','two']\n",
    "lst.remove(lst[1]) #it wiil remove first occurence of 'two' in a given list\n",
    "print(lst)"
   ]
  },
  {
   "cell_type": "code",
   "execution_count": 112,
   "id": "49a0e469-6fbb-43a8-857a-af55a3647cde",
   "metadata": {},
   "outputs": [
    {
     "name": "stdout",
     "output_type": "stream",
     "text": [
      "[]\n"
     ]
    }
   ],
   "source": [
    "#clear-clear all elements in a list and returns empty list\n",
    "x=[1,2,3,4]\n",
    "x.clear()\n",
    "print(x)"
   ]
  },
  {
   "cell_type": "markdown",
   "id": "578c9067-f315-416e-accf-aa11bd1e5924",
   "metadata": {},
   "source": [
    "### POP"
   ]
  },
  {
   "cell_type": "code",
   "execution_count": 115,
   "id": "673e1b67-11fb-487e-a606-6a38a8461356",
   "metadata": {},
   "outputs": [
    {
     "name": "stdout",
     "output_type": "stream",
     "text": [
      "[1, 2, 3, 4]\n"
     ]
    }
   ],
   "source": [
    "lst=[1,2,3,4,5]\n",
    "lst.pop()\n",
    "print(lst)\n"
   ]
  },
  {
   "cell_type": "code",
   "execution_count": 117,
   "id": "77a6e1ea-e12e-47f8-a66b-b7b8a64fcd29",
   "metadata": {},
   "outputs": [
    {
     "name": "stdout",
     "output_type": "stream",
     "text": [
      "['one', 'three', 'four', 'five']\n"
     ]
    }
   ],
   "source": [
    "#0r we can use pop() method\n",
    "lst = ['one','two','three','four','five']\n",
    "lst.pop(1)\n",
    "print(lst)"
   ]
  },
  {
   "cell_type": "markdown",
   "id": "e927048f-7fc5-4a84-854c-f2f8138098b1",
   "metadata": {},
   "source": [
    "### Delete "
   ]
  },
  {
   "cell_type": "code",
   "execution_count": 120,
   "id": "3a9a3855-87bb-4de8-b22c-99fe24392ba3",
   "metadata": {},
   "outputs": [
    {
     "name": "stdout",
     "output_type": "stream",
     "text": [
      "['two', 'three', 'four', 'five']\n"
     ]
    }
   ],
   "source": [
    "#del to remove item based on index position\n",
    "lst = ['one','two','three','four','five']\n",
    "del lst[0]\n",
    "print(lst)"
   ]
  },
  {
   "cell_type": "code",
   "execution_count": 122,
   "id": "3c71bbe5-b68c-43eb-9004-30842bbf9e31",
   "metadata": {},
   "outputs": [
    {
     "data": {
      "text/plain": [
       "[7, 8, 9]"
      ]
     },
     "execution_count": 122,
     "metadata": {},
     "output_type": "execute_result"
    }
   ],
   "source": [
    "marks = [1,2,3,4,5,6,7,8,9]\n",
    "del marks[0:6]\n",
    "marks"
   ]
  },
  {
   "cell_type": "markdown",
   "id": "06c3a604-0337-4352-bcbf-447d378e1d14",
   "metadata": {},
   "source": [
    "### Reverse"
   ]
  },
  {
   "cell_type": "code",
   "execution_count": 125,
   "id": "4174e8a3-a17a-4fec-b316-4cb88d268b55",
   "metadata": {},
   "outputs": [
    {
     "name": "stdout",
     "output_type": "stream",
     "text": [
      "['four', 'three', 'two', 'one']\n"
     ]
    }
   ],
   "source": [
    "#reverse is reverses the entire list\n",
    "lst = ['one','two','three','four']\n",
    "lst.reverse()\n",
    "print(lst)"
   ]
  },
  {
   "cell_type": "markdown",
   "id": "27ccf68f-ed2f-48d8-80ec-e5c20457e5cd",
   "metadata": {},
   "source": [
    "### Sorting"
   ]
  },
  {
   "cell_type": "code",
   "execution_count": 128,
   "id": "7447edd0-e185-4fb8-ab8f-7aabe6e376c5",
   "metadata": {},
   "outputs": [
    {
     "data": {
      "text/plain": [
       "[1, 3, 5, 6, 7, 9]"
      ]
     },
     "execution_count": 128,
     "metadata": {},
     "output_type": "execute_result"
    }
   ],
   "source": [
    "numbers = [3,5,6,7,9,1]\n",
    "sorted(numbers)"
   ]
  },
  {
   "cell_type": "code",
   "execution_count": 130,
   "id": "30536707-bc91-4ac2-85e8-0a71227f8655",
   "metadata": {},
   "outputs": [
    {
     "data": {
      "text/plain": [
       "[9, 7, 6, 5, 3, 1]"
      ]
     },
     "execution_count": 130,
     "metadata": {},
     "output_type": "execute_result"
    }
   ],
   "source": [
    "sorted(numbers,reverse=True)\n"
   ]
  },
  {
   "cell_type": "code",
   "execution_count": 132,
   "id": "48a20356-80c4-46c7-abb4-898ec24553da",
   "metadata": {},
   "outputs": [
    {
     "data": {
      "text/plain": [
       "[1, 2, 3, 4, 6, 8]"
      ]
     },
     "execution_count": 132,
     "metadata": {},
     "output_type": "execute_result"
    }
   ],
   "source": [
    "lst = [1,6,2,4,3,8]\n",
    "lst.sort()\n",
    "lst"
   ]
  },
  {
   "cell_type": "markdown",
   "id": "4e7af0bf-a071-4f45-9f09-0d92dcb0e757",
   "metadata": {},
   "source": [
    "### Count"
   ]
  },
  {
   "cell_type": "code",
   "execution_count": 135,
   "id": "6ed434f9-d355-418b-9629-de668f4b58d3",
   "metadata": {},
   "outputs": [
    {
     "name": "stdout",
     "output_type": "stream",
     "text": [
      "2\n",
      "2\n"
     ]
    }
   ],
   "source": [
    "numbers=[1,2,3,4,5,2,3,4,1,5]\n",
    "print(numbers.count(2)) #frequency of 2 in a list\n",
    "print(numbers.count(4)) #frequency of 4 in a list"
   ]
  },
  {
   "cell_type": "markdown",
   "id": "c4444a52-4a6a-4fed-9af9-68a4fc94b280",
   "metadata": {},
   "source": [
    "### Copy"
   ]
  },
  {
   "cell_type": "code",
   "execution_count": 138,
   "id": "2543ca81-62d5-46ab-8b2e-47b4ac32604f",
   "metadata": {},
   "outputs": [
    {
     "name": "stdout",
     "output_type": "stream",
     "text": [
      "[1, 2, 3, 5]\n",
      "[1, 2, 3, 5]\n"
     ]
    }
   ],
   "source": [
    "#shallow copy\n",
    "l1=[1,2,3]\n",
    "l2=l1\n",
    "l2.append(5)\n",
    "print(l1)\n",
    "print(l2)"
   ]
  },
  {
   "cell_type": "code",
   "execution_count": 140,
   "id": "0dcfae56-37af-4837-bbe1-6c3a5aeb4ba0",
   "metadata": {},
   "outputs": [
    {
     "name": "stdout",
     "output_type": "stream",
     "text": [
      "[1, 2, 3]\n",
      "[1, 2, 3, 6]\n"
     ]
    }
   ],
   "source": [
    "#deep copy\n",
    "l1=[1,2,3]\n",
    "l2=l1.copy()\n",
    "l2.append(6)\n",
    "print(l1)\n",
    "print(l2)"
   ]
  },
  {
   "cell_type": "markdown",
   "id": "b1b140a8-d7d5-4a70-88e3-30f74c74007d",
   "metadata": {},
   "source": [
    "### Index"
   ]
  },
  {
   "cell_type": "code",
   "execution_count": 147,
   "id": "5c9316a9-7c0d-423a-8db9-ca7e2361a1d0",
   "metadata": {},
   "outputs": [
    {
     "data": {
      "text/plain": [
       "2"
      ]
     },
     "execution_count": 147,
     "metadata": {},
     "output_type": "execute_result"
    }
   ],
   "source": [
    "#  index(): returns the index of first occurrence. start and end index are not \n",
    "# necessary parameters\n",
    "lst = [1,25,6]\n",
    "lst.index(6)"
   ]
  },
  {
   "cell_type": "code",
   "execution_count": 149,
   "id": "871acb9c-e4b0-4806-a649-2d5217f84578",
   "metadata": {},
   "outputs": [
    {
     "data": {
      "text/plain": [
       "1"
      ]
     },
     "execution_count": 149,
     "metadata": {},
     "output_type": "execute_result"
    }
   ],
   "source": [
    "## min\n",
    "min(lst)"
   ]
  },
  {
   "cell_type": "code",
   "execution_count": 151,
   "id": "ac742b7d-f176-45ea-a3a3-96af936ab24c",
   "metadata": {},
   "outputs": [
    {
     "data": {
      "text/plain": [
       "25"
      ]
     },
     "execution_count": 151,
     "metadata": {},
     "output_type": "execute_result"
    }
   ],
   "source": [
    "## max\n",
    "max(lst)"
   ]
  },
  {
   "cell_type": "code",
   "execution_count": 153,
   "id": "2cfa3006-87f2-4852-adf7-9941ff337ec3",
   "metadata": {},
   "outputs": [
    {
     "data": {
      "text/plain": [
       "39"
      ]
     },
     "execution_count": 153,
     "metadata": {},
     "output_type": "execute_result"
    }
   ],
   "source": [
    "lst=[4,5,6,7,8,9]\n",
    "sum(lst)"
   ]
  },
  {
   "cell_type": "markdown",
   "id": "c6026e65-3191-44d9-84b9-edfe1e5a1c15",
   "metadata": {},
   "source": [
    "### Tuple creation"
   ]
  },
  {
   "cell_type": "code",
   "execution_count": 1,
   "id": "1d28efe5-b42c-46c6-b4c5-f78ae8d34df3",
   "metadata": {},
   "outputs": [
    {
     "data": {
      "text/plain": [
       "tuple"
      ]
     },
     "execution_count": 1,
     "metadata": {},
     "output_type": "execute_result"
    }
   ],
   "source": [
    "tup1 = ()   # empty tuple\n",
    "type(tup1)"
   ]
  },
  {
   "cell_type": "code",
   "execution_count": 3,
   "id": "a68b47b3-9812-41e7-baba-dff28fbc7e06",
   "metadata": {},
   "outputs": [
    {
     "data": {
      "text/plain": [
       "tuple"
      ]
     },
     "execution_count": 3,
     "metadata": {},
     "output_type": "execute_result"
    }
   ],
   "source": [
    "tup4=tuple()\n",
    "type(tup4)"
   ]
  },
  {
   "cell_type": "code",
   "execution_count": 5,
   "id": "2a876fc8-6750-4297-b653-b379b8b8e108",
   "metadata": {},
   "outputs": [
    {
     "data": {
      "text/plain": [
       "(50, 'subham', 14.15)"
      ]
     },
     "execution_count": 5,
     "metadata": {},
     "output_type": "execute_result"
    }
   ],
   "source": [
    "tup5 = (50,'subham',14.15)\n",
    "tup5"
   ]
  },
  {
   "cell_type": "code",
   "execution_count": 7,
   "id": "b25eeb66-36c5-40f1-b789-4de41f3ceb63",
   "metadata": {},
   "outputs": [],
   "source": [
    "tup3 = ('subham',45,(40,80))"
   ]
  },
  {
   "cell_type": "code",
   "execution_count": 9,
   "id": "7483111c-8b50-4232-966d-cf7a8360aa32",
   "metadata": {},
   "outputs": [],
   "source": [
    "tup4 = ('subham',45,[40,80],[100,150], {'ram' ,'sam'}, (99,24,35))"
   ]
  },
  {
   "cell_type": "code",
   "execution_count": 15,
   "id": "04ddcb13-db4e-4893-9f2e-73323216fa2f",
   "metadata": {},
   "outputs": [],
   "source": [
    "tup4[3][0]=250"
   ]
  },
  {
   "cell_type": "code",
   "execution_count": 17,
   "id": "b4935e7e-e9ca-46c0-83dd-bdacb4d4c9ed",
   "metadata": {},
   "outputs": [
    {
     "data": {
      "text/plain": [
       "('subham', 45, [40, 80], [250, 150], {'ram', 'sam'}, (99, 24, 35))"
      ]
     },
     "execution_count": 17,
     "metadata": {},
     "output_type": "execute_result"
    }
   ],
   "source": [
    "tup4"
   ]
  },
  {
   "cell_type": "code",
   "execution_count": 21,
   "id": "0b661a7b-def1-4f49-b033-e186cff5e726",
   "metadata": {},
   "outputs": [
    {
     "data": {
      "text/plain": [
       "3"
      ]
     },
     "execution_count": 21,
     "metadata": {},
     "output_type": "execute_result"
    }
   ],
   "source": [
    "len(tup5)"
   ]
  },
  {
   "cell_type": "markdown",
   "id": "001851b2-7284-410f-b155-5438fede455f",
   "metadata": {},
   "source": [
    "### Tuple indexing"
   ]
  },
  {
   "cell_type": "code",
   "execution_count": 26,
   "id": "0347cf91-45d3-4944-8c1f-7a664ad6e2be",
   "metadata": {},
   "outputs": [
    {
     "data": {
      "text/plain": [
       "'subham'"
      ]
     },
     "execution_count": 26,
     "metadata": {},
     "output_type": "execute_result"
    }
   ],
   "source": [
    "tup3[0]"
   ]
  },
  {
   "cell_type": "code",
   "execution_count": 28,
   "id": "e8ff85fe-06a1-45fb-bedf-2cea8e12ae9f",
   "metadata": {},
   "outputs": [
    {
     "data": {
      "text/plain": [
       "40"
      ]
     },
     "execution_count": 28,
     "metadata": {},
     "output_type": "execute_result"
    }
   ],
   "source": [
    "tup4[2][0]"
   ]
  },
  {
   "cell_type": "code",
   "execution_count": 34,
   "id": "241e4a83-245a-4c2a-abaa-ae66b85cf421",
   "metadata": {},
   "outputs": [
    {
     "data": {
      "text/plain": [
       "[40, 80]"
      ]
     },
     "execution_count": 34,
     "metadata": {},
     "output_type": "execute_result"
    }
   ],
   "source": [
    "tup4[-4]"
   ]
  },
  {
   "cell_type": "markdown",
   "id": "7f88fd82-603f-4738-840f-57ebc0984336",
   "metadata": {},
   "source": [
    "### Tuple slicing"
   ]
  },
  {
   "cell_type": "code",
   "execution_count": 37,
   "id": "68143cb9-fb99-4ecc-a3bc-9dc27a31e3cc",
   "metadata": {},
   "outputs": [],
   "source": [
    "mytuple = ('one','two','three','four','five','six','seven','eight','nine','ten')"
   ]
  },
  {
   "cell_type": "code",
   "execution_count": 39,
   "id": "d72bdbf4-187e-438b-a075-de09973604a5",
   "metadata": {},
   "outputs": [
    {
     "data": {
      "text/plain": [
       "('one', 'two', 'three', 'four')"
      ]
     },
     "execution_count": 39,
     "metadata": {},
     "output_type": "execute_result"
    }
   ],
   "source": [
    "mytuple[0:4]"
   ]
  },
  {
   "cell_type": "code",
   "execution_count": 41,
   "id": "f1516a59-203f-4bd1-8f1b-f61078c62a6d",
   "metadata": {},
   "outputs": [
    {
     "data": {
      "text/plain": [
       "('three', 'four')"
      ]
     },
     "execution_count": 41,
     "metadata": {},
     "output_type": "execute_result"
    }
   ],
   "source": [
    "mytuple[2:4]"
   ]
  },
  {
   "cell_type": "code",
   "execution_count": 43,
   "id": "9567e799-cfe7-427f-a370-f5c8f5f606c6",
   "metadata": {},
   "outputs": [
    {
     "data": {
      "text/plain": [
       "('one', 'two', 'three')"
      ]
     },
     "execution_count": 43,
     "metadata": {},
     "output_type": "execute_result"
    }
   ],
   "source": [
    "mytuple[:3]"
   ]
  },
  {
   "cell_type": "code",
   "execution_count": 45,
   "id": "9c63e33e-5444-4865-867b-1a4210ad32cb",
   "metadata": {},
   "outputs": [
    {
     "data": {
      "text/plain": [
       "('seven', 'eight', 'nine', 'ten')"
      ]
     },
     "execution_count": 45,
     "metadata": {},
     "output_type": "execute_result"
    }
   ],
   "source": [
    "mytuple[-4:]"
   ]
  },
  {
   "cell_type": "code",
   "execution_count": 47,
   "id": "a9c6f050-5678-4572-9a10-878a3a1f9385",
   "metadata": {},
   "outputs": [
    {
     "data": {
      "text/plain": [
       "('nine', 'five', 'one')"
      ]
     },
     "execution_count": 47,
     "metadata": {},
     "output_type": "execute_result"
    }
   ],
   "source": [
    "mytuple[-2::-4]"
   ]
  },
  {
   "cell_type": "code",
   "execution_count": 49,
   "id": "883aa8a4-98cb-4e4a-8070-2db0297ce32d",
   "metadata": {},
   "outputs": [
    {
     "data": {
      "text/plain": [
       "('one', 'two')"
      ]
     },
     "execution_count": 49,
     "metadata": {},
     "output_type": "execute_result"
    }
   ],
   "source": [
    "mytuple[:2]"
   ]
  },
  {
   "cell_type": "markdown",
   "id": "24b70a24-4407-42db-b7ee-af24c9d4ebd0",
   "metadata": {},
   "source": [
    "### Tuple methods"
   ]
  },
  {
   "cell_type": "code",
   "execution_count": 54,
   "id": "547a6fd5-4796-4060-81c6-a77cbc53ba8b",
   "metadata": {},
   "outputs": [],
   "source": [
    "mytuple1 = ('one','two','three','four','one','two','three')"
   ]
  },
  {
   "cell_type": "markdown",
   "id": "2a0f0cff-cca2-4c0d-aa46-095ce527bed7",
   "metadata": {},
   "source": [
    "### Count"
   ]
  },
  {
   "cell_type": "code",
   "execution_count": 57,
   "id": "3ed6f8dd-0986-48c4-9e34-f86d3b23e54f",
   "metadata": {},
   "outputs": [
    {
     "data": {
      "text/plain": [
       "1"
      ]
     },
     "execution_count": 57,
     "metadata": {},
     "output_type": "execute_result"
    }
   ],
   "source": [
    "mytuple.count('one')"
   ]
  },
  {
   "cell_type": "code",
   "execution_count": 61,
   "id": "c65ef743-64cf-4cdf-abc4-2b52fb865baa",
   "metadata": {},
   "outputs": [
    {
     "data": {
      "text/plain": [
       "2"
      ]
     },
     "execution_count": 61,
     "metadata": {},
     "output_type": "execute_result"
    }
   ],
   "source": [
    "mytuple1.count('two')"
   ]
  },
  {
   "cell_type": "markdown",
   "id": "665dc337-1983-4a76-9855-2c6c45b76dfb",
   "metadata": {},
   "source": [
    "### Index position"
   ]
  },
  {
   "cell_type": "code",
   "execution_count": 64,
   "id": "5a9c8184-7905-497e-a430-473679bba732",
   "metadata": {},
   "outputs": [
    {
     "data": {
      "text/plain": [
       "5"
      ]
     },
     "execution_count": 64,
     "metadata": {},
     "output_type": "execute_result"
    }
   ],
   "source": [
    "mytuple.index('six')"
   ]
  },
  {
   "cell_type": "markdown",
   "id": "2d3b8cfb-6119-4223-8d2f-b373caa46e3e",
   "metadata": {},
   "source": [
    "### Sorting"
   ]
  },
  {
   "cell_type": "code",
   "execution_count": 67,
   "id": "77d67d65-412b-484b-8277-31cca0ee9789",
   "metadata": {},
   "outputs": [],
   "source": [
    "mytuple5 = (45,62,45,42,54,85,27)"
   ]
  },
  {
   "cell_type": "code",
   "execution_count": 71,
   "id": "aca1f004-9819-4961-a61a-a2b2cf0c8c6a",
   "metadata": {},
   "outputs": [
    {
     "data": {
      "text/plain": [
       "[27, 42, 45, 45, 54, 62, 85]"
      ]
     },
     "execution_count": 71,
     "metadata": {},
     "output_type": "execute_result"
    }
   ],
   "source": [
    "sorted(mytuple5)"
   ]
  },
  {
   "cell_type": "code",
   "execution_count": 73,
   "id": "bc76124f-7b6d-4e27-b92d-c270be52e50a",
   "metadata": {},
   "outputs": [
    {
     "data": {
      "text/plain": [
       "[85, 62, 54, 45, 45, 42, 27]"
      ]
     },
     "execution_count": 73,
     "metadata": {},
     "output_type": "execute_result"
    }
   ],
   "source": [
    "sorted(mytuple5,reverse=True)"
   ]
  },
  {
   "cell_type": "code",
   "execution_count": 75,
   "id": "176390ce-eb44-4f0f-baa0-89d00514f404",
   "metadata": {},
   "outputs": [
    {
     "data": {
      "text/plain": [
       "(45, 62, 45, 42, 54, 85, 27)"
      ]
     },
     "execution_count": 75,
     "metadata": {},
     "output_type": "execute_result"
    }
   ],
   "source": [
    "mytuple5"
   ]
  },
  {
   "cell_type": "markdown",
   "id": "32a3ff8d-3afe-4af7-9027-8d46e45fe134",
   "metadata": {},
   "source": [
    "### Tuple membership"
   ]
  },
  {
   "cell_type": "code",
   "execution_count": 78,
   "id": "5ce5d310-e5fa-4fe6-8ab7-def4cfe9c9d4",
   "metadata": {},
   "outputs": [],
   "source": [
    "mytuple = ('one','two','three','four','five','six','seven','eight','nine','ten')"
   ]
  },
  {
   "cell_type": "code",
   "execution_count": 82,
   "id": "a74a259a-f9a5-407f-a837-5b8aebff3134",
   "metadata": {},
   "outputs": [
    {
     "data": {
      "text/plain": [
       "True"
      ]
     },
     "execution_count": 82,
     "metadata": {},
     "output_type": "execute_result"
    }
   ],
   "source": [
    "'eight' in mytuple"
   ]
  },
  {
   "cell_type": "code",
   "execution_count": 84,
   "id": "6f102c6c-2ee7-4658-b2d6-d54358fade81",
   "metadata": {},
   "outputs": [
    {
     "data": {
      "text/plain": [
       "False"
      ]
     },
     "execution_count": 84,
     "metadata": {},
     "output_type": "execute_result"
    }
   ],
   "source": [
    "'eleven' in mytuple"
   ]
  },
  {
   "cell_type": "markdown",
   "id": "83205c53-a6ad-47f2-afb4-11de35c16a07",
   "metadata": {},
   "source": [
    "### Sets"
   ]
  },
  {
   "cell_type": "code",
   "execution_count": 1,
   "id": "eec2585d-5f5b-4219-b559-6074a60fd183",
   "metadata": {},
   "outputs": [
    {
     "name": "stdout",
     "output_type": "stream",
     "text": [
      "set()\n",
      "<class 'set'>\n"
     ]
    }
   ],
   "source": [
    "## defining an empy set\n",
    "set_var=set()\n",
    "print(set_var)\n",
    "print(type(set_var))"
   ]
  },
  {
   "cell_type": "code",
   "execution_count": 7,
   "id": "9c14a560-55ff-45d1-b6f6-a916cf77b1d2",
   "metadata": {},
   "outputs": [
    {
     "name": "stdout",
     "output_type": "stream",
     "text": [
      "{'x', 50, 20, 40, 10, 30}\n"
     ]
    }
   ],
   "source": [
    "x = {10,20,30,40,50,'x'}\n",
    "print(x)"
   ]
  },
  {
   "cell_type": "code",
   "execution_count": 13,
   "id": "b99685b3-479f-4808-ac88-d8f8d4cfb8f8",
   "metadata": {},
   "outputs": [
    {
     "name": "stdout",
     "output_type": "stream",
     "text": [
      "{40, 10, 20, 30}\n"
     ]
    }
   ],
   "source": [
    "#automatically set won't consider duplicate element\n",
    "x = {10,20,30,40,40,40}\n",
    "print(x)"
   ]
  },
  {
   "cell_type": "code",
   "execution_count": 15,
   "id": "6755b8e0-c312-431c-aec9-030665305e74",
   "metadata": {},
   "outputs": [
    {
     "name": "stdout",
     "output_type": "stream",
     "text": [
      "[1, 2, 3]\n"
     ]
    }
   ],
   "source": [
    "#we cn make set from a list\n",
    "x = list(set([1,2,3,1,2,3,1,2]))\n",
    "print(x)"
   ]
  },
  {
   "cell_type": "code",
   "execution_count": 19,
   "id": "35bcf4b1-b282-4aa4-9064-a192aade3248",
   "metadata": {},
   "outputs": [
    {
     "data": {
      "text/plain": [
       "{'a', 'b', 'c'}"
      ]
     },
     "execution_count": 19,
     "metadata": {},
     "output_type": "execute_result"
    }
   ],
   "source": [
    "tup_set = set(('a', 'b', 'c'))\n",
    "tup_set"
   ]
  },
  {
   "cell_type": "code",
   "execution_count": 23,
   "id": "1c78d7ec-2f21-497f-b931-40e575434e95",
   "metadata": {},
   "outputs": [
    {
     "data": {
      "text/plain": [
       "{3, 6, 9, 12, 15, 18}"
      ]
     },
     "execution_count": 23,
     "metadata": {},
     "output_type": "execute_result"
    }
   ],
   "source": [
    "a = set(range(3,20,3))\n",
    "a"
   ]
  },
  {
   "cell_type": "markdown",
   "id": "9a282f15-f369-4695-b1e3-f2c3f0b2036d",
   "metadata": {},
   "source": [
    "### Set methods"
   ]
  },
  {
   "cell_type": "code",
   "execution_count": 26,
   "id": "eb90bde5-c106-4ec3-a4cf-111f2123a9c5",
   "metadata": {},
   "outputs": [
    {
     "data": {
      "text/plain": [
       "set()"
      ]
     },
     "execution_count": 26,
     "metadata": {},
     "output_type": "execute_result"
    }
   ],
   "source": [
    "d = set()\n",
    "d"
   ]
  },
  {
   "cell_type": "markdown",
   "id": "c9588a38-f02b-4738-9005-adde1ffca74c",
   "metadata": {},
   "source": [
    "### add()-->we can add single element"
   ]
  },
  {
   "cell_type": "code",
   "execution_count": 32,
   "id": "154bff12-cd01-47db-83ee-cecfce63db96",
   "metadata": {},
   "outputs": [
    {
     "data": {
      "text/plain": [
       "{4}"
      ]
     },
     "execution_count": 32,
     "metadata": {},
     "output_type": "execute_result"
    }
   ],
   "source": [
    "d.add(4)\n",
    "d"
   ]
  },
  {
   "cell_type": "code",
   "execution_count": 34,
   "id": "caf55747-4bb2-49fc-a717-8fb3eca1f652",
   "metadata": {},
   "outputs": [
    {
     "data": {
      "text/plain": [
       "{4, 5, 'a'}"
      ]
     },
     "execution_count": 34,
     "metadata": {},
     "output_type": "execute_result"
    }
   ],
   "source": [
    "d.add(4)\n",
    "d.add(5)\n",
    "d.add('a')\n",
    "d"
   ]
  },
  {
   "cell_type": "markdown",
   "id": "25c2ddac-db16-4e72-a27b-850b655970d9",
   "metadata": {},
   "source": [
    "### Update()-->add multiple elements"
   ]
  },
  {
   "cell_type": "code",
   "execution_count": 39,
   "id": "a5e0c7ac-ef4a-4f86-9d70-49b99fd32821",
   "metadata": {},
   "outputs": [
    {
     "name": "stdout",
     "output_type": "stream",
     "text": [
      "{2, 5, 6}\n"
     ]
    }
   ],
   "source": [
    "#add multiple elements\n",
    "d=set()\n",
    "d.update([5,6,2])\n",
    "print(d)"
   ]
  },
  {
   "cell_type": "code",
   "execution_count": 43,
   "id": "5b056baa-13a8-404c-a0ba-2a13a23f56de",
   "metadata": {},
   "outputs": [
    {
     "name": "stdout",
     "output_type": "stream",
     "text": [
      "{2, 4, 5, 6, 8, 9, 13}\n"
     ]
    }
   ],
   "source": [
    "#add list and set\n",
    "d.update([6,8], {13,4,9})\n",
    "print(d)"
   ]
  },
  {
   "cell_type": "markdown",
   "id": "7c1ebb6c-3a6f-4425-a7d0-cd6b8b3319e6",
   "metadata": {},
   "source": [
    "### copy()-->copy complite set"
   ]
  },
  {
   "cell_type": "code",
   "execution_count": 54,
   "id": "9d4e5c39-483b-487a-aec6-8fc947f0dd12",
   "metadata": {},
   "outputs": [
    {
     "data": {
      "text/plain": [
       "{2, 4, 5, 6, 8, 9, 13}"
      ]
     },
     "execution_count": 54,
     "metadata": {},
     "output_type": "execute_result"
    }
   ],
   "source": [
    "s = d.copy()\n",
    "s"
   ]
  },
  {
   "cell_type": "code",
   "execution_count": 56,
   "id": "08d9be46-ae02-4ba8-a814-edabe244cbc2",
   "metadata": {},
   "outputs": [
    {
     "data": {
      "text/plain": [
       "{2, 4, 5, 6, 8, 9, 13}"
      ]
     },
     "execution_count": 56,
     "metadata": {},
     "output_type": "execute_result"
    }
   ],
   "source": [
    "s.add(5)\n",
    "s"
   ]
  },
  {
   "cell_type": "code",
   "execution_count": 58,
   "id": "43d8f69a-fc80-4db2-ac3f-a710b81ee912",
   "metadata": {},
   "outputs": [
    {
     "data": {
      "text/plain": [
       "{2, 4, 5, 6, 8, 9, 13}"
      ]
     },
     "execution_count": 58,
     "metadata": {},
     "output_type": "execute_result"
    }
   ],
   "source": [
    "d"
   ]
  },
  {
   "cell_type": "markdown",
   "id": "9c3b6256-57dd-47b1-87dd-1abb4f394cca",
   "metadata": {},
   "source": [
    "### Delete elements from a set"
   ]
  },
  {
   "cell_type": "code",
   "execution_count": 61,
   "id": "f451f5ef-aa5f-4d29-b675-823ef163a3c2",
   "metadata": {},
   "outputs": [
    {
     "name": "stdout",
     "output_type": "stream",
     "text": [
      "{1, 2, 3, 4, 5, 6}\n",
      "{1, 2, 3, 4, 6}\n"
     ]
    }
   ],
   "source": [
    "d = {1,2,3,4,5,6}\n",
    "print(d)\n",
    "d.discard(5)\n",
    "print(d)"
   ]
  },
  {
   "cell_type": "code",
   "execution_count": 63,
   "id": "7501363b-498a-443a-9346-33fedfbd5b9d",
   "metadata": {},
   "outputs": [
    {
     "name": "stdout",
     "output_type": "stream",
     "text": [
      "{1, 2, 4, 6}\n"
     ]
    }
   ],
   "source": [
    "#discard an element not present in a set d\n",
    "d.remove(3)\n",
    "print(d)"
   ]
  },
  {
   "cell_type": "code",
   "execution_count": 65,
   "id": "c89a576b-33b7-4685-b054-659100454c9d",
   "metadata": {},
   "outputs": [
    {
     "name": "stdout",
     "output_type": "stream",
     "text": [
      "{3, 4, 'subham', 6, 7, 'sai'}\n"
     ]
    }
   ],
   "source": [
    "# we can lst item using pop() method\n",
    "d = {2,2,3,3,6,4,7,'subham','sai'}\n",
    "d.pop()\n",
    "print(d)"
   ]
  },
  {
   "cell_type": "code",
   "execution_count": 67,
   "id": "eb1bd1c9-23a3-403e-b9f8-662b8ec3e126",
   "metadata": {},
   "outputs": [
    {
     "name": "stdout",
     "output_type": "stream",
     "text": [
      "set()\n"
     ]
    }
   ],
   "source": [
    "d = {1,5,2,6}\n",
    "d.clear()\n",
    "print(d)"
   ]
  },
  {
   "cell_type": "markdown",
   "id": "a51f9dd6-4400-41fd-b987-a2652f802120",
   "metadata": {},
   "source": [
    "### Set operations"
   ]
  },
  {
   "cell_type": "code",
   "execution_count": 1,
   "id": "6fb96183-0afd-4c5f-8454-6fe687e30269",
   "metadata": {},
   "outputs": [],
   "source": [
    "set1 = {1,2,3,4,5}\n",
    "set2 = {4,5,6,7,8}"
   ]
  },
  {
   "cell_type": "code",
   "execution_count": 3,
   "id": "bae6845a-9e74-45b8-a730-36f1176aa8ca",
   "metadata": {},
   "outputs": [
    {
     "name": "stdout",
     "output_type": "stream",
     "text": [
      "{1, 2, 3, 4, 5, 6, 7, 8}\n"
     ]
    }
   ],
   "source": [
    "#union of 2 sets using / operater\n",
    "print(set1 | set2)"
   ]
  },
  {
   "cell_type": "code",
   "execution_count": 5,
   "id": "4044ef4c-e421-4778-b2e6-d40dc227a47f",
   "metadata": {},
   "outputs": [
    {
     "name": "stdout",
     "output_type": "stream",
     "text": [
      "{1, 2, 3, 4, 5, 6, 7, 8}\n"
     ]
    }
   ],
   "source": [
    "#another way of getting union of 2 sets\n",
    "print(set1.union(set2))"
   ]
  },
  {
   "cell_type": "code",
   "execution_count": 7,
   "id": "a2f8d3bb-8570-48cc-b99b-875bb8e4f5c9",
   "metadata": {},
   "outputs": [
    {
     "data": {
      "text/plain": [
       "{1, 2, 3, 4, 5}"
      ]
     },
     "execution_count": 7,
     "metadata": {},
     "output_type": "execute_result"
    }
   ],
   "source": [
    "set1"
   ]
  },
  {
   "cell_type": "markdown",
   "id": "db9ae8c0-af69-4022-ab02-747b60579f36",
   "metadata": {},
   "source": [
    "### intersection"
   ]
  },
  {
   "cell_type": "code",
   "execution_count": 10,
   "id": "7bb26912-325c-450f-b223-0c34aad4fae1",
   "metadata": {},
   "outputs": [
    {
     "name": "stdout",
     "output_type": "stream",
     "text": [
      "{4, 5}\n"
     ]
    }
   ],
   "source": [
    "#intersection of 2 sets using & operator\n",
    "print(set1 & set2)"
   ]
  },
  {
   "cell_type": "code",
   "execution_count": 12,
   "id": "0b634a89-ca95-4e7b-93a7-80f1e155b8fa",
   "metadata": {},
   "outputs": [
    {
     "name": "stdout",
     "output_type": "stream",
     "text": [
      "{4, 5}\n"
     ]
    }
   ],
   "source": [
    "#use intersection function\n",
    "print(set1.intersection(set2))"
   ]
  },
  {
   "cell_type": "markdown",
   "id": "672c3688-8e55-4bb3-b6f1-751cd6750fb1",
   "metadata": {},
   "source": [
    "### difference"
   ]
  },
  {
   "cell_type": "code",
   "execution_count": 15,
   "id": "7662a29d-0c83-40b4-9ec8-630a25f34c30",
   "metadata": {},
   "outputs": [
    {
     "name": "stdout",
     "output_type": "stream",
     "text": [
      "{1, 2, 3}\n"
     ]
    }
   ],
   "source": [
    "#set difference: set of elements that are only in set1 but not in set2\n",
    "print(set1 - set2)"
   ]
  },
  {
   "cell_type": "code",
   "execution_count": 17,
   "id": "a5c0755a-3e02-4d64-aeea-58ecbf1cf815",
   "metadata": {},
   "outputs": [
    {
     "name": "stdout",
     "output_type": "stream",
     "text": [
      "{1, 2, 3}\n"
     ]
    }
   ],
   "source": [
    "#use difference function\n",
    "print(set1.difference(set2))"
   ]
  },
  {
   "cell_type": "code",
   "execution_count": 21,
   "id": "2f55fcef-672a-48d5-8668-33a84afa9057",
   "metadata": {},
   "outputs": [
    {
     "name": "stdout",
     "output_type": "stream",
     "text": [
      "{8, 6, 7}\n"
     ]
    }
   ],
   "source": [
    "print(set2 - set1)"
   ]
  },
  {
   "cell_type": "markdown",
   "id": "dedd4044-5529-41a8-a148-65ba09f6c5e5",
   "metadata": {},
   "source": [
    "### diierence_update"
   ]
  },
  {
   "cell_type": "code",
   "execution_count": 24,
   "id": "cbd093f7-04ca-4fdb-afeb-00ab9b8dd308",
   "metadata": {},
   "outputs": [
    {
     "data": {
      "text/plain": [
       "{1, 2, 3}"
      ]
     },
     "execution_count": 24,
     "metadata": {},
     "output_type": "execute_result"
    }
   ],
   "source": [
    "set1.difference_update(set2)\n",
    "set1"
   ]
  },
  {
   "cell_type": "code",
   "execution_count": 26,
   "id": "1593d5fa-57f8-4c0f-9936-d6f605a14385",
   "metadata": {},
   "outputs": [
    {
     "data": {
      "text/plain": [
       "{4, 5, 6, 7, 8}"
      ]
     },
     "execution_count": 26,
     "metadata": {},
     "output_type": "execute_result"
    }
   ],
   "source": [
    "set2.difference_update(set1)\n",
    "set2"
   ]
  },
  {
   "cell_type": "code",
   "execution_count": 28,
   "id": "7a2cff7a-3122-483b-943f-f5227799a0d7",
   "metadata": {},
   "outputs": [],
   "source": [
    "set1 = {1,2,3,4,5}\n",
    "set2 = {3,4,5,6,7}"
   ]
  },
  {
   "cell_type": "code",
   "execution_count": 30,
   "id": "179e39a6-dc3a-4f54-991a-7c72b9a1db08",
   "metadata": {},
   "outputs": [
    {
     "name": "stdout",
     "output_type": "stream",
     "text": [
      "{1, 2, 6, 7}\n"
     ]
    }
   ],
   "source": [
    "#use ^ operator\n",
    "print(set1^set2)"
   ]
  },
  {
   "cell_type": "code",
   "execution_count": 32,
   "id": "31f3d5d4-f237-49ad-9c2f-e4d6afdd4c63",
   "metadata": {},
   "outputs": [
    {
     "name": "stdout",
     "output_type": "stream",
     "text": [
      "{1, 2, 6, 7}\n"
     ]
    }
   ],
   "source": [
    "#use symmetric_difference function\n",
    "print(set1.symmetric_difference(set2))"
   ]
  },
  {
   "cell_type": "markdown",
   "id": "dbf113d8-7a1c-47b0-84f7-44bb98d24479",
   "metadata": {},
   "source": [
    "### symmetric_difference"
   ]
  },
  {
   "cell_type": "code",
   "execution_count": 35,
   "id": "1afd1dcc-640e-4141-b06b-90a17277d4ed",
   "metadata": {},
   "outputs": [
    {
     "data": {
      "text/plain": [
       "{1, 2, 6, 7}"
      ]
     },
     "execution_count": 35,
     "metadata": {},
     "output_type": "execute_result"
    }
   ],
   "source": [
    "set2.symmetric_difference_update(set1)\n",
    "set2"
   ]
  },
  {
   "cell_type": "code",
   "execution_count": 37,
   "id": "490bf837-20a6-4405-8e0a-7f83532fb47f",
   "metadata": {},
   "outputs": [],
   "source": [
    "x = {2,3,4,5}\n",
    "y = {2,3,4,5,6}"
   ]
  },
  {
   "cell_type": "code",
   "execution_count": 39,
   "id": "62676452-886b-4f5a-a689-b1d6b9074f85",
   "metadata": {},
   "outputs": [
    {
     "data": {
      "text/plain": [
       "True"
      ]
     },
     "execution_count": 39,
     "metadata": {},
     "output_type": "execute_result"
    }
   ],
   "source": [
    "x.issubset(y)"
   ]
  },
  {
   "cell_type": "code",
   "execution_count": 41,
   "id": "3682bdf9-fa48-4b27-93ef-0fb3afdf4106",
   "metadata": {},
   "outputs": [
    {
     "data": {
      "text/plain": [
       "False"
      ]
     },
     "execution_count": 41,
     "metadata": {},
     "output_type": "execute_result"
    }
   ],
   "source": [
    "y.issubset(x)"
   ]
  },
  {
   "cell_type": "markdown",
   "id": "dfe5cb2b-268a-41be-9357-dc1fe3d1d135",
   "metadata": {},
   "source": [
    "### Dictionaries"
   ]
  },
  {
   "cell_type": "code",
   "execution_count": 45,
   "id": "b552e063-17bb-4256-8819-2f033302403f",
   "metadata": {},
   "outputs": [
    {
     "data": {
      "text/plain": [
       "dict"
      ]
     },
     "execution_count": 45,
     "metadata": {},
     "output_type": "execute_result"
    }
   ],
   "source": [
    "dic={}\n",
    "type(dic)"
   ]
  },
  {
   "cell_type": "code",
   "execution_count": 47,
   "id": "639b19e6-d60c-4b7e-b915-e1b90194edf2",
   "metadata": {},
   "outputs": [
    {
     "name": "stdout",
     "output_type": "stream",
     "text": [
      "{}\n"
     ]
    }
   ],
   "source": [
    "print(dic)"
   ]
  },
  {
   "cell_type": "code",
   "execution_count": 49,
   "id": "050b024b-da09-4f5c-9038-f92620e6e62a",
   "metadata": {},
   "outputs": [
    {
     "data": {
      "text/plain": [
       "dict"
      ]
     },
     "execution_count": 49,
     "metadata": {},
     "output_type": "execute_result"
    }
   ],
   "source": [
    "d=dict()\n",
    "type(d)"
   ]
  },
  {
   "cell_type": "code",
   "execution_count": 51,
   "id": "3bf1ea03-af76-4ef0-b1e0-4dd031980f54",
   "metadata": {},
   "outputs": [
    {
     "name": "stdout",
     "output_type": "stream",
     "text": [
      "{}\n"
     ]
    }
   ],
   "source": [
    "print(d)"
   ]
  },
  {
   "cell_type": "code",
   "execution_count": 53,
   "id": "34608738-110d-4616-a63c-f618f820f161",
   "metadata": {},
   "outputs": [
    {
     "data": {
      "text/plain": [
       "dict"
      ]
     },
     "execution_count": 53,
     "metadata": {},
     "output_type": "execute_result"
    }
   ],
   "source": [
    "## let create a dictinary\n",
    "my_dict={\"car1\":\"bmw\",\"car2\":\"lambo\",\"car3\":\"velar\"}\n",
    "type(my_dict)"
   ]
  },
  {
   "cell_type": "code",
   "execution_count": 57,
   "id": "e10278fa-732c-4f76-be67-6f71dfc02fbb",
   "metadata": {},
   "outputs": [
    {
     "data": {
      "text/plain": [
       "'bmw'"
      ]
     },
     "execution_count": 57,
     "metadata": {},
     "output_type": "execute_result"
    }
   ],
   "source": [
    "##Access the item values based on keys\n",
    "my_dict['car1']"
   ]
  },
  {
   "cell_type": "code",
   "execution_count": 61,
   "id": "64f01280-7be5-43da-a35c-87e663642ee1",
   "metadata": {},
   "outputs": [],
   "source": [
    "dict1 = {'key1': 123,'key2': [4,5,6],'key3':(56,8,32),'key4':['item1','item2','item3']}"
   ]
  },
  {
   "cell_type": "code",
   "execution_count": 69,
   "id": "025f247d-0c72-4f15-b65f-938ddaa849cb",
   "metadata": {},
   "outputs": [
    {
     "data": {
      "text/plain": [
       "123"
      ]
     },
     "execution_count": 69,
     "metadata": {},
     "output_type": "execute_result"
    }
   ],
   "source": [
    "dict1['key1']"
   ]
  },
  {
   "cell_type": "code",
   "execution_count": 71,
   "id": "ea602378-87e6-4b64-a9ee-706839d6e782",
   "metadata": {},
   "outputs": [
    {
     "data": {
      "text/plain": [
       "dict_keys(['key1', 'key2', 'key', 'key4'])"
      ]
     },
     "execution_count": 71,
     "metadata": {},
     "output_type": "execute_result"
    }
   ],
   "source": [
    "dict1.keys()"
   ]
  },
  {
   "cell_type": "code",
   "execution_count": 73,
   "id": "13714185-46ff-4624-a5c0-e332a8cd9050",
   "metadata": {},
   "outputs": [
    {
     "data": {
      "text/plain": [
       "dict_values([123, [4, 5, 6], (56, 8, 32), ['item1', 'item2', 'item3']])"
      ]
     },
     "execution_count": 73,
     "metadata": {},
     "output_type": "execute_result"
    }
   ],
   "source": [
    "dict1.values()"
   ]
  },
  {
   "cell_type": "code",
   "execution_count": 75,
   "id": "007dfc60-cf9c-4c51-9eca-7c6ac1e3c143",
   "metadata": {},
   "outputs": [
    {
     "data": {
      "text/plain": [
       "dict_items([('car1', 'bmw'), ('car2', 'lambo'), ('car3', 'velar')])"
      ]
     },
     "execution_count": 75,
     "metadata": {},
     "output_type": "execute_result"
    }
   ],
   "source": [
    "my_dict.items()"
   ]
  },
  {
   "cell_type": "code",
   "execution_count": 77,
   "id": "47867df0-2dd0-4d67-8059-6effa2175c1a",
   "metadata": {},
   "outputs": [],
   "source": [
    "## adding items in dictinaries1970\n",
    "my_dict['car4']='bmw 3.0'"
   ]
  },
  {
   "cell_type": "code",
   "execution_count": 79,
   "id": "df605589-fc30-467a-9ba3-65354e4a2666",
   "metadata": {},
   "outputs": [
    {
     "data": {
      "text/plain": [
       "{'car1': 'bmw', 'car2': 'lambo', 'car3': 'velar', 'car4': 'bmw 3.0'}"
      ]
     },
     "execution_count": 79,
     "metadata": {},
     "output_type": "execute_result"
    }
   ],
   "source": [
    "my_dict"
   ]
  },
  {
   "cell_type": "code",
   "execution_count": 81,
   "id": "adb3b320-0952-4632-a9ed-f08418c7c3d1",
   "metadata": {},
   "outputs": [],
   "source": [
    "my_dict['car1']='honda'"
   ]
  },
  {
   "cell_type": "code",
   "execution_count": 83,
   "id": "d1c41683-6b7e-4456-aa24-b73f6103761e",
   "metadata": {},
   "outputs": [
    {
     "data": {
      "text/plain": [
       "{'car1': 'honda', 'car2': 'lambo', 'car3': 'velar', 'car4': 'bmw 3.0'}"
      ]
     },
     "execution_count": 83,
     "metadata": {},
     "output_type": "execute_result"
    }
   ],
   "source": [
    "my_dict"
   ]
  },
  {
   "cell_type": "markdown",
   "id": "63e11a5e-a763-4917-bbbd-d770437e9f39",
   "metadata": {},
   "source": [
    "### Nested Dictionary"
   ]
  },
  {
   "cell_type": "code",
   "execution_count": 1,
   "id": "1ebd096c-5e80-4f46-bca0-499bbc9c8e13",
   "metadata": {},
   "outputs": [],
   "source": [
    "car1_model={'mercedes':1960}\n",
    "car2_model={'bmw':1940}\n",
    "car3_model={'audi':1950}\n",
    "car_type={'car1':car1_model,'car2':car2_model,'car3':car3_model}"
   ]
  },
  {
   "cell_type": "code",
   "execution_count": 3,
   "id": "647b64b8-db50-4065-9710-832ae93db2c5",
   "metadata": {},
   "outputs": [
    {
     "name": "stdout",
     "output_type": "stream",
     "text": [
      "{'car1': {'mercedes': 1960}, 'car2': {'bmw': 1940}, 'car3': {'audi': 1950}}\n"
     ]
    }
   ],
   "source": [
    "print(car_type)"
   ]
  },
  {
   "cell_type": "code",
   "execution_count": 5,
   "id": "614cb31d-f925-4af6-bd16-8da0b9c79062",
   "metadata": {},
   "outputs": [
    {
     "name": "stdout",
     "output_type": "stream",
     "text": [
      "{'mercedes': 1960}\n"
     ]
    }
   ],
   "source": [
    "## Accessing the items in the dictionary\n",
    "print(car_type['car1'])"
   ]
  },
  {
   "cell_type": "code",
   "execution_count": 7,
   "id": "842eadf0-12b5-424e-a7b6-1399b4538a01",
   "metadata": {},
   "outputs": [
    {
     "name": "stdout",
     "output_type": "stream",
     "text": [
      "1960\n"
     ]
    }
   ],
   "source": [
    "print(car_type['car1']['mercedes'])"
   ]
  },
  {
   "cell_type": "code",
   "execution_count": 9,
   "id": "245cedad-6860-4960-8a8a-2103756409cd",
   "metadata": {},
   "outputs": [],
   "source": [
    "marks={'history':45,'geogrraphy':18,'hindi':63}"
   ]
  },
  {
   "cell_type": "code",
   "execution_count": 11,
   "id": "336b3f81-9381-456d-a3e9-78e4c0f38efa",
   "metadata": {},
   "outputs": [
    {
     "data": {
      "text/plain": [
       "{'history': 45, 'geogrraphy': 18, 'hindi': 63, 'english': 47}"
      ]
     },
     "execution_count": 11,
     "metadata": {},
     "output_type": "execute_result"
    }
   ],
   "source": [
    "#adding elements\n",
    "marks['english']=47\n",
    "marks\n"
   ]
  },
  {
   "cell_type": "code",
   "execution_count": 13,
   "id": "38358a5e-3438-45e7-948d-db4e946b7e06",
   "metadata": {},
   "outputs": [
    {
     "data": {
      "text/plain": [
       "{'history': 45,\n",
       " 'geogrraphy': 18,\n",
       " 'hindi': 63,\n",
       " 'english': 47,\n",
       " 'math': 69,\n",
       " 'odia': 78}"
      ]
     },
     "execution_count": 13,
     "metadata": {},
     "output_type": "execute_result"
    }
   ],
   "source": [
    "marks.update({'math':69,'odia':78})\n",
    "marks"
   ]
  },
  {
   "cell_type": "code",
   "execution_count": 15,
   "id": "a7b8a953-54c2-4f5d-a214-eb5b60e70351",
   "metadata": {},
   "outputs": [
    {
     "data": {
      "text/plain": [
       "{'history': 45,\n",
       " 'geogrraphy': 18,\n",
       " 'hindi': 701,\n",
       " 'english': 47,\n",
       " 'math': 69,\n",
       " 'odia': 78}"
      ]
     },
     "execution_count": 15,
     "metadata": {},
     "output_type": "execute_result"
    }
   ],
   "source": [
    "marks['hindi']=701\n",
    "marks"
   ]
  },
  {
   "cell_type": "code",
   "execution_count": 17,
   "id": "5b7a57f7-2e31-4598-addb-f6357cfc27ee",
   "metadata": {},
   "outputs": [
    {
     "data": {
      "text/plain": [
       "{'history': 45, 'geogrraphy': 18, 'english': 47, 'math': 69, 'odia': 78}"
      ]
     },
     "execution_count": 17,
     "metadata": {},
     "output_type": "execute_result"
    }
   ],
   "source": [
    "del marks['hindi']\n",
    "marks"
   ]
  },
  {
   "cell_type": "code",
   "execution_count": 23,
   "id": "38a80b97-244f-43ad-a7d0-378efb880346",
   "metadata": {},
   "outputs": [
    {
     "ename": "NameError",
     "evalue": "name 'dict1' is not defined",
     "output_type": "error",
     "traceback": [
      "\u001b[1;31m---------------------------------------------------------------------------\u001b[0m",
      "\u001b[1;31mNameError\u001b[0m                                 Traceback (most recent call last)",
      "Cell \u001b[1;32mIn[23], line 1\u001b[0m\n\u001b[1;32m----> 1\u001b[0m dict1\n",
      "\u001b[1;31mNameError\u001b[0m: name 'dict1' is not defined"
     ]
    }
   ],
   "source": [
    "dict1"
   ]
  },
  {
   "cell_type": "code",
   "execution_count": null,
   "id": "0bd4028c-23f5-4abd-944b-aa7e9f9482ec",
   "metadata": {},
   "outputs": [],
   "source": []
  }
 ],
 "metadata": {
  "kernelspec": {
   "display_name": "Python 3 (ipykernel)",
   "language": "python",
   "name": "python3"
  },
  "language_info": {
   "codemirror_mode": {
    "name": "ipython",
    "version": 3
   },
   "file_extension": ".py",
   "mimetype": "text/x-python",
   "name": "python",
   "nbconvert_exporter": "python",
   "pygments_lexer": "ipython3",
   "version": "3.12.4"
  }
 },
 "nbformat": 4,
 "nbformat_minor": 5
}
