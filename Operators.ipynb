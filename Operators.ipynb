{
 "cells": [
  {
   "cell_type": "markdown",
   "id": "362d920f-5e82-48c9-84c4-66ecbdb79f01",
   "metadata": {},
   "source": [
    "### Arithmatic"
   ]
  },
  {
   "cell_type": "code",
   "execution_count": 6,
   "id": "90949b69-a15e-4100-a661-839401d30a5a",
   "metadata": {},
   "outputs": [
    {
     "data": {
      "text/plain": [
       "7"
      ]
     },
     "execution_count": 6,
     "metadata": {},
     "output_type": "execute_result"
    }
   ],
   "source": [
    "# Addition\n",
    "3+4"
   ]
  },
  {
   "cell_type": "code",
   "execution_count": 8,
   "id": "0ced9c87-c00d-4047-a3d1-10fec1457ec8",
   "metadata": {},
   "outputs": [
    {
     "data": {
      "text/plain": [
       "14"
      ]
     },
     "execution_count": 8,
     "metadata": {},
     "output_type": "execute_result"
    }
   ],
   "source": [
    "# substraction\n",
    "54-40"
   ]
  },
  {
   "cell_type": "code",
   "execution_count": 10,
   "id": "9b407c26-b703-40ee-bab0-f9b91ee0ed7c",
   "metadata": {},
   "outputs": [
    {
     "data": {
      "text/plain": [
       "30"
      ]
     },
     "execution_count": 10,
     "metadata": {},
     "output_type": "execute_result"
    }
   ],
   "source": [
    "# multiplication\n",
    "6*5"
   ]
  },
  {
   "cell_type": "code",
   "execution_count": 12,
   "id": "c1d6d579-f60e-474f-8bda-0ee137091c63",
   "metadata": {},
   "outputs": [
    {
     "data": {
      "text/plain": [
       "4.0"
      ]
     },
     "execution_count": 12,
     "metadata": {},
     "output_type": "execute_result"
    }
   ],
   "source": [
    "# division\n",
    "60/15"
   ]
  },
  {
   "cell_type": "code",
   "execution_count": 14,
   "id": "7a03be08-40d2-44a6-82ff-36ff328aeeea",
   "metadata": {},
   "outputs": [
    {
     "data": {
      "text/plain": [
       "2500"
      ]
     },
     "execution_count": 14,
     "metadata": {},
     "output_type": "execute_result"
    }
   ],
   "source": [
    "# power/exponent\n",
    "50**2"
   ]
  },
  {
   "cell_type": "code",
   "execution_count": 16,
   "id": "0dcfc107-5418-4f99-a4b9-fb317fa7492a",
   "metadata": {},
   "outputs": [
    {
     "data": {
      "text/plain": [
       "3.3333333333333335"
      ]
     },
     "execution_count": 16,
     "metadata": {},
     "output_type": "execute_result"
    }
   ],
   "source": [
    "10/3"
   ]
  },
  {
   "cell_type": "code",
   "execution_count": 18,
   "id": "8c87a33c-b5e0-4458-ab64-e1295202030b",
   "metadata": {},
   "outputs": [
    {
     "data": {
      "text/plain": [
       "5"
      ]
     },
     "execution_count": 18,
     "metadata": {},
     "output_type": "execute_result"
    }
   ],
   "source": [
    "# floor division\n",
    "15//3"
   ]
  },
  {
   "cell_type": "code",
   "execution_count": 20,
   "id": "7cadc492-d60f-49d8-91c6-7f9cdc2829cf",
   "metadata": {},
   "outputs": [
    {
     "data": {
      "text/plain": [
       "1"
      ]
     },
     "execution_count": 20,
     "metadata": {},
     "output_type": "execute_result"
    }
   ],
   "source": [
    "# modulo--> remainder\n",
    "10%3"
   ]
  },
  {
   "cell_type": "code",
   "execution_count": 22,
   "id": "21f6d9ef-8833-48d6-831e-64ea2135743b",
   "metadata": {},
   "outputs": [
    {
     "data": {
      "text/plain": [
       "81"
      ]
     },
     "execution_count": 22,
     "metadata": {},
     "output_type": "execute_result"
    }
   ],
   "source": [
    "# parantasis\n",
    "(6+3) * (5+4)"
   ]
  },
  {
   "cell_type": "code",
   "execution_count": 3,
   "id": "f6141a62-73b3-4394-a1b5-b6f445a7eb8c",
   "metadata": {},
   "outputs": [
    {
     "name": "stdout",
     "output_type": "stream",
     "text": [
      "200\n",
      "0.5\n",
      "10\n"
     ]
    }
   ],
   "source": [
    "## mathematical operation with variable assignment\n",
    "a=10\n",
    "b=20\n",
    "print(a*b)\n",
    "print(a/b)\n",
    "print(a%b)"
   ]
  },
  {
   "cell_type": "markdown",
   "id": "7eba6f32-c183-4a69-b890-eb94f39330dd",
   "metadata": {},
   "source": [
    "### Arithmatic operators precedence"
   ]
  },
  {
   "cell_type": "code",
   "execution_count": 7,
   "id": "23203db9-a4d0-462f-927d-56dc4d934789",
   "metadata": {},
   "outputs": [
    {
     "data": {
      "text/plain": [
       "10.0"
      ]
     },
     "execution_count": 7,
     "metadata": {},
     "output_type": "execute_result"
    }
   ],
   "source": [
    "a-b*a/b+a ##BODMAS"
   ]
  },
  {
   "cell_type": "code",
   "execution_count": 9,
   "id": "4187c79f-9943-4a89-8bf4-d428f2512967",
   "metadata": {},
   "outputs": [
    {
     "data": {
      "text/plain": [
       "16"
      ]
     },
     "execution_count": 9,
     "metadata": {},
     "output_type": "execute_result"
    }
   ],
   "source": [
    "(2*(2+6))"
   ]
  },
  {
   "cell_type": "code",
   "execution_count": 11,
   "id": "14df6354-6229-4d8c-ab1b-00ff463afac9",
   "metadata": {},
   "outputs": [
    {
     "data": {
      "text/plain": [
       "19676"
      ]
     },
     "execution_count": 11,
     "metadata": {},
     "output_type": "execute_result"
    }
   ],
   "source": [
    "5//8%4+3**9-7"
   ]
  },
  {
   "cell_type": "code",
   "execution_count": 13,
   "id": "5b6b046f-a4d1-4ab8-b5e6-6a2784cac6f3",
   "metadata": {},
   "outputs": [
    {
     "data": {
      "text/plain": [
       "6.5"
      ]
     },
     "execution_count": 13,
     "metadata": {},
     "output_type": "execute_result"
    }
   ],
   "source": [
    "8//6*6/4+5%4**6"
   ]
  },
  {
   "cell_type": "markdown",
   "id": "510faac9-0cdf-4f26-a43e-8be8e94286fd",
   "metadata": {},
   "source": [
    "### Comparision/relational operators "
   ]
  },
  {
   "cell_type": "code",
   "execution_count": 20,
   "id": "27a520bf-6c14-4d47-9b93-5f825c2ad8d5",
   "metadata": {},
   "outputs": [
    {
     "data": {
      "text/plain": [
       "True"
      ]
     },
     "execution_count": 20,
     "metadata": {},
     "output_type": "execute_result"
    }
   ],
   "source": [
    "# greater than\n",
    "54>21"
   ]
  },
  {
   "cell_type": "code",
   "execution_count": 22,
   "id": "0820d5de-0c26-4aef-99cb-0667de3e1803",
   "metadata": {},
   "outputs": [
    {
     "data": {
      "text/plain": [
       "False"
      ]
     },
     "execution_count": 22,
     "metadata": {},
     "output_type": "execute_result"
    }
   ],
   "source": [
    "# less than\n",
    "57<16"
   ]
  },
  {
   "cell_type": "code",
   "execution_count": 24,
   "id": "9db5c5e1-8883-4505-aafd-132c745df08d",
   "metadata": {},
   "outputs": [
    {
     "data": {
      "text/plain": [
       "False"
      ]
     },
     "execution_count": 24,
     "metadata": {},
     "output_type": "execute_result"
    }
   ],
   "source": [
    "4*4 < 3*3"
   ]
  },
  {
   "cell_type": "code",
   "execution_count": 26,
   "id": "503e7c01-ff3f-449c-9820-1ca8848db6eb",
   "metadata": {},
   "outputs": [
    {
     "data": {
      "text/plain": [
       "True"
      ]
     },
     "execution_count": 26,
     "metadata": {},
     "output_type": "execute_result"
    }
   ],
   "source": [
    "# equal\n",
    "45==45"
   ]
  },
  {
   "cell_type": "code",
   "execution_count": 28,
   "id": "7b45f6d4-1877-4e0a-99a8-7cb62e1a5565",
   "metadata": {},
   "outputs": [
    {
     "data": {
      "text/plain": [
       "True"
      ]
     },
     "execution_count": 28,
     "metadata": {},
     "output_type": "execute_result"
    }
   ],
   "source": [
    "# not equal\n",
    "3!=5"
   ]
  },
  {
   "cell_type": "code",
   "execution_count": 30,
   "id": "82448a87-fb37-4cfb-97f3-568588894c02",
   "metadata": {},
   "outputs": [
    {
     "data": {
      "text/plain": [
       "True"
      ]
     },
     "execution_count": 30,
     "metadata": {},
     "output_type": "execute_result"
    }
   ],
   "source": [
    "#generation than or equal to\n",
    "1>=1"
   ]
  },
  {
   "cell_type": "code",
   "execution_count": 32,
   "id": "36584e79-88a1-4f91-8d9e-f417919b8a17",
   "metadata": {},
   "outputs": [
    {
     "data": {
      "text/plain": [
       "True"
      ]
     },
     "execution_count": 32,
     "metadata": {},
     "output_type": "execute_result"
    }
   ],
   "source": [
    "#less than equal to\n",
    "5<=6"
   ]
  },
  {
   "cell_type": "code",
   "execution_count": 34,
   "id": "f97ca9cd-8f43-4907-91aa-ef272022bd8a",
   "metadata": {},
   "outputs": [
    {
     "data": {
      "text/plain": [
       "True"
      ]
     },
     "execution_count": 34,
     "metadata": {},
     "output_type": "execute_result"
    }
   ],
   "source": [
    "45==45.0"
   ]
  },
  {
   "cell_type": "code",
   "execution_count": 36,
   "id": "a90744c2-9551-44bf-bced-673742873cdc",
   "metadata": {},
   "outputs": [
    {
     "data": {
      "text/plain": [
       "False"
      ]
     },
     "execution_count": 36,
     "metadata": {},
     "output_type": "execute_result"
    }
   ],
   "source": [
    "'hi' == 'HI'"
   ]
  },
  {
   "cell_type": "markdown",
   "id": "020d1a18-7fc2-4588-8fd9-eb2be7938099",
   "metadata": {},
   "source": [
    "### Bitwise operator"
   ]
  },
  {
   "cell_type": "code",
   "execution_count": 39,
   "id": "8a76c448-ca39-40b2-8fde-c1c3e1c113ca",
   "metadata": {},
   "outputs": [
    {
     "data": {
      "text/plain": [
       "'0b1100100'"
      ]
     },
     "execution_count": 39,
     "metadata": {},
     "output_type": "execute_result"
    }
   ],
   "source": [
    "bin(100)"
   ]
  },
  {
   "cell_type": "code",
   "execution_count": 45,
   "id": "4b7ab168-f75a-4e5e-85be-3ca72c8a3f4e",
   "metadata": {},
   "outputs": [
    {
     "data": {
      "text/plain": [
       "37"
      ]
     },
     "execution_count": 45,
     "metadata": {},
     "output_type": "execute_result"
    }
   ],
   "source": [
    "0b100101"
   ]
  },
  {
   "cell_type": "code",
   "execution_count": 47,
   "id": "764d7303-0465-4a4c-a749-1fd823a06abe",
   "metadata": {},
   "outputs": [
    {
     "name": "stdout",
     "output_type": "stream",
     "text": [
      "0.75\n"
     ]
    }
   ],
   "source": [
    "#Bitwise OR\n",
    "a=3           # 0 1 1\n",
    "b=4           # 1 0 1\n",
    "print(a/b)    # 1 1 1 result"
   ]
  },
  {
   "cell_type": "code",
   "execution_count": 49,
   "id": "56e14f46-fec3-4987-938e-290c8d08289c",
   "metadata": {},
   "outputs": [
    {
     "name": "stdout",
     "output_type": "stream",
     "text": [
      "1\n"
     ]
    }
   ],
   "source": [
    "#bitwise AND\n",
    "a=3   # 0 1 1\n",
    "b=5   # 1 0 1\n",
    "print(a & b)  # 0 0 1 result"
   ]
  },
  {
   "cell_type": "code",
   "execution_count": 51,
   "id": "484e0d46-f3eb-429f-9e2f-2df0a9072199",
   "metadata": {},
   "outputs": [
    {
     "data": {
      "text/plain": [
       "15"
      ]
     },
     "execution_count": 51,
     "metadata": {},
     "output_type": "execute_result"
    }
   ],
   "source": [
    "7|9"
   ]
  },
  {
   "cell_type": "code",
   "execution_count": 54,
   "id": "076879c3-c149-415b-9cda-91ed310213b0",
   "metadata": {},
   "outputs": [
    {
     "data": {
      "text/plain": [
       "1"
      ]
     },
     "execution_count": 54,
     "metadata": {},
     "output_type": "execute_result"
    }
   ],
   "source": [
    "7&9"
   ]
  },
  {
   "cell_type": "markdown",
   "id": "0209ae29-5e6f-407f-bb12-78b3491c8f32",
   "metadata": {},
   "source": [
    "### Logical operators"
   ]
  },
  {
   "cell_type": "code",
   "execution_count": 57,
   "id": "5204de31-90e1-463d-a449-756fe3e76098",
   "metadata": {},
   "outputs": [
    {
     "data": {
      "text/plain": [
       "True"
      ]
     },
     "execution_count": 57,
     "metadata": {},
     "output_type": "execute_result"
    }
   ],
   "source": [
    "(1 > 3) or (2 < 4)"
   ]
  },
  {
   "cell_type": "code",
   "execution_count": 59,
   "id": "f9a8b1d6-076a-4e18-b96c-40f5587f4af4",
   "metadata": {},
   "outputs": [
    {
     "data": {
      "text/plain": [
       "False"
      ]
     },
     "execution_count": 59,
     "metadata": {},
     "output_type": "execute_result"
    }
   ],
   "source": [
    "(1 >2) and (2 < 3)"
   ]
  },
  {
   "cell_type": "code",
   "execution_count": 63,
   "id": "d0e2aa24-e77a-4416-8031-d0b0b43a856c",
   "metadata": {},
   "outputs": [
    {
     "data": {
      "text/plain": [
       "False"
      ]
     },
     "execution_count": 63,
     "metadata": {},
     "output_type": "execute_result"
    }
   ],
   "source": [
    "not True"
   ]
  },
  {
   "cell_type": "code",
   "execution_count": 65,
   "id": "1e8a5326-884f-4fb0-9851-8c6e0cb53af3",
   "metadata": {},
   "outputs": [
    {
     "data": {
      "text/plain": [
       "True"
      ]
     },
     "execution_count": 65,
     "metadata": {},
     "output_type": "execute_result"
    }
   ],
   "source": [
    "not False"
   ]
  },
  {
   "cell_type": "code",
   "execution_count": 69,
   "id": "db2f22ed-0f7c-4780-9b3c-caa2c6e38c37",
   "metadata": {},
   "outputs": [
    {
     "data": {
      "text/plain": [
       "True"
      ]
     },
     "execution_count": 69,
     "metadata": {},
     "output_type": "execute_result"
    }
   ],
   "source": [
    "my_str='subham'\n",
    "my_str.isalpha() or str_example.isnum()"
   ]
  },
  {
   "cell_type": "code",
   "execution_count": 71,
   "id": "add86e19-984d-4961-a7ac-aa8bbb2ed708",
   "metadata": {},
   "outputs": [
    {
     "data": {
      "text/plain": [
       "True"
      ]
     },
     "execution_count": 71,
     "metadata": {},
     "output_type": "execute_result"
    }
   ],
   "source": [
    "(2 == 2) and (2 == 3) or (4 == 4)"
   ]
  },
  {
   "cell_type": "markdown",
   "id": "e6910a74-6b2e-454c-930a-5299449be650",
   "metadata": {},
   "source": [
    "### Assignment operators"
   ]
  },
  {
   "cell_type": "code",
   "execution_count": 19,
   "id": "91819c98-7fe7-4767-9bd6-4fb6dedf29a9",
   "metadata": {},
   "outputs": [
    {
     "ename": "SyntaxError",
     "evalue": "invalid syntax (1373422734.py, line 3)",
     "output_type": "error",
     "traceback": [
      "\u001b[1;36m  Cell \u001b[1;32mIn[19], line 3\u001b[1;36m\u001b[0m\n\u001b[1;33m    a on the Left.\u001b[0m\n\u001b[1;37m      ^\u001b[0m\n\u001b[1;31mSyntaxError\u001b[0m\u001b[1;31m:\u001b[0m invalid syntax\n"
     ]
    }
   ],
   "source": [
    "a=15\n",
    "a # is a simple assignment operator that assigns the value 15 on the right to the variable \n",
    "a on the Left."
   ]
  },
  {
   "cell_type": "markdown",
   "id": "a5b46509-372f-46e8-b28b-fd550f077f42",
   "metadata": {},
   "source": [
    "### Identity operators"
   ]
  },
  {
   "cell_type": "code",
   "execution_count": 22,
   "id": "a991ab75-826a-49bb-84ff-6732348ede3e",
   "metadata": {},
   "outputs": [
    {
     "name": "stdout",
     "output_type": "stream",
     "text": [
      "True\n"
     ]
    }
   ],
   "source": [
    "a = 6\n",
    "b = 6\n",
    "print(a is b)"
   ]
  },
  {
   "cell_type": "code",
   "execution_count": 24,
   "id": "84c2cdcb-d126-41fa-85b6-d0b054898bf4",
   "metadata": {},
   "outputs": [
    {
     "name": "stdout",
     "output_type": "stream",
     "text": [
      "True\n"
     ]
    }
   ],
   "source": [
    "s1 = \"satish\"\n",
    "s2 = \"satish\"\n",
    "print(s1 is s2)"
   ]
  },
  {
   "cell_type": "code",
   "execution_count": 26,
   "id": "7d712585-9479-49a6-bc7d-892700524122",
   "metadata": {},
   "outputs": [
    {
     "data": {
      "text/plain": [
       "True"
      ]
     },
     "execution_count": 26,
     "metadata": {},
     "output_type": "execute_result"
    }
   ],
   "source": [
    "a=6 \n",
    "b=7\n",
    "a is not b"
   ]
  },
  {
   "cell_type": "markdown",
   "id": "a51b9579-dbff-402e-8baf-ac07fe6d2463",
   "metadata": {},
   "source": [
    "### Membership operators "
   ]
  },
  {
   "cell_type": "code",
   "execution_count": 29,
   "id": "a5a31b93-f039-43a5-9053-2320401c7ac8",
   "metadata": {},
   "outputs": [
    {
     "data": {
      "text/plain": [
       "True"
      ]
     },
     "execution_count": 29,
     "metadata": {},
     "output_type": "execute_result"
    }
   ],
   "source": [
    "a= 'subham'\n",
    "'ham' in a"
   ]
  },
  {
   "cell_type": "code",
   "execution_count": 49,
   "id": "f617b157-becb-4ba6-81df-60df678e407e",
   "metadata": {},
   "outputs": [
    {
     "ename": "SyntaxError",
     "evalue": "invalid decimal literal (3850474873.py, line 1)",
     "output_type": "error",
     "traceback": [
      "\u001b[1;36m  Cell \u001b[1;32mIn[49], line 1\u001b[1;36m\u001b[0m\n\u001b[1;33m    1st = [1, 2, 3, 4]\u001b[0m\n\u001b[1;37m    ^\u001b[0m\n\u001b[1;31mSyntaxError\u001b[0m\u001b[1;31m:\u001b[0m invalid decimal literal\n"
     ]
    }
   ],
   "source": [
    "1st = [1, 2, 3, 4]\n",
    "1 in 1st            #check 1 is present in a given list or not"
   ]
  },
  {
   "cell_type": "code",
   "execution_count": null,
   "id": "cbad3948-da3b-463d-8b54-4f55bfb2bda4",
   "metadata": {},
   "outputs": [],
   "source": [
    "a=[1,2,3,4,5,6]"
   ]
  }
 ],
 "metadata": {
  "kernelspec": {
   "display_name": "Python 3 (ipykernel)",
   "language": "python",
   "name": "python3"
  },
  "language_info": {
   "codemirror_mode": {
    "name": "ipython",
    "version": 3
   },
   "file_extension": ".py",
   "mimetype": "text/x-python",
   "name": "python",
   "nbconvert_exporter": "python",
   "pygments_lexer": "ipython3",
   "version": "3.12.4"
  }
 },
 "nbformat": 4,
 "nbformat_minor": 5
}
