{
 "cells": [
  {
   "cell_type": "code",
   "execution_count": 9,
   "id": "8cead5a6-d247-4643-8ccc-7c1b586b3575",
   "metadata": {},
   "outputs": [
    {
     "name": "stdin",
     "output_type": "stream",
     "text": [
      "enter the value of a:  4\n",
      "enter the value of b:  5\n"
     ]
    },
    {
     "name": "stdout",
     "output_type": "stream",
     "text": [
      "ADD: 9\n",
      "sum: 9, Diff: -1, Mult:20, Div:0.8, Mod: 4\n"
     ]
    }
   ],
   "source": [
    "a = int(input(\"enter the value of a: \"))\n",
    "b = int(input(\"enter the value of b: \"))\n",
    "add=a+b\n",
    "sub=a-b\n",
    "mul=a*b\n",
    "div=a/b\n",
    "mod=a%b\n",
    "print(\"ADD:\",add)\n",
    "print(\"sum: {0}, Diff: {1}, Mult:{2}, Div:{3}, Mod: {4}\".format(add,sub,mul,div,mod))"
   ]
  },
  {
   "cell_type": "code",
   "execution_count": 11,
   "id": "ebe2bddc-bfc1-4bb3-951e-4da05045e1f5",
   "metadata": {},
   "outputs": [
    {
     "name": "stdout",
     "output_type": "stream",
     "text": [
      "Sum: 9, Diff: -1, Mul:20, Div:0.8, Mod:4\n"
     ]
    }
   ],
   "source": [
    "print(\"Sum: {}, Diff: {}, Mul:{}, Div:{}, Mod:{}\".format(add,sub,mul,div,mod))"
   ]
  },
  {
   "cell_type": "code",
   "execution_count": 13,
   "id": "21dba64b-b99c-40ec-b43d-5322fd7d3044",
   "metadata": {},
   "outputs": [
    {
     "name": "stdout",
     "output_type": "stream",
     "text": [
      "sum: 9, diff: -1,mul: 20, div:       0.800000,mod:4\n"
     ]
    }
   ],
   "source": [
    "print(\"sum: %d, diff: %d,mul: %d, div:%15.6f,mod:%d\" % (add,sub,mul,div,mod))"
   ]
  },
  {
   "cell_type": "code",
   "execution_count": null,
   "id": "caed4c32-60f1-4f38-8e84-1a4099558601",
   "metadata": {},
   "outputs": [],
   "source": []
  },
  {
   "cell_type": "code",
   "execution_count": 15,
   "id": "400996fe-014d-486f-8594-ea43ebc159fd",
   "metadata": {},
   "outputs": [
    {
     "name": "stdout",
     "output_type": "stream",
     "text": [
      "sum  | diff | mul  | div \n",
      "9    |  -1  |  20  | 0.8 \n"
     ]
    }
   ],
   "source": [
    "print('{0: <4} | {1:^4} | {2:^4} | {3:^4}'.format('sum','diff','mul','div'))\n",
    "print('{0:<4} | {1:^4} | {2:^4} | {3:^4}'.format(add, sub, mul, div))"
   ]
  },
  {
   "cell_type": "code",
   "execution_count": 19,
   "id": "069d8aed-7029-4c5b-b9c3-aa3440bbda7f",
   "metadata": {},
   "outputs": [
    {
     "name": "stdout",
     "output_type": "stream",
     "text": [
      "sum  | diff | mul  | div \n",
      "9    |  -1  |  20  | 0.8 \n"
     ]
    }
   ],
   "source": [
    "print('{0: <4} | {1:^4} | {2:^4} | {3:^4}'.format('sum','diff','mul','div'))\n",
    "print('{0:<4} | {1:^4} | {2:^4} | {3:^4}'.format(add, sub, mul, div))"
   ]
  },
  {
   "cell_type": "code",
   "execution_count": 21,
   "id": "46411ea5-d2f8-476d-af74-ed5ed813e94d",
   "metadata": {},
   "outputs": [
    {
     "name": "stdout",
     "output_type": "stream",
     "text": [
      "welcome to python 4 !\n"
     ]
    }
   ],
   "source": [
    "x=\"Master class\"\n",
    "print(f\"welcome to python {a} !\") #formatting string literials"
   ]
  },
  {
   "cell_type": "code",
   "execution_count": 25,
   "id": "20113faf-3569-457a-975c-1279220ea3e9",
   "metadata": {},
   "outputs": [
    {
     "name": "stdin",
     "output_type": "stream",
     "text": [
      "enter a company name - wipro\n",
      "enter the company of employees - 4546\n"
     ]
    },
    {
     "name": "stdout",
     "output_type": "stream",
     "text": [
      "the name of the company is and the number of employees are wipro 4546\n"
     ]
    }
   ],
   "source": [
    "s = input(\"enter a company name -\")\n",
    "v = input(\"enter the company of employees -\")\n",
    "print(\"the name of the company is and the number of employees are\",s,v)"
   ]
  },
  {
   "cell_type": "code",
   "execution_count": 39,
   "id": "8f1115ca-9713-4d47-8145-1b9afab643d7",
   "metadata": {},
   "outputs": [
    {
     "name": "stdout",
     "output_type": "stream",
     "text": [
      "the name of the company is wipro and the number of employees are 4546\n"
     ]
    }
   ],
   "source": [
    "print(\"the name of the company is\",s,\"and the number of employees are\",v)"
   ]
  },
  {
   "cell_type": "code",
   "execution_count": 53,
   "id": "4518ef9d-32d5-4917-af74-b513e00a4a1f",
   "metadata": {},
   "outputs": [
    {
     "name": "stdout",
     "output_type": "stream",
     "text": [
      "the name of company is wipro and the number of employees are 4546\n"
     ]
    }
   ],
   "source": [
    "print(f\"the name of company is {s} and the number of employees are {v}\")"
   ]
  },
  {
   "cell_type": "code",
   "execution_count": 55,
   "id": "8aa05c8e-80a8-40de-94fc-e5669cabd8d9",
   "metadata": {},
   "outputs": [
    {
     "name": "stdout",
     "output_type": "stream",
     "text": [
      "the name of company is wipro and the number of employees are 4546 \n"
     ]
    }
   ],
   "source": [
    "print(\"the name of company is {} and the number of employees are {} \".format(s,v))"
   ]
  },
  {
   "cell_type": "code",
   "execution_count": null,
   "id": "eaa00c1f-a244-4659-9598-e403b1c68908",
   "metadata": {},
   "outputs": [],
   "source": []
  }
 ],
 "metadata": {
  "kernelspec": {
   "display_name": "Python 3 (ipykernel)",
   "language": "python",
   "name": "python3"
  },
  "language_info": {
   "codemirror_mode": {
    "name": "ipython",
    "version": 3
   },
   "file_extension": ".py",
   "mimetype": "text/x-python",
   "name": "python",
   "nbconvert_exporter": "python",
   "pygments_lexer": "ipython3",
   "version": "3.12.4"
  }
 },
 "nbformat": 4,
 "nbformat_minor": 5
}
