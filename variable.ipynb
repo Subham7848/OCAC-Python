{
 "cells": [
  {
   "cell_type": "code",
   "execution_count": 7,
   "id": "fe0e6abb-ac21-4291-b29b-bf8fd2c0f93e",
   "metadata": {},
   "outputs": [
    {
     "data": {
      "text/plain": [
       "' NIELIT'"
      ]
     },
     "execution_count": 7,
     "metadata": {},
     "output_type": "execute_result"
    }
   ],
   "source": [
    "B = ' NIELIT'\n",
    "B"
   ]
  },
  {
   "cell_type": "code",
   "execution_count": 13,
   "id": "ef9810de-ca26-4746-8692-c18ba2477708",
   "metadata": {},
   "outputs": [
    {
     "ename": "NameError",
     "evalue": "name 'd' is not defined",
     "output_type": "error",
     "traceback": [
      "\u001b[1;31m---------------------------------------------------------------------------\u001b[0m",
      "\u001b[1;31mNameError\u001b[0m                                 Traceback (most recent call last)",
      "Cell \u001b[1;32mIn[13], line 1\u001b[0m\n\u001b[1;32m----> 1\u001b[0m \u001b[38;5;28mprint\u001b[39m(d)\n",
      "\u001b[1;31mNameError\u001b[0m: name 'd' is not defined"
     ]
    }
   ],
   "source": [
    "print(d)"
   ]
  },
  {
   "cell_type": "markdown",
   "id": "187b8cc7-1a82-4d98-b50d-f2d91ffcb920",
   "metadata": {},
   "source": [
    "### single variable"
   ]
  },
  {
   "cell_type": "code",
   "execution_count": 18,
   "id": "47597cde-54ab-4760-8897-7ffadfc02f7d",
   "metadata": {},
   "outputs": [
    {
     "data": {
      "text/plain": [
       "40"
      ]
     },
     "execution_count": 18,
     "metadata": {},
     "output_type": "execute_result"
    }
   ],
   "source": [
    "a =40\n",
    "a"
   ]
  },
  {
   "cell_type": "code",
   "execution_count": 20,
   "id": "589e65bc-0ea2-4d36-9db4-1cf4553effc8",
   "metadata": {},
   "outputs": [
    {
     "data": {
      "text/plain": [
       "int"
      ]
     },
     "execution_count": 20,
     "metadata": {},
     "output_type": "execute_result"
    }
   ],
   "source": [
    "type(a)"
   ]
  },
  {
   "cell_type": "code",
   "execution_count": 22,
   "id": "053576d8-96c1-4c78-bf88-693d88fef09c",
   "metadata": {},
   "outputs": [
    {
     "ename": "NameError",
     "evalue": "name 'tupe' is not defined",
     "output_type": "error",
     "traceback": [
      "\u001b[1;31m---------------------------------------------------------------------------\u001b[0m",
      "\u001b[1;31mNameError\u001b[0m                                 Traceback (most recent call last)",
      "Cell \u001b[1;32mIn[22], line 1\u001b[0m\n\u001b[1;32m----> 1\u001b[0m tupe(b)\n",
      "\u001b[1;31mNameError\u001b[0m: name 'tupe' is not defined"
     ]
    }
   ],
   "source": [
    "tupe(b)"
   ]
  },
  {
   "cell_type": "code",
   "execution_count": 24,
   "id": "4a32c681-4b74-4c43-88a0-c7deb93c46dd",
   "metadata": {},
   "outputs": [
    {
     "data": {
      "text/plain": [
       "' NIELIT'"
      ]
     },
     "execution_count": 24,
     "metadata": {},
     "output_type": "execute_result"
    }
   ],
   "source": [
    "b =' NIELIT'\n",
    "B"
   ]
  },
  {
   "cell_type": "code",
   "execution_count": 26,
   "id": "133c88a1-6da8-4458-b165-ce4bf9f587bd",
   "metadata": {},
   "outputs": [
    {
     "data": {
      "text/plain": [
       "80"
      ]
     },
     "execution_count": 26,
     "metadata": {},
     "output_type": "execute_result"
    }
   ],
   "source": [
    "ib = 80\n",
    "ib"
   ]
  },
  {
   "cell_type": "code",
   "execution_count": 30,
   "id": "dab6eb78-c141-410f-a698-8d99d0489078",
   "metadata": {},
   "outputs": [
    {
     "data": {
      "text/plain": [
       "'42'"
      ]
     },
     "execution_count": 30,
     "metadata": {},
     "output_type": "execute_result"
    }
   ],
   "source": [
    "d = \"42\"\n",
    "d"
   ]
  },
  {
   "cell_type": "code",
   "execution_count": 32,
   "id": "d6b3f82a-e207-4c73-a4ea-0f45128069c9",
   "metadata": {},
   "outputs": [
    {
     "data": {
      "text/plain": [
       "str"
      ]
     },
     "execution_count": 32,
     "metadata": {},
     "output_type": "execute_result"
    }
   ],
   "source": [
    "type(c)"
   ]
  },
  {
   "cell_type": "code",
   "execution_count": 34,
   "id": "259f446f-7312-4768-9e02-adc29111f40d",
   "metadata": {},
   "outputs": [
    {
     "data": {
      "text/plain": [
       "'46a'"
      ]
     },
     "execution_count": 34,
     "metadata": {},
     "output_type": "execute_result"
    }
   ],
   "source": [
    "cd =\"46a\"\n",
    "cd"
   ]
  },
  {
   "cell_type": "code",
   "execution_count": 36,
   "id": "ddad0785-0baa-494d-bbc3-a01a0bf942f9",
   "metadata": {},
   "outputs": [
    {
     "data": {
      "text/plain": [
       "str"
      ]
     },
     "execution_count": 36,
     "metadata": {},
     "output_type": "execute_result"
    }
   ],
   "source": [
    "type(cd)"
   ]
  },
  {
   "cell_type": "code",
   "execution_count": 38,
   "id": "c53ec52e-0ff2-47dc-abc3-827ec284e9cf",
   "metadata": {},
   "outputs": [
    {
     "name": "stdout",
     "output_type": "stream",
     "text": [
      "['False', 'None', 'True', 'and', 'as', 'assert', 'async', 'await', 'break', 'class', 'continue', 'def', 'del', 'elif', 'else', 'except', 'finally', 'for', 'from', 'global', 'if', 'import', 'in', 'is', 'lambda', 'nonlocal', 'not', 'or', 'pass', 'raise', 'return', 'try', 'while', 'with', 'yield']\n"
     ]
    }
   ],
   "source": [
    "import keyword\n",
    "print(keyword.kwlist)"
   ]
  },
  {
   "cell_type": "code",
   "execution_count": 40,
   "id": "da8c3c17-ef81-422d-9eb5-94fbd6eb4916",
   "metadata": {},
   "outputs": [
    {
     "data": {
      "text/plain": [
       "35"
      ]
     },
     "execution_count": 40,
     "metadata": {},
     "output_type": "execute_result"
    }
   ],
   "source": [
    "len(keyword.kwlist)"
   ]
  },
  {
   "cell_type": "code",
   "execution_count": 42,
   "id": "3a37ae83-8ab4-463a-b949-10d27469f3f2",
   "metadata": {},
   "outputs": [
    {
     "ename": "SyntaxError",
     "evalue": "cannot assign to False (4076693745.py, line 1)",
     "output_type": "error",
     "traceback": [
      "\u001b[1;36m  Cell \u001b[1;32mIn[42], line 1\u001b[1;36m\u001b[0m\n\u001b[1;33m    False = \"4456\"\u001b[0m\n\u001b[1;37m    ^\u001b[0m\n\u001b[1;31mSyntaxError\u001b[0m\u001b[1;31m:\u001b[0m cannot assign to False\n"
     ]
    }
   ],
   "source": [
    "False = \"4456\"\n",
    "False"
   ]
  },
  {
   "cell_type": "code",
   "execution_count": 46,
   "id": "aaed8792-e6a3-4fd2-b03e-2a4a46828e93",
   "metadata": {},
   "outputs": [
    {
     "data": {
      "text/plain": [
       "45"
      ]
     },
     "execution_count": 46,
     "metadata": {},
     "output_type": "execute_result"
    }
   ],
   "source": [
    "a1 =45\n",
    "a1"
   ]
  },
  {
   "cell_type": "code",
   "execution_count": 52,
   "id": "c0bc031b-eb56-4f9e-8db9-ecb08baffcde",
   "metadata": {},
   "outputs": [
    {
     "ename": "SyntaxError",
     "evalue": "invalid decimal literal (466779400.py, line 1)",
     "output_type": "error",
     "traceback": [
      "\u001b[1;36m  Cell \u001b[1;32mIn[52], line 1\u001b[1;36m\u001b[0m\n\u001b[1;33m    1b = 90\u001b[0m\n\u001b[1;37m    ^\u001b[0m\n\u001b[1;31mSyntaxError\u001b[0m\u001b[1;31m:\u001b[0m invalid decimal literal\n"
     ]
    }
   ],
   "source": [
    "1b = 90\n",
    "1b"
   ]
  },
  {
   "cell_type": "code",
   "execution_count": 56,
   "id": "e09aeb80-058e-4562-89cb-ccf2534b055a",
   "metadata": {},
   "outputs": [
    {
     "ename": "SyntaxError",
     "evalue": "invalid syntax (406462719.py, line 1)",
     "output_type": "error",
     "traceback": [
      "\u001b[1;36m  Cell \u001b[1;32mIn[56], line 1\u001b[1;36m\u001b[0m\n\u001b[1;33m    b$8 = 90\u001b[0m\n\u001b[1;37m     ^\u001b[0m\n\u001b[1;31mSyntaxError\u001b[0m\u001b[1;31m:\u001b[0m invalid syntax\n"
     ]
    }
   ],
   "source": [
    "b$8 = 90\n",
    "b$8"
   ]
  },
  {
   "cell_type": "code",
   "execution_count": 60,
   "id": "00b0e12d-8a48-4ce9-a7aa-e0f6a65ea450",
   "metadata": {},
   "outputs": [
    {
     "data": {
      "text/plain": [
       "456"
      ]
     },
     "execution_count": 60,
     "metadata": {},
     "output_type": "execute_result"
    }
   ],
   "source": [
    "b_5 = 456\n",
    "b_5"
   ]
  },
  {
   "cell_type": "code",
   "execution_count": 62,
   "id": "ba496b5e-4b16-4893-9121-49e259adddda",
   "metadata": {},
   "outputs": [
    {
     "data": {
      "text/plain": [
       "2775955492112"
      ]
     },
     "execution_count": 62,
     "metadata": {},
     "output_type": "execute_result"
    }
   ],
   "source": [
    "#storagelocation\n",
    "id(b_5)"
   ]
  },
  {
   "cell_type": "code",
   "execution_count": 64,
   "id": "82df28a0-f775-4eab-b4d2-8036febb16fd",
   "metadata": {},
   "outputs": [
    {
     "data": {
      "text/plain": [
       "2775955494352"
      ]
     },
     "execution_count": 64,
     "metadata": {},
     "output_type": "execute_result"
    }
   ],
   "source": [
    "v = 564\n",
    "v\n",
    "id(v)"
   ]
  },
  {
   "cell_type": "code",
   "execution_count": 66,
   "id": "38170108-c2c6-4c68-99fe-7d83cea892d9",
   "metadata": {},
   "outputs": [
    {
     "data": {
      "text/plain": [
       "2775955489616"
      ]
     },
     "execution_count": 66,
     "metadata": {},
     "output_type": "execute_result"
    }
   ],
   "source": [
    "b = 546\n",
    "id(b)"
   ]
  },
  {
   "cell_type": "code",
   "execution_count": 68,
   "id": "d54b44fd-27d5-4653-891d-cadd8c90f474",
   "metadata": {},
   "outputs": [
    {
     "data": {
      "text/plain": [
       "140714446634808"
      ]
     },
     "execution_count": 68,
     "metadata": {},
     "output_type": "execute_result"
    }
   ],
   "source": [
    "b = 45\n",
    "c = 54\n",
    "id(b)"
   ]
  },
  {
   "cell_type": "code",
   "execution_count": 70,
   "id": "b2ef2530-a058-4317-9c5e-091edca49188",
   "metadata": {},
   "outputs": [
    {
     "data": {
      "text/plain": [
       "140714446635096"
      ]
     },
     "execution_count": 70,
     "metadata": {},
     "output_type": "execute_result"
    }
   ],
   "source": [
    "id(c)"
   ]
  },
  {
   "cell_type": "code",
   "execution_count": 72,
   "id": "6054002b-b5aa-4669-b01f-f6c298c42b3d",
   "metadata": {},
   "outputs": [
    {
     "data": {
      "text/plain": [
       "140714446635096"
      ]
     },
     "execution_count": 72,
     "metadata": {},
     "output_type": "execute_result"
    }
   ],
   "source": [
    "d = 54\n",
    "id(d)"
   ]
  },
  {
   "cell_type": "code",
   "execution_count": 1,
   "id": "0f0d6bcb-e835-4d84-8d34-648615013f78",
   "metadata": {},
   "outputs": [
    {
     "data": {
      "text/plain": [
       "140714397024152"
      ]
     },
     "execution_count": 1,
     "metadata": {},
     "output_type": "execute_result"
    }
   ],
   "source": [
    "d = 48\n",
    "id(d)"
   ]
  },
  {
   "cell_type": "code",
   "execution_count": 3,
   "id": "f563892f-57be-4dd9-a4e0-63f6c43477f3",
   "metadata": {},
   "outputs": [
    {
     "name": "stdout",
     "output_type": "stream",
     "text": [
      "the summation of two numbers are  30\n"
     ]
    }
   ],
   "source": [
    "a = 10\n",
    "b = 20\n",
    "sum = a+b\n",
    "print(\"the summation of two numbers are \",sum)"
   ]
  },
  {
   "cell_type": "code",
   "execution_count": 5,
   "id": "0a318f57-6746-4f1b-94c1-c520cb3d1507",
   "metadata": {},
   "outputs": [
    {
     "name": "stdout",
     "output_type": "stream",
     "text": [
      "the summation of two numbers are  30\n"
     ]
    }
   ],
   "source": [
    "a = 10\n",
    "b = 20\n",
    "sum = a+b\n",
    "print(\"the summation of two numbers are \",sum)"
   ]
  },
  {
   "cell_type": "code",
   "execution_count": 7,
   "id": "f611bfb7-2589-4e1f-bd33-168d1474116d",
   "metadata": {},
   "outputs": [
    {
     "data": {
      "text/plain": [
       "('the summation of two numbers are', 30)"
      ]
     },
     "execution_count": 7,
     "metadata": {},
     "output_type": "execute_result"
    }
   ],
   "source": [
    "\"the summation of two numbers are\",sum"
   ]
  },
  {
   "cell_type": "code",
   "execution_count": 9,
   "id": "db2e4057-f6d1-4413-8564-8cbb8f4c7b54",
   "metadata": {},
   "outputs": [
    {
     "data": {
      "text/plain": [
       "30"
      ]
     },
     "execution_count": 9,
     "metadata": {},
     "output_type": "execute_result"
    }
   ],
   "source": [
    "sum"
   ]
  },
  {
   "cell_type": "code",
   "execution_count": 11,
   "id": "d38dfb2a-6620-49b2-b8ec-7b80017a4566",
   "metadata": {},
   "outputs": [
    {
     "data": {
      "text/plain": [
       "8"
      ]
     },
     "execution_count": 11,
     "metadata": {},
     "output_type": "execute_result"
    }
   ],
   "source": [
    "a = b = c = 8\n",
    "a"
   ]
  },
  {
   "cell_type": "code",
   "execution_count": 13,
   "id": "88a2ada6-0181-4633-b55a-c80db097b5e0",
   "metadata": {},
   "outputs": [
    {
     "data": {
      "text/plain": [
       "8"
      ]
     },
     "execution_count": 13,
     "metadata": {},
     "output_type": "execute_result"
    }
   ],
   "source": [
    "b"
   ]
  },
  {
   "cell_type": "code",
   "execution_count": 15,
   "id": "2571209c-f346-4c5e-8d9b-225cf0a2a1ec",
   "metadata": {},
   "outputs": [
    {
     "data": {
      "text/plain": [
       "8"
      ]
     },
     "execution_count": 15,
     "metadata": {},
     "output_type": "execute_result"
    }
   ],
   "source": [
    "c"
   ]
  },
  {
   "cell_type": "code",
   "execution_count": 17,
   "id": "158fac51-36fc-4fb5-80ba-ecb01b18f1c5",
   "metadata": {},
   "outputs": [
    {
     "name": "stdout",
     "output_type": "stream",
     "text": [
      "45 16 64\n"
     ]
    }
   ],
   "source": [
    "x= 45\n",
    "y= 16\n",
    "z= 64\n",
    "xyz = 45\n",
    "print(x,y,z)"
   ]
  },
  {
   "cell_type": "code",
   "execution_count": 19,
   "id": "5aa93845-a379-488a-b692-69548594e320",
   "metadata": {},
   "outputs": [
    {
     "name": "stdout",
     "output_type": "stream",
     "text": [
      "45\n"
     ]
    }
   ],
   "source": [
    "print(xyz)"
   ]
  },
  {
   "cell_type": "code",
   "execution_count": 21,
   "id": "2ad0b2b8-85d4-42f0-8c01-96a8ab3ebb8b",
   "metadata": {},
   "outputs": [
    {
     "name": "stdout",
     "output_type": "stream",
     "text": [
      "84\n"
     ]
    }
   ],
   "source": [
    "x = 84\n",
    "print(x)"
   ]
  },
  {
   "cell_type": "code",
   "execution_count": 23,
   "id": "1f470a67-d6da-4bf9-b2d1-33982c46403a",
   "metadata": {},
   "outputs": [],
   "source": [
    "#Delete Element\n",
    "del(x)"
   ]
  },
  {
   "cell_type": "code",
   "execution_count": 25,
   "id": "e4f1a6cd-4829-43c8-baaf-fb476a2fd640",
   "metadata": {},
   "outputs": [
    {
     "ename": "NameError",
     "evalue": "name 'x' is not defined",
     "output_type": "error",
     "traceback": [
      "\u001b[1;31m---------------------------------------------------------------------------\u001b[0m",
      "\u001b[1;31mNameError\u001b[0m                                 Traceback (most recent call last)",
      "Cell \u001b[1;32mIn[25], line 1\u001b[0m\n\u001b[1;32m----> 1\u001b[0m \u001b[38;5;28mprint\u001b[39m(x)\n",
      "\u001b[1;31mNameError\u001b[0m: name 'x' is not defined"
     ]
    }
   ],
   "source": [
    "print(x)"
   ]
  },
  {
   "cell_type": "code",
   "execution_count": 27,
   "id": "301ed906-cc8b-4e6f-9878-d115b95f5514",
   "metadata": {},
   "outputs": [],
   "source": [
    "# to c lear van ab L e expl orer.\n",
    "a=45\n",
    "b=645\n",
    "c=24\n",
    "del a,b"
   ]
  },
  {
   "cell_type": "code",
   "execution_count": 29,
   "id": "d6e0cda2-64b2-4510-a007-3d0d16c581c9",
   "metadata": {},
   "outputs": [
    {
     "name": "stdout",
     "output_type": "stream",
     "text": [
      "24\n"
     ]
    }
   ],
   "source": [
    "print(c)"
   ]
  },
  {
   "cell_type": "code",
   "execution_count": 35,
   "id": "ea1f43ec-5763-4d10-9e57-aeb6e09904c3",
   "metadata": {},
   "outputs": [
    {
     "ename": "SyntaxError",
     "evalue": "invalid decimal literal (2965238935.py, line 1)",
     "output_type": "error",
     "traceback": [
      "\u001b[1;36m  Cell \u001b[1;32mIn[35], line 1\u001b[1;36m\u001b[0m\n\u001b[1;33m    1a= 42\u001b[0m\n\u001b[1;37m    ^\u001b[0m\n\u001b[1;31mSyntaxError\u001b[0m\u001b[1;31m:\u001b[0m invalid decimal literal\n"
     ]
    }
   ],
   "source": [
    "1a= 42"
   ]
  },
  {
   "cell_type": "code",
   "execution_count": 37,
   "id": "919a0681-6633-41a5-b155-e6120ee53534",
   "metadata": {},
   "outputs": [
    {
     "ename": "SyntaxError",
     "evalue": "cannot assign to expression here. Maybe you meant '==' instead of '='? (2996392519.py, line 1)",
     "output_type": "error",
     "traceback": [
      "\u001b[1;36m  Cell \u001b[1;32mIn[37], line 1\u001b[1;36m\u001b[0m\n\u001b[1;33m    a@2= 50\u001b[0m\n\u001b[1;37m    ^\u001b[0m\n\u001b[1;31mSyntaxError\u001b[0m\u001b[1;31m:\u001b[0m cannot assign to expression here. Maybe you meant '==' instead of '='?\n"
     ]
    }
   ],
   "source": [
    "a@2= 50"
   ]
  },
  {
   "cell_type": "markdown",
   "id": "a21bbe21-3d57-48d8-b5c7-69a3900c2c8f",
   "metadata": {},
   "source": [
    "### multiple assignments "
   ]
  },
  {
   "cell_type": "code",
   "execution_count": 42,
   "id": "54b9d077-cc88-42ea-af40-ee17abdac30f",
   "metadata": {},
   "outputs": [
    {
     "name": "stdout",
     "output_type": "stream",
     "text": [
      "25 65 40\n"
     ]
    }
   ],
   "source": [
    "x = 25\n",
    "y = 65\n",
    "z = 40\n",
    "print(x,y,z)"
   ]
  },
  {
   "cell_type": "code",
   "execution_count": 44,
   "id": "9903fbc7-361c-4655-a828-b5caabec41de",
   "metadata": {},
   "outputs": [
    {
     "name": "stdout",
     "output_type": "stream",
     "text": [
      "10 50 40\n"
     ]
    }
   ],
   "source": [
    "# we can as ss ign /r u L tiple van ab les in a s i ngl e L one\n",
    "a,b,c = 10,50,40\n",
    "print(a,b,c)"
   ]
  },
  {
   "cell_type": "code",
   "execution_count": 50,
   "id": "5a3dcf02-1e0e-4a6e-9917-da5e015eda48",
   "metadata": {},
   "outputs": [
    {
     "name": "stdout",
     "output_type": "stream",
     "text": [
      "AI\n"
     ]
    }
   ],
   "source": [
    "# as s ign the same val ue to /r ul tip le var i ab les at once\n",
    "a = b = c = \"AI\"\n",
    "print(c)\n"
   ]
  },
  {
   "cell_type": "code",
   "execution_count": null,
   "id": "b74dccd2-ee99-4124-beec-aa521a196c6c",
   "metadata": {},
   "outputs": [],
   "source": []
  }
 ],
 "metadata": {
  "kernelspec": {
   "display_name": "Python 3 (ipykernel)",
   "language": "python",
   "name": "python3"
  },
  "language_info": {
   "codemirror_mode": {
    "name": "ipython",
    "version": 3
   },
   "file_extension": ".py",
   "mimetype": "text/x-python",
   "name": "python",
   "nbconvert_exporter": "python",
   "pygments_lexer": "ipython3",
   "version": "3.12.4"
  }
 },
 "nbformat": 4,
 "nbformat_minor": 5
}
