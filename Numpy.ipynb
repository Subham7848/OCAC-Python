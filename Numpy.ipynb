{
 "cells": [
  {
   "cell_type": "code",
   "execution_count": 5,
   "id": "551f944a-1c2f-4a03-a1de-dfa18a62a7a7",
   "metadata": {},
   "outputs": [],
   "source": [
    "### load in numpy\n",
    "import numpy as np"
   ]
  },
  {
   "cell_type": "code",
   "execution_count": 3,
   "id": "9cbe3451-f891-4c35-8ba6-19fbfe505e6f",
   "metadata": {},
   "outputs": [],
   "source": [
    "x = [1,2,3,4,5,6]\n"
   ]
  },
  {
   "cell_type": "code",
   "execution_count": 5,
   "id": "745831ec-71c7-4558-a685-61f4c888fced",
   "metadata": {},
   "outputs": [
    {
     "name": "stdout",
     "output_type": "stream",
     "text": [
      "[1, 2, 3, 4, 5, 6]\n"
     ]
    }
   ],
   "source": [
    "print(x)"
   ]
  },
  {
   "cell_type": "code",
   "execution_count": 7,
   "id": "c0042ad7-f407-422b-9ec0-1cee62d02392",
   "metadata": {},
   "outputs": [
    {
     "name": "stdout",
     "output_type": "stream",
     "text": [
      "<class 'list'>\n"
     ]
    }
   ],
   "source": [
    "print(type(x))"
   ]
  },
  {
   "cell_type": "code",
   "execution_count": 11,
   "id": "1fc57a41-b600-45fa-a2a7-ba6879c8da7d",
   "metadata": {},
   "outputs": [],
   "source": [
    "np_x = np.array(x)"
   ]
  },
  {
   "cell_type": "code",
   "execution_count": 13,
   "id": "b2ff999c-0e5d-4303-bc81-c407cd72a801",
   "metadata": {},
   "outputs": [
    {
     "name": "stdout",
     "output_type": "stream",
     "text": [
      "[1 2 3 4 5 6]\n"
     ]
    }
   ],
   "source": [
    "print(np_x)"
   ]
  },
  {
   "cell_type": "code",
   "execution_count": 15,
   "id": "50a0b89b-f7cf-4726-84a2-27bda3c32074",
   "metadata": {},
   "outputs": [
    {
     "name": "stdout",
     "output_type": "stream",
     "text": [
      "<class 'numpy.ndarray'>\n"
     ]
    }
   ],
   "source": [
    "print(type(np_x))"
   ]
  },
  {
   "cell_type": "code",
   "execution_count": 24,
   "id": "6a22b208-f7bf-4767-ad2c-9dcc7dcd10ce",
   "metadata": {},
   "outputs": [
    {
     "name": "stdout",
     "output_type": "stream",
     "text": [
      "135 μs ± 1.08 μs per loop (mean ± std. dev. of 7 runs, 10,000 loops each)\n"
     ]
    }
   ],
   "source": [
    "#python lists\n",
    "L = range(1000)\n",
    "%timeit [X**2 for X in L]"
   ]
  },
  {
   "cell_type": "code",
   "execution_count": 26,
   "id": "c796b821-cf02-4004-a0fe-bef5df41ca52",
   "metadata": {},
   "outputs": [
    {
     "name": "stdout",
     "output_type": "stream",
     "text": [
      "2.02 μs ± 4.79 ns per loop (mean ± std. dev. of 7 runs, 100,000 loops each)\n"
     ]
    }
   ],
   "source": [
    "x = np.arange(1000)\n",
    "%timeit x**2"
   ]
  },
  {
   "cell_type": "markdown",
   "id": "056b2627-45bf-499b-9d48-be06d1a7c5f0",
   "metadata": {},
   "source": [
    "### Creating arrays"
   ]
  },
  {
   "cell_type": "code",
   "execution_count": 7,
   "id": "88831142-6365-4fb8-8b32-3cb22acdade7",
   "metadata": {},
   "outputs": [
    {
     "data": {
      "text/plain": [
       "array([0, 1, 2, 3])"
      ]
     },
     "execution_count": 7,
     "metadata": {},
     "output_type": "execute_result"
    }
   ],
   "source": [
    "#1-D\n",
    "x = np.array([0,1,2,3])\n",
    "x"
   ]
  },
  {
   "cell_type": "code",
   "execution_count": 34,
   "id": "0a29c9f6-a836-4aba-ada2-915494c45ddd",
   "metadata": {},
   "outputs": [
    {
     "data": {
      "text/plain": [
       "1"
      ]
     },
     "execution_count": 34,
     "metadata": {},
     "output_type": "execute_result"
    }
   ],
   "source": [
    "#print edimensions\n",
    "x.ndim"
   ]
  },
  {
   "cell_type": "code",
   "execution_count": 38,
   "id": "c195de3a-849f-4c6b-b7e0-895167ac7d51",
   "metadata": {},
   "outputs": [
    {
     "data": {
      "text/plain": [
       "(4,)"
      ]
     },
     "execution_count": 38,
     "metadata": {},
     "output_type": "execute_result"
    }
   ],
   "source": [
    "#shape\n",
    "x.shape"
   ]
  },
  {
   "cell_type": "code",
   "execution_count": 3,
   "id": "5c3b377d-3de9-4286-974d-820da2a886ee",
   "metadata": {},
   "outputs": [
    {
     "data": {
      "text/plain": [
       "<module 'numpy' from 'C:\\\\Users\\\\subha\\\\anaconda3\\\\Lib\\\\site-packages\\\\numpy\\\\__init__.py'>"
      ]
     },
     "execution_count": 3,
     "metadata": {},
     "output_type": "execute_result"
    }
   ],
   "source": [
    "import numpy as np\n",
    "a = np.random.randint(0,20,5)\n",
    "np"
   ]
  },
  {
   "cell_type": "code",
   "execution_count": 5,
   "id": "e815e692-b44e-4d97-8913-5ad15d883eaf",
   "metadata": {},
   "outputs": [
    {
     "data": {
      "text/plain": [
       "array([[0, 1, 2],\n",
       "       [3, 4, 5]])"
      ]
     },
     "execution_count": 5,
     "metadata": {},
     "output_type": "execute_result"
    }
   ],
   "source": [
    "# 2-D\n",
    "y = np.array([[0,1,2],[3,4,5]])\n",
    "y"
   ]
  },
  {
   "cell_type": "code",
   "execution_count": 7,
   "id": "a18c2f01-eeb5-4ade-95da-e396f102573f",
   "metadata": {},
   "outputs": [
    {
     "data": {
      "text/plain": [
       "2"
      ]
     },
     "execution_count": 7,
     "metadata": {},
     "output_type": "execute_result"
    }
   ],
   "source": [
    "y.ndim"
   ]
  },
  {
   "cell_type": "code",
   "execution_count": 9,
   "id": "bc907c1c-834d-4a65-8f8c-26496e99339d",
   "metadata": {},
   "outputs": [
    {
     "data": {
      "text/plain": [
       "(2, 3)"
      ]
     },
     "execution_count": 9,
     "metadata": {},
     "output_type": "execute_result"
    }
   ],
   "source": [
    "y.shape"
   ]
  },
  {
   "cell_type": "code",
   "execution_count": 11,
   "id": "147f556c-2e7f-47ed-9628-a93f4dadf188",
   "metadata": {},
   "outputs": [
    {
     "data": {
      "text/plain": [
       "array([[[0, 1],\n",
       "        [2, 3]],\n",
       "\n",
       "       [[4, 5],\n",
       "        [6, 7]]])"
      ]
     },
     "execution_count": 11,
     "metadata": {},
     "output_type": "execute_result"
    }
   ],
   "source": [
    "#3D\n",
    "z = np.array([[[0,1],[2,3]], [[4,5],[6,7]]])\n",
    "z"
   ]
  },
  {
   "cell_type": "code",
   "execution_count": 13,
   "id": "441e0493-95ef-4f88-8bc1-04a7e34bd2b6",
   "metadata": {},
   "outputs": [
    {
     "data": {
      "text/plain": [
       "3"
      ]
     },
     "execution_count": 13,
     "metadata": {},
     "output_type": "execute_result"
    }
   ],
   "source": [
    "z. ndim"
   ]
  },
  {
   "cell_type": "code",
   "execution_count": 15,
   "id": "3d02b000-faae-43ef-92c5-a05d0f270d7c",
   "metadata": {},
   "outputs": [
    {
     "data": {
      "text/plain": [
       "(2, 2, 2)"
      ]
     },
     "execution_count": 15,
     "metadata": {},
     "output_type": "execute_result"
    }
   ],
   "source": [
    "z.shape"
   ]
  },
  {
   "cell_type": "markdown",
   "id": "e4ad0bda-1920-4aa2-b917-69fcaa1307aa",
   "metadata": {},
   "source": [
    "### Creating array from a list"
   ]
  },
  {
   "cell_type": "code",
   "execution_count": 9,
   "id": "80a872ad-82a8-4b17-8734-f02c72518117",
   "metadata": {},
   "outputs": [
    {
     "data": {
      "text/plain": [
       "[1, 2, 3]"
      ]
     },
     "execution_count": 9,
     "metadata": {},
     "output_type": "execute_result"
    }
   ],
   "source": [
    "# we know how to create a list, right\n",
    "my_list = [1,2,3]\n",
    "my_list"
   ]
  },
  {
   "cell_type": "code",
   "execution_count": 20,
   "id": "b1f62aa4-c0f1-46be-9482-bfab02360d11",
   "metadata": {},
   "outputs": [
    {
     "data": {
      "text/plain": [
       "array([1, 2, 3])"
      ]
     },
     "execution_count": 20,
     "metadata": {},
     "output_type": "execute_result"
    }
   ],
   "source": [
    "np.array(my_list)"
   ]
  },
  {
   "cell_type": "code",
   "execution_count": 22,
   "id": "d5968860-758d-4f62-8f1b-ce05af973f54",
   "metadata": {},
   "outputs": [
    {
     "data": {
      "text/plain": [
       "[[1, 2, 3], [4, 5, 6], [7, 8, 9]]"
      ]
     },
     "execution_count": 22,
     "metadata": {},
     "output_type": "execute_result"
    }
   ],
   "source": [
    "# we can convert a matrix is also  a list to array\n",
    "my_matrix = [[1,2,3],[4,5,6],[7,8,9]]\n",
    "my_matrix"
   ]
  },
  {
   "cell_type": "code",
   "execution_count": 24,
   "id": "2ebbe8dd-135a-4d51-9ec6-9c24eecee445",
   "metadata": {},
   "outputs": [
    {
     "data": {
      "text/plain": [
       "array([[1, 2, 3],\n",
       "       [4, 5, 6],\n",
       "       [7, 8, 9]])"
      ]
     },
     "execution_count": 24,
     "metadata": {},
     "output_type": "execute_result"
    }
   ],
   "source": [
    "np.array(my_matrix)"
   ]
  },
  {
   "cell_type": "code",
   "execution_count": 26,
   "id": "a62d3956-548c-4897-abad-16e5c7bdd1a7",
   "metadata": {},
   "outputs": [
    {
     "data": {
      "text/plain": [
       "(3, 3)"
      ]
     },
     "execution_count": 26,
     "metadata": {},
     "output_type": "execute_result"
    }
   ],
   "source": [
    "np.array(my_matrix).shape"
   ]
  },
  {
   "cell_type": "markdown",
   "id": "dd0b3cd9-d560-4911-88a5-06431f6c9c0c",
   "metadata": {},
   "source": [
    "### Function "
   ]
  },
  {
   "cell_type": "markdown",
   "id": "329abc7c-43b2-49a6-ab73-42610bcd4a57",
   "metadata": {},
   "source": [
    "### arange"
   ]
  },
  {
   "cell_type": "code",
   "execution_count": 11,
   "id": "83172524-d9a6-43d6-b0d9-3a12798c04a5",
   "metadata": {},
   "outputs": [
    {
     "data": {
      "text/plain": [
       "array([0, 1, 2, 3, 4, 5, 6, 7, 8, 9])"
      ]
     },
     "execution_count": 11,
     "metadata": {},
     "output_type": "execute_result"
    }
   ],
   "source": [
    "#using arange function -->arange is an array-valued version of the built-in python range \n",
    "#function \n",
    "x = np.arange(10) # 0.... n-1\n",
    "x"
   ]
  },
  {
   "cell_type": "code",
   "execution_count": 40,
   "id": "79e439d1-c2e8-4d17-914c-56a666aedf84",
   "metadata": {},
   "outputs": [
    {
     "data": {
      "text/plain": [
       "array([1, 3, 5, 7, 9])"
      ]
     },
     "execution_count": 40,
     "metadata": {},
     "output_type": "execute_result"
    }
   ],
   "source": [
    "y = np.arange(1,10,2) #start, end(exclusive),step\n",
    "y"
   ]
  },
  {
   "cell_type": "markdown",
   "id": "61915305-d890-4c2e-a587-0aa25ef30a2e",
   "metadata": {},
   "source": [
    "### Linspace"
   ]
  },
  {
   "cell_type": "code",
   "execution_count": 13,
   "id": "87d86f97-2b9f-4c59-963f-9352daf31806",
   "metadata": {},
   "outputs": [
    {
     "data": {
      "text/plain": [
       "array([0., 1., 2., 3., 4., 5.])"
      ]
     },
     "execution_count": 13,
     "metadata": {},
     "output_type": "execute_result"
    }
   ],
   "source": [
    "#using linspace\n",
    "x = np.linspace(0,5,6)\n",
    "x"
   ]
  },
  {
   "cell_type": "code",
   "execution_count": 49,
   "id": "24c6a141-e365-484d-b179-96a64b16e9a8",
   "metadata": {},
   "outputs": [
    {
     "data": {
      "text/plain": [
       "array([ 0.        ,  2.14285714,  4.28571429,  6.42857143,  8.57142857,\n",
       "       10.71428571, 12.85714286, 15.        ])"
      ]
     },
     "execution_count": 49,
     "metadata": {},
     "output_type": "execute_result"
    }
   ],
   "source": [
    "# I want to get 3 evenly spaced points between 0 to 15\n",
    "np.linspace(0,15, 8)"
   ]
  },
  {
   "cell_type": "markdown",
   "id": "005c19b1-e25a-4e32-9c95-3fdeb53f9e4f",
   "metadata": {},
   "source": [
    "### zeros to ones"
   ]
  },
  {
   "cell_type": "code",
   "execution_count": 52,
   "id": "50855680-0df6-482c-8c96-273741aa278e",
   "metadata": {},
   "outputs": [
    {
     "data": {
      "text/plain": [
       "array([0., 0., 0., 0., 0.])"
      ]
     },
     "execution_count": 52,
     "metadata": {},
     "output_type": "execute_result"
    }
   ],
   "source": [
    "np.zeros(5)"
   ]
  },
  {
   "cell_type": "code",
   "execution_count": 54,
   "id": "e1980cfc-1c70-4039-8ef5-59b096d4477c",
   "metadata": {},
   "outputs": [
    {
     "data": {
      "text/plain": [
       "array([[0., 0., 0., 0.],\n",
       "       [0., 0., 0., 0.],\n",
       "       [0., 0., 0., 0.],\n",
       "       [0., 0., 0., 0.]])"
      ]
     },
     "execution_count": 54,
     "metadata": {},
     "output_type": "execute_result"
    }
   ],
   "source": [
    "y = np.zeros((4,4))\n",
    "y"
   ]
  },
  {
   "cell_type": "code",
   "execution_count": 58,
   "id": "3a686215-0e95-43f9-bf0a-29d9adde02bf",
   "metadata": {},
   "outputs": [
    {
     "data": {
      "text/plain": [
       "array([[1., 1., 1., 1.],\n",
       "       [1., 1., 1., 1.]])"
      ]
     },
     "execution_count": 58,
     "metadata": {},
     "output_type": "execute_result"
    }
   ],
   "source": [
    "x = np.ones((2,4))\n",
    "x"
   ]
  },
  {
   "cell_type": "markdown",
   "id": "f7038e1a-8513-47e6-a54c-1da5a2eb9319",
   "metadata": {},
   "source": [
    "### eye"
   ]
  },
  {
   "cell_type": "code",
   "execution_count": 15,
   "id": "2ebeadc3-d906-4c58-9fa3-a4c56bccdb8b",
   "metadata": {},
   "outputs": [
    {
     "data": {
      "text/plain": [
       "array([[1., 0., 0., 0.],\n",
       "       [0., 1., 0., 0.],\n",
       "       [0., 0., 1., 0.],\n",
       "       [0., 0., 0., 1.]])"
      ]
     },
     "execution_count": 15,
     "metadata": {},
     "output_type": "execute_result"
    }
   ],
   "source": [
    "z = np.eye(4) #return a 2-D array with ones on the diagonal and zeros elsewhere.\n",
    "z"
   ]
  },
  {
   "cell_type": "code",
   "execution_count": 68,
   "id": "da814a73-76e1-446e-885f-c1eac390f008",
   "metadata": {},
   "outputs": [
    {
     "data": {
      "text/plain": [
       "array([[1., 0., 0., 0.],\n",
       "       [0., 1., 0., 0.]])"
      ]
     },
     "execution_count": 68,
     "metadata": {},
     "output_type": "execute_result"
    }
   ],
   "source": [
    "d = np.eye(2,4)\n",
    "d"
   ]
  },
  {
   "cell_type": "code",
   "execution_count": 17,
   "id": "623f2505-09ee-49d5-af4f-d4e341079f5e",
   "metadata": {},
   "outputs": [
    {
     "data": {
      "text/plain": [
       "array([[3, 0, 0, 0],\n",
       "       [0, 4, 0, 0],\n",
       "       [0, 0, 6, 0],\n",
       "       [0, 0, 0, 8]])"
      ]
     },
     "execution_count": 17,
     "metadata": {},
     "output_type": "execute_result"
    }
   ],
   "source": [
    "#create array using diag function\n",
    "x = np.diag([3,4,6,8])\n",
    "x"
   ]
  },
  {
   "cell_type": "code",
   "execution_count": 72,
   "id": "322ff2ae-1acf-4441-9761-47e3962106bd",
   "metadata": {},
   "outputs": [
    {
     "data": {
      "text/plain": [
       "array([3, 4, 6, 8])"
      ]
     },
     "execution_count": 72,
     "metadata": {},
     "output_type": "execute_result"
    }
   ],
   "source": [
    "np.diag(x)"
   ]
  },
  {
   "cell_type": "code",
   "execution_count": 19,
   "id": "3f04d7f4-67bc-4b25-aa2e-34cbf20a39fe",
   "metadata": {},
   "outputs": [
    {
     "name": "stdout",
     "output_type": "stream",
     "text": [
      "[ 48  30 110  22  50  36]\n"
     ]
    }
   ],
   "source": [
    "#radiant -- return random integers from start (inclusive) to end (exclusive).\n",
    "random_array = np.random.randint(1,125,6)\n",
    "print(random_array)"
   ]
  },
  {
   "cell_type": "code",
   "execution_count": 80,
   "id": "94084257-03b8-4d8a-abda-89435c703a45",
   "metadata": {},
   "outputs": [
    {
     "data": {
      "text/plain": [
       "array([0.46583987, 0.46972583, 0.49352484, 0.11714168, 0.08829963])"
      ]
     },
     "execution_count": 80,
     "metadata": {},
     "output_type": "execute_result"
    }
   ],
   "source": [
    "#rand -- craete an array of the given shape and populate it with random samples from\n",
    "#a uniform distribution over [0,1].\n",
    "x= np.random.rand(5)\n",
    "x"
   ]
  },
  {
   "cell_type": "code",
   "execution_count": 21,
   "id": "23c8120a-bd59-4256-9458-940d0e4e85d9",
   "metadata": {},
   "outputs": [
    {
     "data": {
      "text/plain": [
       "array([ 0.3496924 , -0.50826412, -1.47936722,  0.7210474 ,  0.39824418,\n",
       "       -1.62050792,  0.39347604,  0.91811606, -0.18295186,  0.35464089,\n",
       "       -0.89570333,  0.87346641, -0.61134789, -0.36813672,  0.63602867,\n",
       "       -0.38901955,  1.41166334,  0.12184091,  0.18274723, -0.5162857 ,\n",
       "        0.36029696, -1.16789745, -0.09627978,  0.69308294,  0.93390297,\n",
       "       -0.75385277,  1.24467594, -0.59674413,  1.08990225, -0.47657312,\n",
       "        1.14168472,  0.16624793,  0.33062458,  1.2339494 , -0.73496145,\n",
       "        1.95953105, -1.43165693, -2.02780758, -2.10490593,  0.01688418,\n",
       "       -0.31545955, -0.47346573,  2.38352512, -0.1212885 ,  0.58288224,\n",
       "        0.6565555 ,  0.63111541,  0.33747586,  1.72419026,  0.49151204,\n",
       "        0.27441409, -0.84360219,  1.29398422, -0.54477524, -0.00979728,\n",
       "       -1.07316664, -0.76344447,  0.39237755,  0.2569125 ,  0.88830275,\n",
       "       -0.42390177,  0.13893887,  0.34892207, -0.65197933,  1.77390198,\n",
       "       -0.26175802, -2.43937176, -1.05569816,  1.26735536,  0.60040044,\n",
       "        1.22781665, -1.14135461, -0.99577906,  0.64014707,  0.28484366,\n",
       "       -0.27002535,  1.52078766,  0.91130506,  0.65332433, -0.59277471,\n",
       "       -0.24279103, -0.78530256, -1.07747488,  0.57295809,  0.20074315,\n",
       "        0.20801682, -0.92728325, -0.95056562,  1.53461785, -0.52657849,\n",
       "       -0.87727191,  3.20688158,  0.89689011,  1.5386318 , -1.02196986,\n",
       "        1.34619947,  0.14544204, -0.04757205,  0.03195942,  0.85082378])"
      ]
     },
     "execution_count": 21,
     "metadata": {},
     "output_type": "execute_result"
    }
   ],
   "source": [
    "#randn -- return a sample (or samples) from the \"standard normal\" distribution.***gausian***\n",
    "x = np.random.randn(100)\n",
    "x"
   ]
  },
  {
   "cell_type": "markdown",
   "id": "176f7f9d-90d2-423c-9021-b55039d01766",
   "metadata": {},
   "source": [
    "### Copy array"
   ]
  },
  {
   "cell_type": "code",
   "execution_count": 23,
   "id": "f20cfc3a-36e3-4ccc-a50c-02b86475ab49",
   "metadata": {},
   "outputs": [
    {
     "name": "stdout",
     "output_type": "stream",
     "text": [
      "[100   2   3]\n",
      "[100   2   3]\n"
     ]
    }
   ],
   "source": [
    "x = np.array([1,2,3])\n",
    "y = x\n",
    "y[0] = 100\n",
    "print(x)\n",
    "print(y)"
   ]
  },
  {
   "cell_type": "markdown",
   "id": "a9af963e-04e0-4263-b587-655a7325fa5b",
   "metadata": {},
   "source": [
    "### Reshape array"
   ]
  },
  {
   "cell_type": "code",
   "execution_count": 25,
   "id": "dcb5f43d-69c5-421b-9b0a-3d0b7060728f",
   "metadata": {},
   "outputs": [
    {
     "name": "stdout",
     "output_type": "stream",
     "text": [
      "[ 0  1  2  3  4  5  6  7  8  9 10 11 12 13 14 15 16 17 18 19]\n",
      "(20,)\n"
     ]
    }
   ],
   "source": [
    "arr = np.arange(20)\n",
    "print(arr)\n",
    "print(arr.shape)"
   ]
  },
  {
   "cell_type": "code",
   "execution_count": 27,
   "id": "baac6605-1393-4de3-8c8e-d8dce8f6b44b",
   "metadata": {},
   "outputs": [
    {
     "data": {
      "text/plain": [
       "array([[ 0,  1,  2,  3,  4],\n",
       "       [ 5,  6,  7,  8,  9],\n",
       "       [10, 11, 12, 13, 14],\n",
       "       [15, 16, 17, 18, 19]])"
      ]
     },
     "execution_count": 27,
     "metadata": {},
     "output_type": "execute_result"
    }
   ],
   "source": [
    "#notice the two sets of brackets\n",
    "x1=arr.reshape(4,5)\n",
    "x1"
   ]
  },
  {
   "cell_type": "code",
   "execution_count": 29,
   "id": "7005f505-6f43-4311-b218-b3bfd5f5f66c",
   "metadata": {},
   "outputs": [
    {
     "name": "stdout",
     "output_type": "stream",
     "text": [
      "[[1 2 3]\n",
      " [4 5 6]]\n",
      "shape of x: (2, 3)\n"
     ]
    }
   ],
   "source": [
    "x = np.array([[1,2,3],[4,5,6]])\n",
    "print(x)\n",
    "print(\"shape of x: {}\".format(x.shape))"
   ]
  },
  {
   "cell_type": "code",
   "execution_count": 31,
   "id": "cf62414f-d5c8-474e-ab27-582f61bb1e1b",
   "metadata": {},
   "outputs": [
    {
     "name": "stdout",
     "output_type": "stream",
     "text": [
      "[[1 2]\n",
      " [3 4]\n",
      " [5 6]]\n",
      "shape of y: (3, 2)\n"
     ]
    }
   ],
   "source": [
    "# reshaping\n",
    "y = x.reshape(3,2)\n",
    "print(y)\n",
    "print(\"shape of y: {}\".format(y.shape))"
   ]
  },
  {
   "cell_type": "markdown",
   "id": "e9c1fddc-bf1b-4c89-9a8a-6a61a523df78",
   "metadata": {},
   "source": [
    "### Transpose array"
   ]
  },
  {
   "cell_type": "code",
   "execution_count": 33,
   "id": "4e0b86e7-3d44-4549-ac96-ab28c7be52b3",
   "metadata": {},
   "outputs": [
    {
     "name": "stdout",
     "output_type": "stream",
     "text": [
      "shape: (2, 3)\n",
      "[[1 2 3]\n",
      " [4 5 6]]\n"
     ]
    }
   ],
   "source": [
    "x = np.array([[1,2,3],[4,5,6]])\n",
    "print(\"shape: {}\".format(x.shape))\n",
    "print(x)"
   ]
  },
  {
   "cell_type": "code",
   "execution_count": 113,
   "id": "8e3d91c4-f655-4d2d-89e9-951810a3a8fb",
   "metadata": {},
   "outputs": [
    {
     "name": "stdout",
     "output_type": "stream",
     "text": [
      "[[1 4]\n",
      " [2 5]\n",
      " [3 6]]\n"
     ]
    }
   ],
   "source": [
    "z = x.T\n",
    "print(z)"
   ]
  },
  {
   "cell_type": "markdown",
   "id": "de3ff009-4f9a-4520-9efe-9839f2f0eedc",
   "metadata": {},
   "source": [
    "### Flattening"
   ]
  },
  {
   "cell_type": "code",
   "execution_count": 35,
   "id": "4b1a9566-6f72-432a-9677-46616e4d688f",
   "metadata": {},
   "outputs": [
    {
     "data": {
      "text/plain": [
       "array([1, 2, 3, 4, 5, 6])"
      ]
     },
     "execution_count": 35,
     "metadata": {},
     "output_type": "execute_result"
    }
   ],
   "source": [
    "x = np.array([[1,2,3],[4,5,6]])\n",
    "x.ravel()"
   ]
  },
  {
   "cell_type": "code",
   "execution_count": 118,
   "id": "a3e9e6ec-5281-4116-b478-e49ca2a733ae",
   "metadata": {},
   "outputs": [
    {
     "data": {
      "text/plain": [
       "array([1, 4, 2, 5, 3, 6])"
      ]
     },
     "execution_count": 118,
     "metadata": {},
     "output_type": "execute_result"
    }
   ],
   "source": [
    "z.ravel()"
   ]
  },
  {
   "cell_type": "markdown",
   "id": "b3ec1322-8b8e-450a-8afa-b40484930478",
   "metadata": {},
   "source": [
    "### Sorting"
   ]
  },
  {
   "cell_type": "code",
   "execution_count": 37,
   "id": "a76999b0-34a7-4835-bb74-dc521bb08cd0",
   "metadata": {},
   "outputs": [
    {
     "data": {
      "text/plain": [
       "array([[4, 5, 7],\n",
       "       [2, 6, 9]])"
      ]
     },
     "execution_count": 37,
     "metadata": {},
     "output_type": "execute_result"
    }
   ],
   "source": [
    "#sorting along an axis:\n",
    "# axis=1 -->row and axis=0 -->column\n",
    "x = np.array([[5,4,7],[2,9,6]])\n",
    "y = np.sort(x , axis=1)\n",
    "y"
   ]
  },
  {
   "cell_type": "markdown",
   "id": "07b74af4-5db9-4fec-9b15-de73546e3d43",
   "metadata": {},
   "source": [
    "### Add/ remove array"
   ]
  },
  {
   "cell_type": "code",
   "execution_count": 39,
   "id": "1526d2d1-868a-496e-ae00-f905b9278056",
   "metadata": {},
   "outputs": [
    {
     "name": "stdout",
     "output_type": "stream",
     "text": [
      "numpy array after addition: [4 7 8 2 5 4]\n"
     ]
    }
   ],
   "source": [
    "x = np.array([4,7,8])\n",
    "x = np.append(x,[2,5,4])\n",
    "print('numpy array after addition:',x)"
   ]
  },
  {
   "cell_type": "code",
   "execution_count": 41,
   "id": "f9eeb679-19e1-4905-874b-38691bede25b",
   "metadata": {},
   "outputs": [
    {
     "name": "stdout",
     "output_type": "stream",
     "text": [
      "numpy array after deletion of one element: [4 7 8 2 4]\n"
     ]
    }
   ],
   "source": [
    "x = np.delete(x,4)\n",
    "print('numpy array after deletion of one element:',x)"
   ]
  },
  {
   "cell_type": "markdown",
   "id": "38e2ae3a-2bc4-4b11-b627-ed62319ea93b",
   "metadata": {},
   "source": [
    "### indexing"
   ]
  },
  {
   "cell_type": "code",
   "execution_count": 48,
   "id": "1a2a8721-406c-4808-9699-4d57ef8b71bc",
   "metadata": {},
   "outputs": [
    {
     "name": "stdout",
     "output_type": "stream",
     "text": [
      "[4 5 6 7]\n",
      "7\n"
     ]
    }
   ],
   "source": [
    "x = np.arange(4,8)\n",
    "print(x)\n",
    "print(x[3])"
   ]
  },
  {
   "cell_type": "code",
   "execution_count": 54,
   "id": "c048f752-6ad4-4151-99fc-49c31e7358ea",
   "metadata": {},
   "outputs": [
    {
     "name": "stdout",
     "output_type": "stream",
     "text": [
      "[[4 0 0]\n",
      " [0 5 0]\n",
      " [0 0 6]]\n",
      "0\n"
     ]
    }
   ],
   "source": [
    "# for multidimensional arrays, indexes are tuples of integers:\n",
    "x = np.diag([4,5,6])\n",
    "print(x)\n",
    "print(x[1,2])"
   ]
  },
  {
   "cell_type": "code",
   "execution_count": 56,
   "id": "b601f447-e7f4-42f6-a6f5-66ae3d9aea23",
   "metadata": {},
   "outputs": [
    {
     "data": {
      "text/plain": [
       "array([[4, 0, 0],\n",
       "       [0, 5, 4],\n",
       "       [0, 0, 6]])"
      ]
     },
     "execution_count": 56,
     "metadata": {},
     "output_type": "execute_result"
    }
   ],
   "source": [
    "x[1,2] = 4\n",
    "x"
   ]
  },
  {
   "cell_type": "markdown",
   "id": "1f3b4cd8-2178-4091-9c81-556ed4c9d2ac",
   "metadata": {},
   "source": [
    "### Slicing"
   ]
  },
  {
   "cell_type": "code",
   "execution_count": 59,
   "id": "5236db23-4c33-4e38-a67c-39d3420fed35",
   "metadata": {},
   "outputs": [
    {
     "data": {
      "text/plain": [
       "array([ 4,  5,  6,  7,  8,  9, 10, 11, 12, 13, 14, 15])"
      ]
     },
     "execution_count": 59,
     "metadata": {},
     "output_type": "execute_result"
    }
   ],
   "source": [
    "x = np.arange(4,16)\n",
    "x"
   ]
  },
  {
   "cell_type": "code",
   "execution_count": 61,
   "id": "6979e829-5e00-42a9-8171-a109711206a0",
   "metadata": {},
   "outputs": [
    {
     "data": {
      "text/plain": [
       "array([5, 7])"
      ]
     },
     "execution_count": 61,
     "metadata": {},
     "output_type": "execute_result"
    }
   ],
   "source": [
    "x[1:4:2]"
   ]
  },
  {
   "cell_type": "code",
   "execution_count": 63,
   "id": "24743fa9-e377-4ba7-9cc5-193d113ac0b3",
   "metadata": {},
   "outputs": [
    {
     "data": {
      "text/plain": [
       "array([4, 5, 6, 7])"
      ]
     },
     "execution_count": 63,
     "metadata": {},
     "output_type": "execute_result"
    }
   ],
   "source": [
    "#we can also combine assignment and slicing:\n",
    "x = np.arange(8)\n",
    "x[4:]"
   ]
  },
  {
   "cell_type": "code",
   "execution_count": 65,
   "id": "1f8ffa8c-71c0-4d29-ad6e-f153b812b98f",
   "metadata": {},
   "outputs": [
    {
     "data": {
      "text/plain": [
       "array([4, 5, 6, 7])"
      ]
     },
     "execution_count": 65,
     "metadata": {},
     "output_type": "execute_result"
    }
   ],
   "source": [
    "x[4:]"
   ]
  },
  {
   "cell_type": "code",
   "execution_count": 67,
   "id": "71f8c071-454a-49d3-8a86-fc9888bcfd2c",
   "metadata": {},
   "outputs": [
    {
     "data": {
      "text/plain": [
       "array([0, 1, 2, 3])"
      ]
     },
     "execution_count": 67,
     "metadata": {},
     "output_type": "execute_result"
    }
   ],
   "source": [
    "y = np.arange(4)\n",
    "y"
   ]
  },
  {
   "cell_type": "code",
   "execution_count": 69,
   "id": "63cfc05c-78ab-49d1-b14e-40f4f6f9b980",
   "metadata": {},
   "outputs": [
    {
     "data": {
      "text/plain": [
       "array([3, 1])"
      ]
     },
     "execution_count": 69,
     "metadata": {},
     "output_type": "execute_result"
    }
   ],
   "source": [
    "y[::-2]"
   ]
  },
  {
   "cell_type": "code",
   "execution_count": 73,
   "id": "c88dafe5-2436-48ee-b771-83b02c427f87",
   "metadata": {},
   "outputs": [],
   "source": [
    "x[4:]=y[::-1]"
   ]
  },
  {
   "cell_type": "code",
   "execution_count": 75,
   "id": "3897f3a7-a382-4461-a13e-f39cd0bd5405",
   "metadata": {},
   "outputs": [
    {
     "data": {
      "text/plain": [
       "array([0, 1, 2, 3, 3, 2, 1, 0])"
      ]
     },
     "execution_count": 75,
     "metadata": {},
     "output_type": "execute_result"
    }
   ],
   "source": [
    "x"
   ]
  },
  {
   "cell_type": "markdown",
   "id": "49059c8e-479c-405b-95e8-f4d40c2a4ca2",
   "metadata": {},
   "source": [
    "### Fancy Indexing"
   ]
  },
  {
   "cell_type": "code",
   "execution_count": 8,
   "id": "174ee635-0864-45ff-b467-161fd77466aa",
   "metadata": {},
   "outputs": [
    {
     "data": {
      "text/plain": [
       "<module 'numpy' from 'C:\\\\Users\\\\subha\\\\anaconda3\\\\Lib\\\\site-packages\\\\numpy\\\\__init__.py'>"
      ]
     },
     "execution_count": 8,
     "metadata": {},
     "output_type": "execute_result"
    }
   ],
   "source": [
    "import numpy as np\n",
    "a = np.random.randint(0,20,5)\n",
    "np"
   ]
  },
  {
   "cell_type": "code",
   "execution_count": 43,
   "id": "9012621a-b90f-4c1f-82c3-48782c56c696",
   "metadata": {},
   "outputs": [
    {
     "name": "stdout",
     "output_type": "stream",
     "text": [
      "matrix multiplication:\n",
      " [[16 16  8]\n",
      " [40 40 20]\n",
      " [64 64 32]]\n"
     ]
    }
   ],
   "source": [
    "#matrix multiplication\n",
    "a = np.array([[1,2,1],[3,4,3],[5,6,5]])\n",
    "b = np.array([[4,4,1],[4,4,2],[4,4,3]])\n",
    "print('matrix multiplication:\\n',np.matmul(a,b))"
   ]
  },
  {
   "cell_type": "code",
   "execution_count": null,
   "id": "dc8f8b8e-b756-47a1-a7d5-20d7605dd1a3",
   "metadata": {},
   "outputs": [],
   "source": []
  },
  {
   "cell_type": "code",
   "execution_count": 12,
   "id": "ace4c2b2-aafc-4739-bf64-77e0d6bb8089",
   "metadata": {},
   "outputs": [
    {
     "data": {
      "text/plain": [
       "array([ True,  True,  True, False])"
      ]
     },
     "execution_count": 12,
     "metadata": {},
     "output_type": "execute_result"
    }
   ],
   "source": [
    "a = np.array([1,1,0,0], dtype=bool)\n",
    "b = np.array([1,0,1,0], dtype=bool)\n",
    "\n",
    "np.logical_or(a,b)"
   ]
  },
  {
   "cell_type": "code",
   "execution_count": 14,
   "id": "70b6b2bf-eb84-4c25-a70e-29594cad6fc3",
   "metadata": {},
   "outputs": [
    {
     "data": {
      "text/plain": [
       "array([ True,  True,  True, False])"
      ]
     },
     "execution_count": 14,
     "metadata": {},
     "output_type": "execute_result"
    }
   ],
   "source": [
    "a = np.array([1,1,0,0])\n",
    "b = np.array([1,0,1,0])\n",
    "\n",
    "np.logical_or(a,b)"
   ]
  },
  {
   "cell_type": "code",
   "execution_count": 26,
   "id": "fe2bcb9d-845d-4012-bd4a-4c5bcc132cd4",
   "metadata": {},
   "outputs": [
    {
     "data": {
      "text/plain": [
       "array([2, 4, 7, 9])"
      ]
     },
     "execution_count": 26,
     "metadata": {},
     "output_type": "execute_result"
    }
   ],
   "source": [
    "a = np.array([1,1,6,7],dtype=int)\n",
    "b = np.array([1,3,1,2],dtype=int)\n",
    "a+b\n",
    "#np.logical_or(a,b)"
   ]
  },
  {
   "cell_type": "code",
   "execution_count": 29,
   "id": "ba9fb6fa-1c92-4b5f-9835-fb5b51a503b8",
   "metadata": {},
   "outputs": [
    {
     "data": {
      "text/plain": [
       "array([2, 4, 7, 9])"
      ]
     },
     "execution_count": 29,
     "metadata": {},
     "output_type": "execute_result"
    }
   ],
   "source": [
    "a+b"
   ]
  },
  {
   "cell_type": "code",
   "execution_count": 33,
   "id": "777c6c83-b2d6-44b3-af2c-58ee5a3c1a1c",
   "metadata": {},
   "outputs": [
    {
     "data": {
      "text/plain": [
       "array([2., 1., 1., 0.])"
      ]
     },
     "execution_count": 33,
     "metadata": {},
     "output_type": "execute_result"
    }
   ],
   "source": [
    "a = np.array([1,1,0,0],dtype=float)\n",
    "b = np.array([1,0,1,0],dtype=float)\n",
    "a+b\n",
    "#np.logical_or(a,b)"
   ]
  },
  {
   "cell_type": "markdown",
   "id": "f05f2115-2427-4a46-b3aa-2d65fdc7c6ae",
   "metadata": {},
   "source": [
    "### Operations"
   ]
  },
  {
   "cell_type": "code",
   "execution_count": 78,
   "id": "eed0d4e3-5b5c-42f6-81d4-f5d328b1ca60",
   "metadata": {},
   "outputs": [
    {
     "name": "stdout",
     "output_type": "stream",
     "text": [
      "[1 2 4 5]\n",
      "[2 3 5 6]\n"
     ]
    }
   ],
   "source": [
    "x = np.array([1,2,4,5])\n",
    "print(x)\n",
    "print(x+1)"
   ]
  },
  {
   "cell_type": "code",
   "execution_count": 80,
   "id": "4c82187d-54aa-42c7-84bc-cf968a602f27",
   "metadata": {},
   "outputs": [
    {
     "data": {
      "text/plain": [
       "array([  1,   8,  64, 125], dtype=int32)"
      ]
     },
     "execution_count": 80,
     "metadata": {},
     "output_type": "execute_result"
    }
   ],
   "source": [
    "x ** 3"
   ]
  },
  {
   "cell_type": "code",
   "execution_count": 94,
   "id": "a50924b6-8784-4aa5-8522-ff2c0d808597",
   "metadata": {},
   "outputs": [
    {
     "data": {
      "text/plain": [
       "array([3., 3., 3., 3., 3., 3.])"
      ]
     },
     "execution_count": 94,
     "metadata": {},
     "output_type": "execute_result"
    }
   ],
   "source": [
    "y = np.ones(6) + 2\n",
    "y"
   ]
  },
  {
   "cell_type": "code",
   "execution_count": 100,
   "id": "8a1dba21-2e93-406a-99fb-7e323a7f523c",
   "metadata": {},
   "outputs": [
    {
     "name": "stdout",
     "output_type": "stream",
     "text": [
      "sum of x and y :\n",
      " [[ 3  6]\n",
      " [15 16]\n",
      " [10 30]]\n"
     ]
    }
   ],
   "source": [
    "x = np.array([[1,2],[3,4],[5,6]])\n",
    "y = np.array([[3,3],[5,4],[2,5]])\n",
    "\n",
    "# adding x and y\n",
    "print('sum of x and y :\\n',x*y)"
   ]
  },
  {
   "cell_type": "code",
   "execution_count": 102,
   "id": "9c496447-c0eb-4b29-b057-f8a4d4cf4ac8",
   "metadata": {},
   "outputs": [
    {
     "name": "stdout",
     "output_type": "stream",
     "text": [
      "product of x and y :\n",
      " [[ 3  6]\n",
      " [15 16]\n",
      " [10 30]]\n"
     ]
    }
   ],
   "source": [
    "# multiply x and y -elementwise multiplication\n",
    "print('product of x and y :\\n',x*y)"
   ]
  },
  {
   "cell_type": "code",
   "execution_count": 104,
   "id": "5b525f38-d665-431b-82f0-4a217d2747a0",
   "metadata": {},
   "outputs": [
    {
     "name": "stdout",
     "output_type": "stream",
     "text": [
      "[[ 1  0  0  0]\n",
      " [ 0  4  0  0]\n",
      " [ 0  0  9  0]\n",
      " [ 0  0  0 16]]\n"
     ]
    }
   ],
   "source": [
    "# array multiplication\n",
    "z = np.diag([1,2,3,4])\n",
    "print(z * z)"
   ]
  },
  {
   "cell_type": "code",
   "execution_count": 106,
   "id": "945dc46f-f8b5-4869-80e4-3575b9864397",
   "metadata": {},
   "outputs": [
    {
     "name": "stdout",
     "output_type": "stream",
     "text": [
      "maatrix multiplication:\n",
      " [[17 17 17]\n",
      " [36 36 31]\n",
      " [63 63 50]]\n"
     ]
    }
   ],
   "source": [
    "# matrix multiplication\n",
    "x = np.array([[1,3,1],[3,4,3],[6,5,6]])\n",
    "y = np.array([[4,4,2],[3,3,4],[4,4,3]])\n",
    "print('maatrix multiplication:\\n',np.matmul(x,y))"
   ]
  },
  {
   "cell_type": "markdown",
   "id": "75068b72-6278-49b0-9553-5b24ee98ddc3",
   "metadata": {},
   "source": [
    "### comparisions"
   ]
  },
  {
   "cell_type": "code",
   "execution_count": 109,
   "id": "1e9f6369-bf24-41d7-8d0f-a94bc72983fb",
   "metadata": {},
   "outputs": [
    {
     "data": {
      "text/plain": [
       "array([False,  True,  True, False])"
      ]
     },
     "execution_count": 109,
     "metadata": {},
     "output_type": "execute_result"
    }
   ],
   "source": [
    "x = np.array([1,2,3,4])\n",
    "y = np.array([4,2,3,8])\n",
    "x == y"
   ]
  },
  {
   "cell_type": "code",
   "execution_count": 111,
   "id": "cf59f159-6246-4c32-bd1c-987be7102e17",
   "metadata": {},
   "outputs": [
    {
     "data": {
      "text/plain": [
       "array([False, False, False, False])"
      ]
     },
     "execution_count": 111,
     "metadata": {},
     "output_type": "execute_result"
    }
   ],
   "source": [
    "x > y"
   ]
  },
  {
   "cell_type": "code",
   "execution_count": 113,
   "id": "5d68938d-6e85-4624-bfad-2101e7244567",
   "metadata": {},
   "outputs": [],
   "source": [
    "#array-wise comparisions\n",
    "x = np.array([1,2,3,4])\n",
    "y = np.array([4,5,8,9])\n",
    "z = np.array([3,5,7,1])"
   ]
  },
  {
   "cell_type": "code",
   "execution_count": 115,
   "id": "bd7eebb1-9578-434a-8ed2-7e0b0cbb2560",
   "metadata": {},
   "outputs": [
    {
     "data": {
      "text/plain": [
       "False"
      ]
     },
     "execution_count": 115,
     "metadata": {},
     "output_type": "execute_result"
    }
   ],
   "source": [
    "np.array_equal(x,y)"
   ]
  },
  {
   "cell_type": "code",
   "execution_count": 119,
   "id": "cb8c1acf-d359-48be-9945-029f8f477b61",
   "metadata": {},
   "outputs": [
    {
     "data": {
      "text/plain": [
       "False"
      ]
     },
     "execution_count": 119,
     "metadata": {},
     "output_type": "execute_result"
    }
   ],
   "source": [
    "np.array_equal(z,x)"
   ]
  },
  {
   "cell_type": "markdown",
   "id": "d6874613-f350-4293-8578-63de25fa8d84",
   "metadata": {},
   "source": [
    "### logical operations"
   ]
  },
  {
   "cell_type": "code",
   "execution_count": 122,
   "id": "e4ecb104-4e28-4821-a40c-1732f9bc9dee",
   "metadata": {},
   "outputs": [
    {
     "data": {
      "text/plain": [
       "array([ True,  True,  True,  True])"
      ]
     },
     "execution_count": 122,
     "metadata": {},
     "output_type": "execute_result"
    }
   ],
   "source": [
    "x = np.array([1,1,2,2], dtype=bool)\n",
    "y = np.array([1,2,0,1], dtype=bool)\n",
    "\n",
    "np.logical_or(x,y)"
   ]
  },
  {
   "cell_type": "code",
   "execution_count": 124,
   "id": "e22766db-7e3b-4291-8d43-5b8f652878d8",
   "metadata": {},
   "outputs": [
    {
     "data": {
      "text/plain": [
       "array([ True,  True, False,  True])"
      ]
     },
     "execution_count": 124,
     "metadata": {},
     "output_type": "execute_result"
    }
   ],
   "source": [
    "np.logical_and(x,y)"
   ]
  },
  {
   "cell_type": "markdown",
   "id": "affb91e3-328a-460e-ac26-2ccea84393a8",
   "metadata": {},
   "source": [
    "### Transcendental functions"
   ]
  },
  {
   "cell_type": "code",
   "execution_count": 129,
   "id": "ef867447-3b7a-441c-8a61-b957efb30f3c",
   "metadata": {},
   "outputs": [
    {
     "data": {
      "text/plain": [
       "array([0.        , 0.84147098, 0.90929743, 0.14112001])"
      ]
     },
     "execution_count": 129,
     "metadata": {},
     "output_type": "execute_result"
    }
   ],
   "source": [
    "x = np.arange(4)\n",
    "np.sin(x)"
   ]
  },
  {
   "cell_type": "code",
   "execution_count": 133,
   "id": "8219fd7b-5830-4fde-9274-52683746bd56",
   "metadata": {},
   "outputs": [
    {
     "name": "stderr",
     "output_type": "stream",
     "text": [
      "C:\\Users\\subha\\AppData\\Local\\Temp\\ipykernel_7728\\1277889159.py:1: RuntimeWarning: divide by zero encountered in log\n",
      "  np.log(x)\n"
     ]
    },
    {
     "data": {
      "text/plain": [
       "array([      -inf, 0.        , 0.69314718, 1.09861229])"
      ]
     },
     "execution_count": 133,
     "metadata": {},
     "output_type": "execute_result"
    }
   ],
   "source": [
    "np.log(x)"
   ]
  },
  {
   "cell_type": "code",
   "execution_count": 135,
   "id": "6a3d9bde-7b5e-42ad-950d-b058d3940db2",
   "metadata": {},
   "outputs": [
    {
     "data": {
      "text/plain": [
       "array([ 1.        ,  2.71828183,  7.3890561 , 20.08553692])"
      ]
     },
     "execution_count": 135,
     "metadata": {},
     "output_type": "execute_result"
    }
   ],
   "source": [
    "np.exp(x)"
   ]
  },
  {
   "cell_type": "markdown",
   "id": "0c89d303-7685-40b7-9ade-9da33078d1d5",
   "metadata": {},
   "source": [
    "### Shape mismatch"
   ]
  },
  {
   "cell_type": "markdown",
   "id": "e6840dcb-f3c2-49a2-b3f2-538266acda68",
   "metadata": {},
   "source": [
    "### Basic Reductions"
   ]
  },
  {
   "cell_type": "code",
   "execution_count": 139,
   "id": "b2b20eee-2ce8-4265-a5ca-5cdb8da0c3b2",
   "metadata": {},
   "outputs": [
    {
     "data": {
      "text/plain": [
       "10"
      ]
     },
     "execution_count": 139,
     "metadata": {},
     "output_type": "execute_result"
    }
   ],
   "source": [
    "x = np.array([4,3,2,1])\n",
    "np.sum(x)"
   ]
  },
  {
   "cell_type": "code",
   "execution_count": 141,
   "id": "b7c4fe73-8ea1-4203-984e-c65a6e83ddef",
   "metadata": {},
   "outputs": [
    {
     "data": {
      "text/plain": [
       "array([[1, 2],\n",
       "       [2, 2]])"
      ]
     },
     "execution_count": 141,
     "metadata": {},
     "output_type": "execute_result"
    }
   ],
   "source": [
    "#sum by rows and by columns\n",
    "x = np.array([[1,2],[2,2]])\n",
    "x"
   ]
  },
  {
   "cell_type": "code",
   "execution_count": 143,
   "id": "c1ce9a61-e1ee-466f-80a9-42a7e779f67c",
   "metadata": {},
   "outputs": [
    {
     "data": {
      "text/plain": [
       "array([3, 4])"
      ]
     },
     "execution_count": 143,
     "metadata": {},
     "output_type": "execute_result"
    }
   ],
   "source": [
    "x.sum(axis=0)"
   ]
  },
  {
   "cell_type": "code",
   "execution_count": 150,
   "id": "d06d1749-22a1-4032-91bd-e48005323b17",
   "metadata": {},
   "outputs": [
    {
     "data": {
      "text/plain": [
       "array([3, 4])"
      ]
     },
     "execution_count": 150,
     "metadata": {},
     "output_type": "execute_result"
    }
   ],
   "source": [
    "x.sum(axis=1)"
   ]
  },
  {
   "cell_type": "markdown",
   "id": "ea70ce4d-960c-4fc1-a9f2-c87efd34ef58",
   "metadata": {},
   "source": [
    "### Other reductions"
   ]
  },
  {
   "cell_type": "code",
   "execution_count": 153,
   "id": "c342089d-4a4a-4919-bf1e-85f4a301a448",
   "metadata": {},
   "outputs": [
    {
     "data": {
      "text/plain": [
       "1"
      ]
     },
     "execution_count": 153,
     "metadata": {},
     "output_type": "execute_result"
    }
   ],
   "source": [
    "x = np.array([1,2,4])\n",
    "x.min()"
   ]
  },
  {
   "cell_type": "code",
   "execution_count": 155,
   "id": "6fe1477c-aab0-4926-b695-6570ca799557",
   "metadata": {},
   "outputs": [
    {
     "data": {
      "text/plain": [
       "4"
      ]
     },
     "execution_count": 155,
     "metadata": {},
     "output_type": "execute_result"
    }
   ],
   "source": [
    "x.max()"
   ]
  },
  {
   "cell_type": "code",
   "execution_count": 157,
   "id": "4fed9f35-eae8-4b8b-a950-8a69884bdd0d",
   "metadata": {},
   "outputs": [
    {
     "data": {
      "text/plain": [
       "0"
      ]
     },
     "execution_count": 157,
     "metadata": {},
     "output_type": "execute_result"
    }
   ],
   "source": [
    "x.argmin()"
   ]
  },
  {
   "cell_type": "code",
   "execution_count": 159,
   "id": "c9affe4d-de12-45c7-a48a-b498fe1a6e71",
   "metadata": {},
   "outputs": [
    {
     "data": {
      "text/plain": [
       "2"
      ]
     },
     "execution_count": 159,
     "metadata": {},
     "output_type": "execute_result"
    }
   ],
   "source": [
    "x.argmax()"
   ]
  },
  {
   "cell_type": "markdown",
   "id": "4a934d2f-ec13-4e70-87f8-0d755f6883a9",
   "metadata": {},
   "source": [
    "### Statistics"
   ]
  },
  {
   "cell_type": "code",
   "execution_count": 166,
   "id": "c8bae25e-8d34-4662-9012-8e98d9bae4e6",
   "metadata": {},
   "outputs": [
    {
     "name": "stdout",
     "output_type": "stream",
     "text": [
      "array is  [ 0  2  4  6  8 10 12 14]\n",
      "min element is  0\n",
      "max element is  14\n",
      "sum of elements in array is  56\n",
      "mean of elements in array is  7.0\n",
      "median of elements in array is  7.0\n",
      "standard deviation of  elements in array is  4.58257569495584\n"
     ]
    }
   ],
   "source": [
    "normal_array = np.arange(0,15,2)\n",
    "print('array is ',format(normal_array))\n",
    "\n",
    "### min\n",
    "print('min element is ',np.min(normal_array))\n",
    "\n",
    "### max\n",
    "print('max element is ',np.max(normal_array))\n",
    "\n",
    "### sum \n",
    "print('sum of elements in array is ',np.sum(normal_array))\n",
    "\n",
    "### mean\n",
    "print('mean of elements in array is ',np.mean(normal_array))\n",
    "\n",
    "### median\n",
    "print('median of elements in array is ',np.median(normal_array))\n",
    "\n",
    "### sd \n",
    "print('standard deviation of  elements in array is ',np.std(normal_array))\n"
   ]
  },
  {
   "cell_type": "code",
   "execution_count": null,
   "id": "89b9a976-d6c6-4670-93ac-b717bb295106",
   "metadata": {},
   "outputs": [],
   "source": []
  }
 ],
 "metadata": {
  "kernelspec": {
   "display_name": "Python 3 (ipykernel)",
   "language": "python",
   "name": "python3"
  },
  "language_info": {
   "codemirror_mode": {
    "name": "ipython",
    "version": 3
   },
   "file_extension": ".py",
   "mimetype": "text/x-python",
   "name": "python",
   "nbconvert_exporter": "python",
   "pygments_lexer": "ipython3",
   "version": "3.12.4"
  }
 },
 "nbformat": 4,
 "nbformat_minor": 5
}
