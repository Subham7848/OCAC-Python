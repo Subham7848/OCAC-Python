{
 "cells": [
  {
   "cell_type": "code",
   "execution_count": 35,
   "id": "9c945e08-fdef-4a8e-bbd8-39c721c61e5f",
   "metadata": {},
   "outputs": [],
   "source": [
    "#create a class\n",
    "#to create a class, use the keyboard class:\n",
    "class myclass:\n",
    "    x = 5"
   ]
  },
  {
   "cell_type": "code",
   "execution_count": 37,
   "id": "438a7033-0414-44d7-ac2e-ee55941fc799",
   "metadata": {},
   "outputs": [
    {
     "name": "stdout",
     "output_type": "stream",
     "text": [
      "5\n"
     ]
    }
   ],
   "source": [
    "p1 = myclass()\n",
    "print(p1.x)"
   ]
  },
  {
   "cell_type": "code",
   "execution_count": 39,
   "id": "ecfffcf3-c990-4f61-8359-d8dde1e3ed7b",
   "metadata": {},
   "outputs": [],
   "source": [
    "class Person:\n",
    "    def __init__(self,name,age):\n",
    "        self.name = name\n",
    "        self.age = age"
   ]
  },
  {
   "cell_type": "code",
   "execution_count": 41,
   "id": "ad2f2b7e-037d-4426-85fa-66ef0e9aed60",
   "metadata": {},
   "outputs": [
    {
     "name": "stdout",
     "output_type": "stream",
     "text": [
      "subham\n",
      "22\n"
     ]
    }
   ],
   "source": [
    "p1 = Person(\"subham\",22)\n",
    "print(p1.name)\n",
    "print(p1.age)"
   ]
  },
  {
   "cell_type": "code",
   "execution_count": 43,
   "id": "f30ad6d8-6e1d-442b-a4a9-936b252b2c81",
   "metadata": {
    "scrolled": true
   },
   "outputs": [
    {
     "name": "stdin",
     "output_type": "stream",
     "text": [
      "enter the stundent name: sai\n",
      "enter the stundent name: subham\n"
     ]
    },
    {
     "name": "stdout",
     "output_type": "stream",
     "text": [
      "['sai', 'subham']\n"
     ]
    }
   ],
   "source": [
    "def stundents():\n",
    "    a=input(\"enter the stundent name:\")\n",
    "    return a\n",
    "stundentlist=[]\n",
    "m=1\n",
    "while m<=2:\n",
    "    m+=1 \n",
    "    a=(\"{}\".format(stundents()))\n",
    "    stundentlist.append(a)\n",
    "print(stundentlist)"
   ]
  },
  {
   "cell_type": "code",
   "execution_count": 45,
   "id": "7304ea69-f42e-4e49-9dc0-e8791f771590",
   "metadata": {},
   "outputs": [
    {
     "name": "stdout",
     "output_type": "stream",
     "text": [
      "hello jipu 6\n"
     ]
    }
   ],
   "source": [
    "#create class\n",
    "class myclass:\n",
    "    a = 6\n",
    "    print(\"hello jipu\",a)"
   ]
  },
  {
   "cell_type": "code",
   "execution_count": 47,
   "id": "58bf0616-789d-4c92-ac47-286104f0f4aa",
   "metadata": {},
   "outputs": [
    {
     "name": "stdout",
     "output_type": "stream",
     "text": [
      "6\n"
     ]
    }
   ],
   "source": [
    "#create object, create an object named p1 , and print the value of a:\n",
    "p1 = myclass()\n",
    "print(p1.a)"
   ]
  },
  {
   "cell_type": "code",
   "execution_count": 49,
   "id": "cc1271b5-5a9a-4f65-9f8a-9c9757ee706c",
   "metadata": {},
   "outputs": [
    {
     "name": "stdout",
     "output_type": "stream",
     "text": [
      "6\n",
      "<class '__main__.myclass'>\n"
     ]
    }
   ],
   "source": [
    "b=myclass()\n",
    "print(b.a)\n",
    "print(type(b))"
   ]
  },
  {
   "cell_type": "code",
   "execution_count": 51,
   "id": "873efc5a-05ce-47a5-a959-0e8cdfc21dc4",
   "metadata": {},
   "outputs": [
    {
     "name": "stdout",
     "output_type": "stream",
     "text": [
      "hello sai\n",
      "<class '__main__.stundents'>\n"
     ]
    }
   ],
   "source": [
    "class stundents:\n",
    "    print(\"hello sai\")\n",
    "\n",
    "c = stundents()\n",
    "print(type(c))"
   ]
  },
  {
   "cell_type": "code",
   "execution_count": 53,
   "id": "110144d3-0862-468f-a264-2f7c0347b42e",
   "metadata": {},
   "outputs": [
    {
     "name": "stdout",
     "output_type": "stream",
     "text": [
      "hello,wellcome to OCAC\n"
     ]
    }
   ],
   "source": [
    "class stundent:\n",
    "    def func():\n",
    "        print(\"hello,wellcome to OCAC\")\n",
    "\n",
    "stundent.func()\n",
    "        "
   ]
  },
  {
   "cell_type": "code",
   "execution_count": 55,
   "id": "d90e302b-d3d5-496d-a977-34e06c736428",
   "metadata": {},
   "outputs": [
    {
     "name": "stdout",
     "output_type": "stream",
     "text": [
      "hello,welcome to OCAC 2024\n"
     ]
    }
   ],
   "source": [
    "class stundent:\n",
    "    year = 2024\n",
    "    def func(self):\n",
    "        print(\"hello,welcome to OCAC\",self.year)\n",
    "a = stundent()\n",
    "a.func()"
   ]
  },
  {
   "cell_type": "markdown",
   "id": "c2a7001b-7cb6-42b1-8238-649d60cd3894",
   "metadata": {},
   "source": [
    "### Note"
   ]
  },
  {
   "cell_type": "code",
   "execution_count": 5,
   "id": "879d23c6-1b10-48bf-a228-f783bca42a9a",
   "metadata": {},
   "outputs": [
    {
     "name": "stdout",
     "output_type": "stream",
     "text": [
      "hello my name is somu\n"
     ]
    }
   ],
   "source": [
    "class Person:\n",
    "    def __init__(self, name, age):\n",
    "      self.name = name\n",
    "      self.age = age\n",
    "\n",
    "    def myfunc(self):\n",
    "        print(\"hello my name is \" + self.name)\n",
    "\n",
    "p1 = Person(\"somu\",32)\n",
    "p1.myfunc()   "
   ]
  },
  {
   "cell_type": "code",
   "execution_count": 31,
   "id": "46d1f1d1-3e34-4074-abb1-321dfb6a4038",
   "metadata": {},
   "outputs": [
    {
     "name": "stdout",
     "output_type": "stream",
     "text": [
      "Elon subham!\n"
     ]
    }
   ],
   "source": [
    "class Student:\n",
    "    def __init__(self,name):\n",
    "       self.name = name\n",
    "\n",
    "elon = Student(name='Elon subham!')\n",
    "print(elon.name)"
   ]
  },
  {
   "cell_type": "code",
   "execution_count": 21,
   "id": "1622c7d6-5a14-4f46-b937-8caa18c8a83f",
   "metadata": {},
   "outputs": [
    {
     "name": "stdout",
     "output_type": "stream",
     "text": [
      "Elon subham!\n",
      "I am champ\n"
     ]
    }
   ],
   "source": [
    "class stundent:\n",
    "    def __init__(self,name):\n",
    "       self.name = name\n",
    "\n",
    "elon = stundent(name='Elon subham!')\n",
    "champ = stundent(name=\"I am champ\")\n",
    "\n",
    "print(elon.name)\n",
    "print(champ.name)"
   ]
  },
  {
   "cell_type": "code",
   "execution_count": 45,
   "id": "5d1918f0-ac46-4a1e-9d34-aac85139aa06",
   "metadata": {},
   "outputs": [
    {
     "name": "stdout",
     "output_type": "stream",
     "text": [
      "somu\n",
      "32\n"
     ]
    }
   ],
   "source": [
    "class Person:\n",
    "    def __init__(self, name, age):\n",
    "      self.name = name\n",
    "      self.age = age\n",
    "p1 = Person(\"somu\",32)\n",
    "\n",
    "print(p1.name)\n",
    "print(p1.age)"
   ]
  },
  {
   "cell_type": "code",
   "execution_count": 3,
   "id": "d0894c1e-e7d4-4718-8777-ef4b26c8c0c1",
   "metadata": {},
   "outputs": [],
   "source": [
    "class stundent:\n",
    "    total = 600\n",
    "\n",
    "    def __int__(self,marks):\n",
    "       self.marks = marks\n",
    "       print(\"initialized...\")\n",
    "    def findloss(self):\n",
    "        return self.total - self.marks\n",
    "    def findpercentage(self):\n",
    "        return(self.marks / self.total) * 100"
   ]
  },
  {
   "cell_type": "code",
   "execution_count": 5,
   "id": "7d12453c-017e-4a08-940a-493421d1b7d7",
   "metadata": {},
   "outputs": [
    {
     "ename": "NameError",
     "evalue": "name 'Student' is not defined",
     "output_type": "error",
     "traceback": [
      "\u001b[1;31m---------------------------------------------------------------------------\u001b[0m",
      "\u001b[1;31mNameError\u001b[0m                                 Traceback (most recent call last)",
      "Cell \u001b[1;32mIn[5], line 1\u001b[0m\n\u001b[1;32m----> 1\u001b[0m x \u001b[38;5;241m=\u001b[39m Student(mark\u001b[38;5;241m=\u001b[39m\u001b[38;5;241m420\u001b[39m)\n\u001b[0;32m      2\u001b[0m \u001b[38;5;28mprint\u001b[39m(\u001b[38;5;124m\"\u001b[39m\u001b[38;5;124mTotal marks:\u001b[39m\u001b[38;5;124m\"\u001b[39m,x\u001b[38;5;241m.\u001b[39mtotal)\n\u001b[0;32m      3\u001b[0m \u001b[38;5;28mprint\u001b[39m(\u001b[38;5;124m'\u001b[39m\u001b[38;5;124mLost marks:\u001b[39m\u001b[38;5;124m'\u001b[39m,x\u001b[38;5;241m.\u001b[39mfindloss())\n",
      "\u001b[1;31mNameError\u001b[0m: name 'Student' is not defined"
     ]
    }
   ],
   "source": [
    "x = Student(mark=420)\n",
    "print(\"Total marks:\",x.total)\n",
    "print('Lost marks:',x.findloss())\n",
    "print('Percentage is:',x.findpercentage())\n",
    "print('Percentage is: {:.3f}%'.format(x.findpercentage()))"
   ]
  },
  {
   "cell_type": "markdown",
   "id": "b7eb3724-be88-4fc5-ab72-39c912393fe5",
   "metadata": {},
   "source": [
    "### Class defination"
   ]
  },
  {
   "cell_type": "code",
   "execution_count": 61,
   "id": "57b38865-f8d7-4ab3-b0df-3fedcaec381c",
   "metadata": {},
   "outputs": [],
   "source": [
    "class stundent:\n",
    "    def __init__(self, marks):\n",
    "       self.marks = marks\n",
    "       print(\"Initialized...\")"
   ]
  },
  {
   "cell_type": "code",
   "execution_count": 35,
   "id": "f41869df-5bcb-46ab-90f3-139b2672a0dd",
   "metadata": {},
   "outputs": [],
   "source": [
    "class student:\n",
    "    total = 600\n",
    "\n",
    "    def __init__(self, name, marks,gender):\n",
    "        self.name=name\n",
    "        self.marks=marks\n",
    "        self.gender=gender\n",
    "        print(\"Initialized...\")\n",
    "\n",
    "    def __len__(self):\n",
    "        return self.marks\n",
    "\n",
    "    def __str__(self):\n",
    "        return \"name: %s | marks: %s | gender: %s\" %(self.name,self.marks,self.gender)\n",
    "\n",
    "    def __del__(self):\n",
    "        print(\"student database is deleted\")"
   ]
  },
  {
   "cell_type": "code",
   "execution_count": 37,
   "id": "d009132c-25d1-49fc-861c-a120474b126b",
   "metadata": {},
   "outputs": [
    {
     "name": "stdout",
     "output_type": "stream",
     "text": [
      "Initialized...\n",
      "Initialized...\n"
     ]
    }
   ],
   "source": [
    "x = student('champa', '420', 'female')\n",
    "y = student('chandu', '465', 'male')"
   ]
  },
  {
   "cell_type": "code",
   "execution_count": 39,
   "id": "a45e652a-3d7c-45f9-9156-aafe86b275fc",
   "metadata": {},
   "outputs": [
    {
     "name": "stdout",
     "output_type": "stream",
     "text": [
      "name: champa | marks: 420 | gender: female\n"
     ]
    }
   ],
   "source": [
    "print(x)"
   ]
  },
  {
   "cell_type": "code",
   "execution_count": 41,
   "id": "604ce2f8-e5d7-4ebd-84d5-374b3cea2d47",
   "metadata": {},
   "outputs": [
    {
     "name": "stdout",
     "output_type": "stream",
     "text": [
      "Initialized...\n",
      "student database is deleted\n",
      "<__main__.student object at 0x00000299F814F740>\n",
      "marks:  420\n"
     ]
    }
   ],
   "source": [
    "class student:\n",
    "    total = 600\n",
    "\n",
    "    def __init__(self,name,marks,gender):\n",
    "        self.name=name\n",
    "        self.marks=marks\n",
    "        self.gender=gender\n",
    "        print(\"Initialized...\")\n",
    "\n",
    "    def __len__(y):\n",
    "        return y.marks\n",
    "x = student('champa', 420, 'female')\n",
    "print(x)\n",
    "print('marks: ',len(x))"
   ]
  },
  {
   "cell_type": "markdown",
   "id": "53c82318-174b-4fb8-b10b-c60ffe5024ef",
   "metadata": {},
   "source": [
    "### Self parameter "
   ]
  },
  {
   "cell_type": "code",
   "execution_count": 3,
   "id": "ea5dac59-88fc-4c0b-9a72-49576e0eaaa2",
   "metadata": {},
   "outputs": [
    {
     "name": "stdout",
     "output_type": "stream",
     "text": [
      "hello my name is somu 32\n"
     ]
    }
   ],
   "source": [
    "class person:\n",
    "    def __init__(mysillyobject,name,age):\n",
    "        mysillyobject.name = name\n",
    "        mysillyobject.age = age \n",
    "\n",
    "    def myfunc(xyz):\n",
    "        print(\"hello my name is \" + xyz.name, + xyz.age)\n",
    "\n",
    "p1 = person(\"somu\",32)\n",
    "p1.myfunc()"
   ]
  },
  {
   "cell_type": "code",
   "execution_count": 5,
   "id": "bc0b7dc4-0a92-4a7e-82a2-1227bee660f1",
   "metadata": {},
   "outputs": [
    {
     "name": "stdout",
     "output_type": "stream",
     "text": [
      "hello my name is somu 30\n"
     ]
    }
   ],
   "source": [
    "#modify object properties\n",
    "#set the age of p1 to 30:\n",
    "\n",
    "p1.age = 30\n",
    "p1.myfunc()"
   ]
  },
  {
   "cell_type": "markdown",
   "id": "5ddb59b1-acaf-4553-ba24-89388e3540b1",
   "metadata": {},
   "source": [
    "### Create a parent class "
   ]
  },
  {
   "cell_type": "code",
   "execution_count": 9,
   "id": "3f059b66-fe0a-4805-90aa-5b94897f1fc7",
   "metadata": {},
   "outputs": [
    {
     "name": "stdout",
     "output_type": "stream",
     "text": [
      "sonu short\n"
     ]
    }
   ],
   "source": [
    "#create a class named person, with firstname and lastname properties, and a \n",
    "class person:\n",
    "    def __init__(self,fname,lname):\n",
    "        self.firstname = fname\n",
    "        self.lastname = lname\n",
    "    def printname(self):\n",
    "        print(self.firstname,self.lastname)\n",
    "x = person(\"sonu\",\"short\")\n",
    "x.printname()"
   ]
  },
  {
   "cell_type": "markdown",
   "id": "6f9d084c-5c84-4487-b994-8a4262f2ce6c",
   "metadata": {},
   "source": [
    "### Create a child class"
   ]
  },
  {
   "cell_type": "code",
   "execution_count": 11,
   "id": "05da5be0-cdf3-4086-b3b7-e9985e846310",
   "metadata": {},
   "outputs": [],
   "source": [
    "#create a child named student, which will inherit the properties and me3thods\n",
    "class student(person):\n",
    "    pass"
   ]
  },
  {
   "cell_type": "markdown",
   "id": "94cef62b-1d66-457b-8cac-2e3cab966da7",
   "metadata": {},
   "source": [
    "### Add init function"
   ]
  },
  {
   "cell_type": "code",
   "execution_count": 13,
   "id": "856b220e-ac94-48c7-bccb-944febe790eb",
   "metadata": {},
   "outputs": [],
   "source": [
    "#Add the __init__() function to the student class:\n",
    "\n",
    "class student(person):\n",
    "    def __init__(self,fname, lname):\n",
    "        pass\n",
    "#add properties etc"
   ]
  },
  {
   "cell_type": "code",
   "execution_count": 15,
   "id": "5c0965ad-d32a-461b-8dbe-e94a9a8c95d1",
   "metadata": {},
   "outputs": [
    {
     "name": "stdout",
     "output_type": "stream",
     "text": [
      "sonu short\n"
     ]
    }
   ],
   "source": [
    "class Student(person):\n",
    "    def __init__(self,fname,lname):\n",
    "        person.__init__(self,fname,lname)\n",
    "\n",
    "        x = student(\"jaga\",\"subrat\")\n",
    "x.printname()"
   ]
  },
  {
   "cell_type": "markdown",
   "id": "759bc9a8-28db-48ca-b8c6-4515ebaa75ab",
   "metadata": {},
   "source": [
    "### Super function"
   ]
  },
  {
   "cell_type": "code",
   "execution_count": 18,
   "id": "87c76c16-b274-4eca-9b5c-88e626dd2c45",
   "metadata": {},
   "outputs": [],
   "source": [
    "class student(person):\n",
    "    def __init__(self,fname,lname):\n",
    "        super().__init__(fname,lname)"
   ]
  },
  {
   "cell_type": "markdown",
   "id": "6811dc2b-93be-4cba-a35c-6a28008db678",
   "metadata": {},
   "source": [
    "### Add properties"
   ]
  },
  {
   "cell_type": "code",
   "execution_count": 21,
   "id": "dee4047b-9fa4-4745-91cc-9d3cd3e72892",
   "metadata": {},
   "outputs": [
    {
     "name": "stdout",
     "output_type": "stream",
     "text": [
      "2015\n",
      "sonu short\n"
     ]
    }
   ],
   "source": [
    "#add a property called graduationaryear to student class:\n",
    "class person:\n",
    "    def __init__(self,fname,lname):\n",
    "        self.firstname = fname\n",
    "        self.lastname = lname\n",
    "\n",
    "    def printname(self):\n",
    "        print(self.firstname,self.lastname)\n",
    "\n",
    "class student(person):\n",
    "    def __init__(self,fname,lname):\n",
    "        super().__init__(fname,lname)\n",
    "        self.graduationyear = 2015\n",
    "\n",
    "x = student(\"sonu\",\"short\")\n",
    "print(x.graduationyear)\n",
    "x.printname()"
   ]
  },
  {
   "cell_type": "code",
   "execution_count": 34,
   "id": "b3006976-9231-4f36-b972-daf00b4657f8",
   "metadata": {},
   "outputs": [
    {
     "name": "stdout",
     "output_type": "stream",
     "text": [
      "2015\n"
     ]
    }
   ],
   "source": [
    "class person:\n",
    "    def __init__(self,fname,lname):\n",
    "        self.firstname = fname\n",
    "        self.lname = lname\n",
    "\n",
    "    def printname(self):\n",
    "        print(self.firstname,self.lastname)\n",
    "\n",
    "class student(person):\n",
    "    def __init__(self,fname,lname,year):\n",
    "        super().__init__(fname,lname)\n",
    "        self.graduationyear = year\n",
    "\n",
    "x = student(\"sonu\",\"short\",2015)\n",
    "print(x.graduationyear)"
   ]
  },
  {
   "cell_type": "markdown",
   "id": "f2d18274-1e42-46d8-9a2a-928e672e20a4",
   "metadata": {},
   "source": [
    "### Add methods"
   ]
  },
  {
   "cell_type": "code",
   "execution_count": 50,
   "id": "ae4c35bc-3e31-4cff-9148-788f06350b2d",
   "metadata": {},
   "outputs": [
    {
     "ename": "SyntaxError",
     "evalue": "invalid syntax (3901156139.py, line 15)",
     "output_type": "error",
     "traceback": [
      "\u001b[1;36m  Cell \u001b[1;32mIn[50], line 15\u001b[1;36m\u001b[0m\n\u001b[1;33m    print(\"welcome\",self.firstname,self.lastname,\"to the class of\",self.year):\u001b[0m\n\u001b[1;37m                                                                             ^\u001b[0m\n\u001b[1;31mSyntaxError\u001b[0m\u001b[1;31m:\u001b[0m invalid syntax\n"
     ]
    }
   ],
   "source": [
    "class person:\n",
    "    def __init__(self,fname,lname):\n",
    "        self.firstname = fname\n",
    "        self.lname = lname\n",
    "\n",
    "    def printname(self):\n",
    "        print(self.firstname,self.lastname)\n",
    "\n",
    "class student(person):\n",
    "    def __init__(self,fname,lname,year):\n",
    "        super().__init__(fname,lname)\n",
    "        self.graduationyear = year\n",
    "\n",
    "    def welcome(self):\n",
    "        print(\"welcome\",self.firstname,self.lastname,\"to the class of\",self.year):\n",
    "\n",
    "x = student(\"sonu\",\"short\",2015)\n",
    "x.welcome()"
   ]
  },
  {
   "cell_type": "markdown",
   "id": "209f1055-fff8-42a7-b388-8f110eeec708",
   "metadata": {},
   "source": [
    "### Inheritance"
   ]
  },
  {
   "cell_type": "code",
   "execution_count": 77,
   "id": "59e8b999-b617-47d2-a64e-dd1839f80042",
   "metadata": {},
   "outputs": [],
   "source": [
    "class subham:\n",
    "    def __init__(self):\n",
    "        print(\"profile created\")\n",
    "    def name(self):\n",
    "        print(\"subham khuntia\")\n",
    "    def age(self):\n",
    "        print(\"22\")"
   ]
  },
  {
   "cell_type": "code",
   "execution_count": 79,
   "id": "0102da24-24eb-4870-aaaf-55650ae556bb",
   "metadata": {},
   "outputs": [],
   "source": [
    "class spacex(subham):\n",
    "    def __init__(self):\n",
    "        super().__init__()\n",
    "        print(\"company profile created\")\n",
    "\n",
    "    def name(self):\n",
    "        print(\"SpaceX\")\n",
    "    def type(self):\n",
    "        print(\"private space travel\")"
   ]
  },
  {
   "cell_type": "code",
   "execution_count": 85,
   "id": "67c57283-c72e-44d8-bf88-e8b0c6f42fc3",
   "metadata": {},
   "outputs": [
    {
     "name": "stdout",
     "output_type": "stream",
     "text": [
      "profile created\n",
      "company profile created\n",
      "SpaceX\n",
      "22\n",
      "private space travel\n"
     ]
    }
   ],
   "source": [
    "# creating  on instance of the spacex class\n",
    "spacex_profile = spacex()\n",
    "\n",
    "# calling methods on  the instance\n",
    "spacex_profile.name()\n",
    "spacex_profile.age()\n",
    "spacex_profile.type()"
   ]
  },
  {
   "cell_type": "code",
   "execution_count": 87,
   "id": "09c4f2e7-3faa-4720-b96a-fc71a7c4852f",
   "metadata": {},
   "outputs": [
    {
     "name": "stdout",
     "output_type": "stream",
     "text": [
      "profile created\n",
      "company profile created\n"
     ]
    }
   ],
   "source": [
    "x = spacex()"
   ]
  },
  {
   "cell_type": "markdown",
   "id": "f64d24ab-75fa-4170-b88a-11b01217db07",
   "metadata": {},
   "source": [
    "### Polimorphism"
   ]
  },
  {
   "cell_type": "code",
   "execution_count": 98,
   "id": "759d11be-13ac-417a-8289-73e80b8aaf10",
   "metadata": {},
   "outputs": [],
   "source": [
    "class subham:\n",
    "    def __init__(self,name):\n",
    "        self.name = name\n",
    "    def type(self):\n",
    "        return \"founder\"\n",
    "class rama:\n",
    "    def __init__(self,name):\n",
    "        self.name = name\n",
    "    def type(self):\n",
    "        return \"ceo\""
   ]
  },
  {
   "cell_type": "code",
   "execution_count": 100,
   "id": "25ca0ec9-fb25-4cd0-be10-033f7c6e5ed0",
   "metadata": {},
   "outputs": [
    {
     "name": "stdout",
     "output_type": "stream",
     "text": [
      "subham khuntia is a founder\n",
      "rama swain is a ceo\n"
     ]
    }
   ],
   "source": [
    "person1 = subham('subham khuntia')\n",
    "person2 = rama('rama swain')\n",
    "def print_person_type(person):\n",
    "    print(f\"{person.name} is a {person.type()}\")\n",
    "print_person_type(person1)\n",
    "print_person_type(person2)"
   ]
  },
  {
   "cell_type": "markdown",
   "id": "573907fd-8d5c-40f5-8838-ad07967398f0",
   "metadata": {},
   "source": [
    "### Using staticmethod"
   ]
  },
  {
   "cell_type": "code",
   "execution_count": 103,
   "id": "557b3ed0-a5fb-4b8a-acbe-05796e9bdf67",
   "metadata": {},
   "outputs": [
    {
     "name": "stdout",
     "output_type": "stream",
     "text": [
      "6\n"
     ]
    }
   ],
   "source": [
    "class myclass:\n",
    "    @staticmethod\n",
    "    def my_function(arg1,arg2):\n",
    "        return arg1 + arg2\n",
    "result = myclass.my_function(2,4)\n",
    "print(result)"
   ]
  },
  {
   "cell_type": "markdown",
   "id": "a072013b-4511-46c4-a5a9-ac20ade0d671",
   "metadata": {},
   "source": [
    "### Using classmethod"
   ]
  },
  {
   "cell_type": "code",
   "execution_count": 106,
   "id": "df2d861d-8e7e-4b01-ac0c-7a8d5686df63",
   "metadata": {},
   "outputs": [
    {
     "name": "stdout",
     "output_type": "stream",
     "text": [
      "20\n"
     ]
    }
   ],
   "source": [
    "class myclass:\n",
    "    class_variable = 15\n",
    "\n",
    "    @classmethod\n",
    "    def my_function(cls,arg1):\n",
    "        return cls.class_variable + arg1\n",
    "result = myclass.my_function(5)\n",
    "print(result)\n",
    "        "
   ]
  },
  {
   "cell_type": "markdown",
   "id": "e3c7b383-8f06-408d-88c2-a24207be0987",
   "metadata": {},
   "source": [
    "### regular methods"
   ]
  },
  {
   "cell_type": "code",
   "execution_count": 109,
   "id": "f6ff5592-d0d8-4e57-972d-42a2db14b7d0",
   "metadata": {},
   "outputs": [
    {
     "name": "stdout",
     "output_type": "stream",
     "text": [
      "160\n"
     ]
    }
   ],
   "source": [
    "class myclass:\n",
    "    def __init__(self,value):\n",
    "        self.value = value\n",
    "    def my_function(self,arg1):\n",
    "        return self.value + arg1\n",
    "instance = myclass(10)\n",
    "result = instance.my_function(150)\n",
    "print(result)"
   ]
  },
  {
   "cell_type": "markdown",
   "id": "a94a254c-f340-42bb-95b8-d4a1e1cf594b",
   "metadata": {},
   "source": [
    "### Encapsulation"
   ]
  },
  {
   "cell_type": "code",
   "execution_count": 112,
   "id": "2e177fad-696a-4caa-b762-25f64b0bb7be",
   "metadata": {},
   "outputs": [
    {
     "name": "stdout",
     "output_type": "stream",
     "text": [
      "50\n"
     ]
    }
   ],
   "source": [
    "class myclass:\n",
    "    def __init__(self,value):\n",
    "        self.value = value\n",
    "\n",
    "obj = myclass(50)\n",
    "print(obj.value)"
   ]
  },
  {
   "cell_type": "markdown",
   "id": "65f79504-263d-44b0-b8e9-95d219cb6887",
   "metadata": {},
   "source": [
    "### protected members"
   ]
  },
  {
   "cell_type": "code",
   "execution_count": 115,
   "id": "36559c4e-7e5b-440b-9818-b0a082f18102",
   "metadata": {},
   "outputs": [
    {
     "name": "stdout",
     "output_type": "stream",
     "text": [
      "20\n"
     ]
    }
   ],
   "source": [
    "class myclass:\n",
    "    def __init__(self,value):\n",
    "       self._value = value\n",
    "    def _protected_method(self):\n",
    "        return self._value\n",
    "obj = myclass(20)\n",
    "print(obj._value)"
   ]
  },
  {
   "cell_type": "code",
   "execution_count": 117,
   "id": "8307a9a0-0879-4f70-bd68-2d92ea4f3b5e",
   "metadata": {},
   "outputs": [
    {
     "data": {
      "text/plain": [
       "20"
      ]
     },
     "execution_count": 117,
     "metadata": {},
     "output_type": "execute_result"
    }
   ],
   "source": [
    "obj._protected_method()"
   ]
  },
  {
   "cell_type": "markdown",
   "id": "857d43db-2e2f-4f21-8ec2-0a7796ef1d0f",
   "metadata": {},
   "source": [
    "### private members"
   ]
  },
  {
   "cell_type": "code",
   "execution_count": 126,
   "id": "c4682ab7-1960-4470-8b4a-8dbc422634d0",
   "metadata": {},
   "outputs": [
    {
     "name": "stdout",
     "output_type": "stream",
     "text": [
      "42\n"
     ]
    }
   ],
   "source": [
    "class myclass:\n",
    "    def __init__(self,value):\n",
    "        self.__value = value\n",
    "    def get_value(self):\n",
    "        return self.__value\n",
    "\n",
    "obj = myclass(42)\n",
    "# print(obj.__value)\n",
    "print(obj.get_value())"
   ]
  },
  {
   "cell_type": "markdown",
   "id": "8d7eebfc-0a3c-4d44-8517-e9435a0bcca1",
   "metadata": {},
   "source": [
    "### Getter and setter method"
   ]
  },
  {
   "cell_type": "code",
   "execution_count": 129,
   "id": "ba61acf3-6860-44f1-bccd-f900a18ffe9b",
   "metadata": {},
   "outputs": [
    {
     "name": "stdout",
     "output_type": "stream",
     "text": [
      "40\n",
      "20\n"
     ]
    }
   ],
   "source": [
    "class myclass:\n",
    "    def __init__(self,value):\n",
    "        self.__value = value\n",
    "    def get_value(self):\n",
    "        return self.__value\n",
    "    def set_value(self,value):\n",
    "        self.__value = value\n",
    "obj = myclass(40)\n",
    "print(obj.get_value())\n",
    "obj.set_value(20)\n",
    "print(obj.get_value())"
   ]
  },
  {
   "cell_type": "code",
   "execution_count": null,
   "id": "351e2367-dd26-4010-b5d0-d9d4b353faa9",
   "metadata": {},
   "outputs": [],
   "source": []
  }
 ],
 "metadata": {
  "kernelspec": {
   "display_name": "Python 3 (ipykernel)",
   "language": "python",
   "name": "python3"
  },
  "language_info": {
   "codemirror_mode": {
    "name": "ipython",
    "version": 3
   },
   "file_extension": ".py",
   "mimetype": "text/x-python",
   "name": "python",
   "nbconvert_exporter": "python",
   "pygments_lexer": "ipython3",
   "version": "3.12.4"
  }
 },
 "nbformat": 4,
 "nbformat_minor": 5
}
