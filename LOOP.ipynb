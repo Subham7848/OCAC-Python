{
 "cells": [
  {
   "cell_type": "markdown",
   "id": "7db1b614-2c42-4d06-b38e-e4f57c7e9dc8",
   "metadata": {},
   "source": [
    "### loops"
   ]
  },
  {
   "cell_type": "code",
   "execution_count": 2,
   "id": "46aa10a5-e433-402f-a986-f04b80f4506e",
   "metadata": {},
   "outputs": [
    {
     "name": "stdout",
     "output_type": "stream",
     "text": [
      "1\n",
      "2\n",
      "3\n",
      "4\n",
      "5\n"
     ]
    }
   ],
   "source": [
    "feq = [1,2,3,4,5]\n",
    "for x in feq:\n",
    "    print(x)"
   ]
  },
  {
   "cell_type": "code",
   "execution_count": 4,
   "id": "8e1a9455-e8c1-4df4-8bb0-7a9df7cb75e8",
   "metadata": {},
   "outputs": [
    {
     "name": "stdout",
     "output_type": "stream",
     "text": [
      "1\n",
      "2\n",
      "3\n",
      "4\n",
      "5\n"
     ]
    }
   ],
   "source": [
    "feq = [1,2,3,4,5]\n",
    "for item in feq:\n",
    "    print(item)"
   ]
  },
  {
   "cell_type": "code",
   "execution_count": 6,
   "id": "8b382491-b6b0-48cc-9dd9-68e9f0bdb153",
   "metadata": {},
   "outputs": [
    {
     "name": "stdout",
     "output_type": "stream",
     "text": [
      "potato\n",
      "onion\n",
      "cabbage\n",
      "garlic\n"
     ]
    }
   ],
   "source": [
    "vegetable = ['potato','onion','cabbage','garlic']\n",
    "for i in vegetable:\n",
    "    print(i)"
   ]
  },
  {
   "cell_type": "code",
   "execution_count": 8,
   "id": "837b303c-36fa-4628-a6a7-081384fd6c16",
   "metadata": {},
   "outputs": [
    {
     "name": "stdout",
     "output_type": "stream",
     "text": [
      "123456"
     ]
    }
   ],
   "source": [
    "num1=[1,2,3,4,5,6]\n",
    "for x in num1:\n",
    "    print(x,end='')"
   ]
  },
  {
   "cell_type": "code",
   "execution_count": 12,
   "id": "b6240b6b-53b6-4064-a9e7-12f4649d13b1",
   "metadata": {},
   "outputs": [
    {
     "name": "stdout",
     "output_type": "stream",
     "text": [
      "4 5 6 "
     ]
    }
   ],
   "source": [
    "x=\"456\"\n",
    "for char in x:\n",
    "    print(char,end=' ')"
   ]
  },
  {
   "cell_type": "code",
   "execution_count": 14,
   "id": "1fca71ff-e6c3-4261-b94a-974d0fedbf9e",
   "metadata": {},
   "outputs": [
    {
     "name": "stdout",
     "output_type": "stream",
     "text": [
      "0 hello\n",
      "1 hello\n",
      "2 hello\n",
      "3 hello\n",
      "4 hello\n",
      "5 hello\n",
      "6 hello\n",
      "7 hello\n",
      "8 hello\n",
      "9 hello\n"
     ]
    }
   ],
   "source": [
    "for a in range(10):\n",
    "    print(a,\"hello\")"
   ]
  },
  {
   "cell_type": "code",
   "execution_count": 18,
   "id": "46ae4dc8-d995-473d-8faa-a349a78d20dc",
   "metadata": {},
   "outputs": [
    {
     "name": "stdout",
     "output_type": "stream",
     "text": [
      "garlic garlic garlic garlic garlic garlic garlic garlic garlic garlic "
     ]
    }
   ],
   "source": [
    "# print 1 to 10 natural numbers\n",
    "for a in range(1,11):\n",
    "    print(i,end=\" \")"
   ]
  },
  {
   "cell_type": "code",
   "execution_count": null,
   "id": "ab3cdbe9-20aa-4763-bd40-1cc9891ec145",
   "metadata": {},
   "outputs": [],
   "source": []
  },
  {
   "cell_type": "code",
   "execution_count": 20,
   "id": "e6bbcc93-6734-4fe3-bd38-ab857b1571a5",
   "metadata": {},
   "outputs": [
    {
     "name": "stdout",
     "output_type": "stream",
     "text": [
      "11\n",
      "12\n",
      "13\n",
      "14\n",
      "15\n",
      "16\n",
      "17\n",
      "18\n",
      "19\n",
      "20\n",
      "21\n",
      "22\n",
      "23\n",
      "24\n",
      "25\n",
      "26\n",
      "27\n",
      "28\n",
      "29\n",
      "30\n"
     ]
    }
   ],
   "source": [
    "# for loop to print all the numbers between 10 and 30 (both inclusive)\n",
    "for x in range(11,31):\n",
    "    print(x)"
   ]
  },
  {
   "cell_type": "code",
   "execution_count": 22,
   "id": "0136e49d-b2ef-43ef-a017-d760e9e8493a",
   "metadata": {},
   "outputs": [
    {
     "name": "stdout",
     "output_type": "stream",
     "text": [
      "100 98 96 94 92 90 88 86 84 82 80 78 76 74 72 70 68 66 64 62 60 58 56 54 52 50 48 46 44 42 40 38 36 34 32 30 28 26 24 22 20 18 16 14 12 10 8 6 4 2 "
     ]
    }
   ],
   "source": [
    "#print even numbers in descending order from 1 to 100\n",
    "for x in range(100,1,-2):\n",
    "    print(x,end=' ')"
   ]
  },
  {
   "cell_type": "code",
   "execution_count": 24,
   "id": "d5fce359-24f2-4639-95ef-ff8a902d1b59",
   "metadata": {},
   "outputs": [
    {
     "name": "stdout",
     "output_type": "stream",
     "text": [
      "12\n",
      "14\n",
      "16\n",
      "18\n",
      "20\n",
      "22\n",
      "24\n",
      "26\n",
      "28\n",
      "30\n",
      "32\n",
      "34\n",
      "36\n",
      "38\n",
      "40\n",
      "42\n",
      "44\n",
      "46\n",
      "48\n"
     ]
    }
   ],
   "source": [
    "# write a for loop to print all the odd numbers between 10 to 50.\n",
    "for a in range(12,50,2):\n",
    "    print (a)"
   ]
  },
  {
   "cell_type": "code",
   "execution_count": 26,
   "id": "5e152add-97a9-47b1-a3ca-812892f930b1",
   "metadata": {},
   "outputs": [
    {
     "name": "stdout",
     "output_type": "stream",
     "text": [
      "image at index  0  is:  image1\n",
      "image at index  1  is:  image2\n",
      "image at index  2  is:  image3\n",
      "image at index  3  is:  image4\n"
     ]
    }
   ],
   "source": [
    "images = ['image1','image2','image3','image4']\n",
    "for x in range(len(images)):\n",
    "    print(\"image at index \",x,\" is: \",images[x])"
   ]
  },
  {
   "cell_type": "code",
   "execution_count": 28,
   "id": "a2e68a9f-0b2e-495e-9948-44ad0ddad963",
   "metadata": {},
   "outputs": [
    {
     "name": "stdout",
     "output_type": "stream",
     "text": [
      "sum: 10\n"
     ]
    }
   ],
   "source": [
    "# to print sum of n whole numbers\n",
    "\n",
    "x=[1,2,3,4]\n",
    "sum1=0 # intialization\n",
    "\n",
    "for i in x:\n",
    "    sum1=sum1+i\n",
    "\n",
    "print(\"sum:\",sum1)"
   ]
  },
  {
   "cell_type": "code",
   "execution_count": 32,
   "id": "980e8f7f-4189-4a80-af62-20d5da8087ea",
   "metadata": {},
   "outputs": [
    {
     "name": "stdout",
     "output_type": "stream",
     "text": [
      "after 1 iteration the sum: 1\n",
      "after 2 iteration the sum: 3\n",
      "after 3 iteration the sum: 6\n",
      "after 4 iteration the sum: 10\n"
     ]
    }
   ],
   "source": [
    "# to print sum of n whole numbers\n",
    "x=[1,2,3,4]\n",
    "sum1 =0 # initialization\n",
    "for i in x:\n",
    "    sum1=sum1+i\n",
    "    print(\"after\",i,\"iteration the sum:\",sum1)"
   ]
  },
  {
   "cell_type": "code",
   "execution_count": 36,
   "id": "7eb88109-8e7e-4a51-ba80-a27eae4de761",
   "metadata": {},
   "outputs": [
    {
     "name": "stdout",
     "output_type": "stream",
     "text": [
      "I like pop\n"
     ]
    }
   ],
   "source": [
    "# program to iterate through a list using indexing\n",
    "genre = ['pop','rock','jazz','ram']\n",
    "\n",
    "# iterate over the list using index \n",
    "for a in range(1):\n",
    "    print(\"I like\",genre[a])"
   ]
  },
  {
   "cell_type": "code",
   "execution_count": 46,
   "id": "a7571f11-a888-4425-ade2-6a9f684ff639",
   "metadata": {},
   "outputs": [
    {
     "name": "stdin",
     "output_type": "stream",
     "text": [
      "enter lower bound values: 10\n",
      "enter upper bound values: 40\n"
     ]
    },
    {
     "name": "stdout",
     "output_type": "stream",
     "text": [
      "10,12,14,16,18,20,22,24,26,28,30,32,34,36,38,40,"
     ]
    }
   ],
   "source": [
    "# write a python program to get all the even numbers from 11 to 50 (inclusive)\n",
    "lb=int(input('enter lower bound values:'))\n",
    "ub=int(input('enter upper bound values:'))\n",
    "for a in range(lb,ub+1):\n",
    "    if a%2==0:\n",
    "        print(a,end=',')"
   ]
  },
  {
   "cell_type": "code",
   "execution_count": 57,
   "id": "5596f90b-1b66-4542-af05-658849e77704",
   "metadata": {},
   "outputs": [
    {
     "name": "stdin",
     "output_type": "stream",
     "text": [
      "enter the number: 5\n"
     ]
    },
    {
     "name": "stdout",
     "output_type": "stream",
     "text": [
      "* * * * * "
     ]
    }
   ],
   "source": [
    "n=int(input(\"enter the number:\"))\n",
    "for i in range(n):\n",
    "    print(\"*\",end=\" \")"
   ]
  },
  {
   "cell_type": "code",
   "execution_count": 63,
   "id": "2ad81d86-9f42-4a1e-9eb8-fce1a7bcc793",
   "metadata": {},
   "outputs": [
    {
     "name": "stdin",
     "output_type": "stream",
     "text": [
      " 4\n",
      " 24\n"
     ]
    },
    {
     "name": "stdout",
     "output_type": "stream",
     "text": [
      "4 6 8 10 12 14 16 18 20 22 24 \n",
      "sum is 154\n"
     ]
    }
   ],
   "source": [
    "# 4.python program sum of even numbers in between given range\n",
    "lb=int(input())\n",
    "ub=int(input())\n",
    "s=0\n",
    "\n",
    "for a in range(lb,ub+1):\n",
    "    if (a%2==0):\n",
    "        s=s+a\n",
    "        print(a,end=' ')\n",
    "\n",
    "print('\\nsum is',s)"
   ]
  },
  {
   "cell_type": "code",
   "execution_count": 65,
   "id": "bbb6ba20-6776-49f9-ae14-dc8011a856ca",
   "metadata": {},
   "outputs": [
    {
     "name": "stdout",
     "output_type": "stream",
     "text": [
      "4\n",
      "8\n",
      "12\n",
      "16\n",
      "20\n",
      "24\n",
      "32\n",
      "36\n",
      "40\n",
      "44\n",
      "48\n",
      "52\n",
      "60\n",
      "64\n",
      "68\n",
      "72\n",
      "76\n",
      "80\n",
      "88\n",
      "92\n",
      "96\n",
      "100\n"
     ]
    }
   ],
   "source": [
    "#write program that gives numbers between 1 to 100 which are divisible by 4\n",
    "for num in range(1,101):\n",
    "    if num%4 == 0 and num%7!=0:\n",
    "        print(num)"
   ]
  },
  {
   "cell_type": "code",
   "execution_count": 67,
   "id": "a113e0d4-1d04-4dbc-a065-68cc34d87f5e",
   "metadata": {},
   "outputs": [
    {
     "name": "stdin",
     "output_type": "stream",
     "text": [
      "enter multiplication table: 5\n"
     ]
    },
    {
     "name": "stdout",
     "output_type": "stream",
     "text": [
      "5 * 1 = 5\n",
      "5 * 2 = 10\n",
      "5 * 3 = 15\n",
      "5 * 4 = 20\n",
      "5 * 5 = 25\n",
      "5 * 6 = 30\n",
      "5 * 7 = 35\n",
      "5 * 8 = 40\n",
      "5 * 9 = 45\n",
      "5 * 10 = 50\n"
     ]
    }
   ],
   "source": [
    "#program to print multiple mathematical tables\n",
    "a=int(input('enter multiplication table:'))\n",
    "for i in range(1,11):\n",
    "    print(a,'*',i,'=',a*i)"
   ]
  },
  {
   "cell_type": "code",
   "execution_count": 1,
   "id": "75697acb-3df7-48c2-a4ac-0aacaa454180",
   "metadata": {},
   "outputs": [
    {
     "name": "stdin",
     "output_type": "stream",
     "text": [
      "enter the number: 5\n"
     ]
    },
    {
     "name": "stdout",
     "output_type": "stream",
     "text": [
      "* * * * * * * * * * * * * * * * * * * * * * * * * * * * * * "
     ]
    }
   ],
   "source": [
    "n=int(input(\"enter the number:\"))\n",
    "for a in range(n):\n",
    "    for k in range(n+1):\n",
    "        print(\"*\",end=\" \")"
   ]
  },
  {
   "cell_type": "markdown",
   "id": "65cb1ddb-f655-40b1-830b-253afb63196c",
   "metadata": {},
   "source": [
    "### list comprehension"
   ]
  },
  {
   "cell_type": "code",
   "execution_count": 4,
   "id": "ef2fc690-8b40-41d0-9259-6d86804f496a",
   "metadata": {},
   "outputs": [
    {
     "name": "stdout",
     "output_type": "stream",
     "text": [
      "[0, 1, 8, 27, 64, 125, 216, 343, 512, 729]\n"
     ]
    }
   ],
   "source": [
    "# without list comprehension\n",
    "squares = []\n",
    "\n",
    "for a in range(10):s\n",
    "    squares.append(a**3)  #list append\n",
    "\n",
    "print(squares)"
   ]
  },
  {
   "cell_type": "code",
   "execution_count": 8,
   "id": "02707a1b-5bc5-4ec5-a190-a389d1cad606",
   "metadata": {},
   "outputs": [
    {
     "name": "stdout",
     "output_type": "stream",
     "text": [
      "[0, 1, 4, 9, 16, 25, 36, 49, 64, 81]\n"
     ]
    }
   ],
   "source": [
    "#using list comprehension\n",
    "squares = [x**2 for x in range(10)]\n",
    "print(squares)"
   ]
  },
  {
   "cell_type": "code",
   "execution_count": 12,
   "id": "80f7ee5e-bfa8-453a-b30e-63e3869f47b0",
   "metadata": {},
   "outputs": [
    {
     "data": {
      "text/plain": [
       "[3, 5, 5, 8, 5]"
      ]
     },
     "execution_count": 12,
     "metadata": {},
     "output_type": "execute_result"
    }
   ],
   "source": [
    "flims = ['rrr','puspa','kalki','bahubali','salar']\n",
    "[len(flim) for flim in flims] "
   ]
  },
  {
   "cell_type": "code",
   "execution_count": 14,
   "id": "977015dc-c4ff-4e87-84a8-973c31cb187f",
   "metadata": {},
   "outputs": [
    {
     "data": {
      "text/plain": [
       "[2, 4, 5, 8, 3, 5]"
      ]
     },
     "execution_count": 14,
     "metadata": {},
     "output_type": "execute_result"
    }
   ],
   "source": [
    "image2 = [-2,-4,-5,-8,3,5]\n",
    "absv = [abs(a) for a in image2]\n",
    "absv"
   ]
  },
  {
   "cell_type": "code",
   "execution_count": 16,
   "id": "006e3e40-b46c-4945-8d7a-736ac5265145",
   "metadata": {},
   "outputs": [
    {
     "data": {
      "text/plain": [
       "[2, 4, 5, 8, 27, 125]"
      ]
     },
     "execution_count": 16,
     "metadata": {},
     "output_type": "execute_result"
    }
   ],
   "source": [
    "image2 = [-2,-4,-5,-8,3,5]\n",
    "both = []\n",
    "for i in image2:\n",
    "    if i < 0:\n",
    "        both.append(abs(i))\n",
    "    else:\n",
    "        both.append(i**3)\n",
    "\n",
    "both"
   ]
  },
  {
   "cell_type": "code",
   "execution_count": 18,
   "id": "1d09c40d-b0b3-4e3b-9b4e-aa963efd5f61",
   "metadata": {},
   "outputs": [
    {
     "data": {
      "text/plain": [
       "[2, 4, 5, 8, 27, 125]"
      ]
     },
     "execution_count": 18,
     "metadata": {},
     "output_type": "execute_result"
    }
   ],
   "source": [
    "[abs(i) if i<0 else i**3 for i in image2]"
   ]
  },
  {
   "cell_type": "markdown",
   "id": "c47b95c2-4d63-4fad-bae8-0f93846e5881",
   "metadata": {},
   "source": [
    "### set comprehension"
   ]
  },
  {
   "cell_type": "code",
   "execution_count": null,
   "id": "a8bfa195-500c-4a44-b0d3-800ab46936ac",
   "metadata": {},
   "outputs": [],
   "source": []
  },
  {
   "cell_type": "code",
   "execution_count": 9,
   "id": "a440eb39-a96c-4f2e-a9e5-d1512be3a8f0",
   "metadata": {},
   "outputs": [
    {
     "name": "stdout",
     "output_type": "stream",
     "text": [
      "{8, 3, 5}\n"
     ]
    }
   ],
   "source": [
    "flims='RRR','KALKI','JAWAN','BAHUBALI','SALAR'\n",
    "a=set()\n",
    "for x in flims:\n",
    "    a.add(len(x))\n",
    "print(a)"
   ]
  },
  {
   "cell_type": "code",
   "execution_count": null,
   "id": "c2f63218-9e6d-4f60-b378-848e83a1dc43",
   "metadata": {},
   "outputs": [],
   "source": []
  },
  {
   "cell_type": "markdown",
   "id": "06b16d4d-87c6-473f-b508-c226c3cde1fb",
   "metadata": {},
   "source": [
    "### ENUMURATE"
   ]
  },
  {
   "cell_type": "code",
   "execution_count": 21,
   "id": "c2213460-67c7-4128-9d65-040da0c883b6",
   "metadata": {},
   "outputs": [
    {
     "name": "stdout",
     "output_type": "stream",
     "text": [
      "4\n"
     ]
    }
   ],
   "source": [
    "numbers=[1,2,3,4,5,6]\n",
    "for num in numbers:\n",
    "    if num == 4:\n",
    "       break\n",
    "print(num)"
   ]
  },
  {
   "cell_type": "code",
   "execution_count": 15,
   "id": "7a869a8b-5ef2-425c-aa67-3363dc9ec3a7",
   "metadata": {},
   "outputs": [
    {
     "name": "stdout",
     "output_type": "stream",
     "text": [
      "4\n"
     ]
    }
   ],
   "source": [
    "numbers=[1,2,3,4]\n",
    "for num in numbers:\n",
    "    if num == 4:\n",
    "       print(num) \n",
    "       break \n",
    "       print(num)"
   ]
  },
  {
   "cell_type": "code",
   "execution_count": 23,
   "id": "331fbf4d-754f-4dc0-9957-e22ba5f2a4d7",
   "metadata": {},
   "outputs": [
    {
     "name": "stdout",
     "output_type": "stream",
     "text": [
      "6\n"
     ]
    }
   ],
   "source": [
    "numbers=[1,2,3,4,5,6]\n",
    "for num in numbers:\n",
    "    if num == 4:\n",
    "       continue\n",
    "print(num)"
   ]
  },
  {
   "cell_type": "code",
   "execution_count": 31,
   "id": "20f69e63-a908-46dc-9e87-1f0684aa7c3c",
   "metadata": {},
   "outputs": [
    {
     "name": "stdout",
     "output_type": "stream",
     "text": [
      "1\n",
      "2\n",
      "3\n",
      "5\n",
      "6\n"
     ]
    }
   ],
   "source": [
    "numbers=[1,2,3,4,5,6]\n",
    "for num in numbers:\n",
    "    if num == 4:\n",
    "       continue\n",
    "    print(num)"
   ]
  },
  {
   "cell_type": "code",
   "execution_count": 29,
   "id": "5e340263-45ef-4d63-a9e8-8e2a653091f7",
   "metadata": {},
   "outputs": [
    {
     "name": "stdout",
     "output_type": "stream",
     "text": [
      "This is the end one- 1\n",
      "This is the end one- 2\n",
      "This is the end one- 3\n",
      "This is the end one- 5\n",
      "This is the end one- 6\n"
     ]
    }
   ],
   "source": [
    "numbers=[1,2,3,4,5,6]\n",
    "for num in numbers:\n",
    "    if num == 4:\n",
    "       continue\n",
    "    print(\"This is the end one-\",num)"
   ]
  },
  {
   "cell_type": "markdown",
   "id": "eb449645-5715-4fb7-a5b7-e7ecc67b54e4",
   "metadata": {},
   "source": [
    "### While Loop"
   ]
  },
  {
   "cell_type": "code",
   "execution_count": 1,
   "id": "f2c132b9-6ea1-4107-8196-c7d358a77452",
   "metadata": {},
   "outputs": [
    {
     "name": "stdout",
     "output_type": "stream",
     "text": [
      "1\n",
      "2\n",
      "3\n",
      "4\n",
      "5\n",
      "6\n",
      "7\n",
      "8\n",
      "9\n",
      "10\n",
      "11\n"
     ]
    }
   ],
   "source": [
    "a=0\n",
    "while a<=10:\n",
    "    a=a+1\n",
    "    print(a)\n",
    "    "
   ]
  },
  {
   "cell_type": "markdown",
   "id": "ec9a190c-ab12-4570-b3ff-92470cbc3814",
   "metadata": {},
   "source": [
    "### fractorial number"
   ]
  },
  {
   "cell_type": "code",
   "execution_count": 4,
   "id": "4e76c408-1119-42a1-9b37-d1267d63b5b9",
   "metadata": {},
   "outputs": [
    {
     "name": "stdin",
     "output_type": "stream",
     "text": [
      "enter a number: 4\n"
     ]
    },
    {
     "name": "stdout",
     "output_type": "stream",
     "text": [
      "the factorial of 4 is 24\n"
     ]
    }
   ],
   "source": [
    "# factorial of a number as user input\n",
    "num = int(input(\"enter a number:\"))\n",
    "fact=1\n",
    "if num<0:\n",
    "   print(\"couldn't calculate factorial of a negative number\")\n",
    "elif num==0:\n",
    "    print(\"you entered 0,please enter a number which is > 0\")\n",
    "else:\n",
    "    for i in range(1,num+1):\n",
    "        fact*=i\n",
    "    print(\"the factorial of\",num,\"is\",fact)96"
   ]
  },
  {
   "cell_type": "code",
   "execution_count": 6,
   "id": "c40d35a2-bd44-4ca5-9f04-bbbb2b042e29",
   "metadata": {},
   "outputs": [
    {
     "data": {
      "text/plain": [
       "(1, 2)"
      ]
     },
     "execution_count": 6,
     "metadata": {},
     "output_type": "execute_result"
    }
   ],
   "source": [
    "divmod(6,4)"
   ]
  },
  {
   "cell_type": "code",
   "execution_count": 24,
   "id": "bbcdac92-0ee5-4457-afd2-db063f9d4efc",
   "metadata": {},
   "outputs": [],
   "source": [
    "def even_odd():\n",
    "    a=int(input(\"enter the number\"))\n",
    "    if a%2==0:\n",
    "       print(\"the number is even\")\n",
    "    else:\n",
    "       print(\"the number is odd\")"
   ]
  },
  {
   "cell_type": "code",
   "execution_count": 32,
   "id": "3b683db1-9a2f-401c-8fc8-ee07d98dd893",
   "metadata": {},
   "outputs": [
    {
     "name": "stdin",
     "output_type": "stream",
     "text": [
      "enter the number 6\n"
     ]
    },
    {
     "name": "stdout",
     "output_type": "stream",
     "text": [
      "the number is even\n"
     ]
    }
   ],
   "source": [
    " even_odd()"
   ]
  },
  {
   "cell_type": "code",
   "execution_count": 7,
   "id": "459f0a40-5488-4bd5-863c-dbdd60c26c59",
   "metadata": {},
   "outputs": [],
   "source": [
    "def even_odd(): \n",
    "    \"\"\" Checking even or odd with no arguments\"\"\"\n",
    "    a= int(input(\"Enter a number - \"))\n",
    "    b= int(input(\"Enter a number - \"))\n",
    "    s = a+b\n",
    "    if s % 2 == 0:\n",
    "        print(\"Even\")\n",
    "    else:\n",
    "        print(\"Odd\")"
   ]
  },
  {
   "cell_type": "code",
   "execution_count": 9,
   "id": "8ac5a6cc-3ef0-4951-98e7-9b2fd597d9cb",
   "metadata": {},
   "outputs": [
    {
     "name": "stdin",
     "output_type": "stream",
     "text": [
      "Enter a number -  5\n",
      "Enter a number -  6\n"
     ]
    },
    {
     "name": "stdout",
     "output_type": "stream",
     "text": [
      "Odd\n"
     ]
    }
   ],
   "source": [
    "even_odd()"
   ]
  },
  {
   "cell_type": "code",
   "execution_count": 29,
   "id": "d6a1bd8d-fb0f-4f18-9298-5479ec4b6e66",
   "metadata": {},
   "outputs": [],
   "source": [
    "def fact():\n",
    "    n=int(input(\"enter a number\"))\n",
    "    if n<=0:\n",
    "        print(\"no result\")\n",
    "    elif n == 0:\n",
    "        print(\"the factorial is 1\")\n",
    "    elif n>=1:\n",
    "        fact = 1\n",
    "        for i in range(1,n+1):\n",
    "            fact = fact*i\n",
    "        print(\"the factorial is=\",fact)"
   ]
  },
  {
   "cell_type": "code",
   "execution_count": 31,
   "id": "76cb7cc9-e13b-4ba6-815e-bc17423f3224",
   "metadata": {},
   "outputs": [
    {
     "name": "stdin",
     "output_type": "stream",
     "text": [
      "enter a number 5\n"
     ]
    },
    {
     "name": "stdout",
     "output_type": "stream",
     "text": [
      "the factorial is= 120\n"
     ]
    }
   ],
   "source": [
    "fact()a"
   ]
  },
  {
   "cell_type": "code",
   "execution_count": 4,
   "id": "8b307395-c095-492a-a229-0d877feee9ad",
   "metadata": {},
   "outputs": [
    {
     "name": "stdin",
     "output_type": "stream",
     "text": [
      "enter a number 7\n",
      "enter a number 8\n"
     ]
    }
   ],
   "source": [
    "a=int(input(\"enter a number\"))\n",
    "b=int(input(\"enter a number\"))\n",
    "\n",
    "def addition(a):\n",
    "    return a+b\n",
    "    print(\"the summation of {} & {} is {}\".format(a,b,add(a,b)))"
   ]
  },
  {
   "cell_type": "code",
   "execution_count": null,
   "id": "c1f3d46d-4043-4239-afaa-2b9495ee415d",
   "metadata": {},
   "outputs": [],
   "source": []
  }
 ],
 "metadata": {
  "kernelspec": {
   "display_name": "Python 3 (ipykernel)",
   "language": "python",
   "name": "python3"
  },
  "language_info": {
   "codemirror_mode": {
    "name": "ipython",
    "version": 3
   },
   "file_extension": ".py",
   "mimetype": "text/x-python",
   "name": "python",
   "nbconvert_exporter": "python",
   "pygments_lexer": "ipython3",
   "version": "3.12.4"
  }
 },
 "nbformat": 4,
 "nbformat_minor": 5
}
