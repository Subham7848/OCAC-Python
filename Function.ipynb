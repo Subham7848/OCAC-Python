{
 "cells": [
  {
   "cell_type": "code",
   "execution_count": 13,
   "id": "5871e9e1-1818-4d02-afba-99da0b3e02be",
   "metadata": {},
   "outputs": [],
   "source": [
    "def multiple(x,y):\n",
    "    mul=x*y\n",
    "    print(\"the multiplication of {} & {} is {}\",format(x,y,mul))"
   ]
  },
  {
   "cell_type": "code",
   "execution_count": 47,
   "id": "5d61166d-79ca-4a38-bf7d-e71b3a00cd7c",
   "metadata": {},
   "outputs": [],
   "source": [
    "def multiple(x,y):\n",
    "    x=int(input(\"enter the first number\"))\n",
    "    y=int(input(\"enter the second number\"))\n",
    "\n",
    "    mul=x*y\n",
    "    print(\"the multiplication of {} and {} is {}\".format(x,y,mul))"
   ]
  },
  {
   "cell_type": "code",
   "execution_count": 49,
   "id": "71ac64a0-3d84-4f55-9055-99aa4c779cc4",
   "metadata": {},
   "outputs": [
    {
     "name": "stdin",
     "output_type": "stream",
     "text": [
      "enter the first number 5\n",
      "enter the second number 8\n"
     ]
    },
    {
     "name": "stdout",
     "output_type": "stream",
     "text": [
      "the multiplication of 5 and 8 is 40\n"
     ]
    }
   ],
   "source": [
    "multiple(4,5)"
   ]
  },
  {
   "cell_type": "code",
   "execution_count": 51,
   "id": "5301e325-ccc0-427e-bcb4-3b55e5333539",
   "metadata": {},
   "outputs": [],
   "source": [
    "def multiple(c,a =2,b =3):\n",
    "    mul = (a*b)+c\n",
    "    print(\"the multiplication of {} and {} is {}\".format(a,b,mul))"
   ]
  },
  {
   "cell_type": "code",
   "execution_count": 53,
   "id": "4a6a3610-adae-4028-a9e2-3fbd992f152c",
   "metadata": {},
   "outputs": [
    {
     "name": "stdout",
     "output_type": "stream",
     "text": [
      "the multiplication of 6 and 3 is 23\n"
     ]
    }
   ],
   "source": [
    "multiple(5,6)"
   ]
  },
  {
   "cell_type": "markdown",
   "id": "c0da8a10-294f-48e0-8d90-bef3355a5348",
   "metadata": {},
   "source": [
    "### Keyword arguments"
   ]
  },
  {
   "cell_type": "code",
   "execution_count": 64,
   "id": "c99d5519-959e-438a-9ae6-65a013aa56c0",
   "metadata": {},
   "outputs": [],
   "source": [
    "def greet(**subham):\n",
    "    if subham:\n",
    "        print(\"hello {} , {}\".format(subham['name'], subham['msg']))\n",
    "\n"
   ]
  },
  {
   "cell_type": "code",
   "execution_count": 66,
   "id": "f345c1a2-4b35-41ed-bd0e-bd713fa09d2d",
   "metadata": {},
   "outputs": [
    {
     "name": "stdout",
     "output_type": "stream",
     "text": [
      "hello good , good morning\n"
     ]
    }
   ],
   "source": [
    "greet(name=\"good\", msg=\"good morning\")"
   ]
  },
  {
   "cell_type": "code",
   "execution_count": 81,
   "id": "4e355169-66cc-4892-b22e-4441ce5ff942",
   "metadata": {},
   "outputs": [
    {
     "name": "stdin",
     "output_type": "stream",
     "text": [
      "enter the first number 4\n",
      "enter the second number 8\n"
     ]
    },
    {
     "name": "stdout",
     "output_type": "stream",
     "text": [
      "the addition of 4 & 8 is <function addition at 0x0000022309444860>\n",
      "the substraction of 4 & 8 is <function substraction at 0x000002230BB6B740>\n",
      "the multiplication of 4 & 8 is <function multiplication at 0x0000022309444220>\n",
      "the division of 4 & 8 is <function division at 0x000002230BB6B240>\n",
      "the modulo of 4 & 8 is <function modulo at 0x000002230AA23EC0>\n"
     ]
    }
   ],
   "source": [
    "a=int(input(\"enter the first number\"))\n",
    "b=int(input(\"enter the second number\"))\n",
    "def addition():\n",
    "    add=a + b\n",
    "def substraction():\n",
    "    sub=a - b\n",
    "def multiplication():\n",
    "    mul=a * b\n",
    "def division():\n",
    "    div=a / b\n",
    "def modulo():\n",
    "    mod=a % b \n",
    "print(\"the addition of {} & {} is {}\".format(a,b,addition))    \n",
    "print(\"the substraction of {} & {} is {}\".format(a,b,substraction))\n",
    "print(\"the multiplication of {} & {} is {}\".format(a,b,multiplication))\n",
    "print(\"the division of {} & {} is {}\".format(a,b,division))  \n",
    "print(\"the modulo of {} & {} is {}\".format(a,b,modulo))   "
   ]
  },
  {
   "cell_type": "code",
   "execution_count": 85,
   "id": "68607a4e-d3ef-4235-bcd0-7a5777e57533",
   "metadata": {},
   "outputs": [
    {
     "name": "stdin",
     "output_type": "stream",
     "text": [
      "enter the first number 8\n",
      "enter the second number 7\n"
     ]
    },
    {
     "name": "stdout",
     "output_type": "stream",
     "text": [
      "the addition of 8 & 7 is 15\n",
      "the substraction of 8 & 7 is 1\n",
      "the multiplication of 8 & 7 is 56\n",
      "the division of 8 & 7 is 1.1428571428571428\n",
      "the modulo of 8 & 7 is 1\n"
     ]
    }
   ],
   "source": [
    "a=int(input(\"enter the first number\"))\n",
    "b=int(input(\"enter the second number\"))\n",
    "def add():\n",
    "    return a+b\n",
    "def sub():\n",
    "    return a-b\n",
    "def mul():\n",
    "    return a*b\n",
    "def div():\n",
    "    return a/b\n",
    "def mod():\n",
    "    return a%b \n",
    "print(\"the addition of {} & {} is {}\".format(a,b,add()))    \n",
    "print(\"the substraction of {} & {} is {}\".format(a,b,sub()))\n",
    "print(\"the multiplication of {} & {} is {}\".format(a,b,mul()))\n",
    "print(\"the division of {} & {} is {}\".format(a,b,div()))  \n",
    "print(\"the modulo of {} & {} is {}\".format(a,b,mod()))   "
   ]
  },
  {
   "cell_type": "code",
   "execution_count": null,
   "id": "960d6754-6c19-400e-9c57-23e0b7e9ac2b",
   "metadata": {},
   "outputs": [],
   "source": [
    "#create a class\n",
    "#to create a class, use the keyboard class:\n",
    "class myclass:\n",
    "    x"
   ]
  },
  {
   "cell_type": "markdown",
   "id": "7c2d8761-0ef9-4ae2-948a-06b613705d29",
   "metadata": {},
   "source": [
    "### Arbitary arguments"
   ]
  },
  {
   "cell_type": "code",
   "execution_count": 4,
   "id": "ae7085de-0300-48ef-b2b2-a90d04a33fb5",
   "metadata": {},
   "outputs": [],
   "source": [
    "def greet(*names):\n",
    "    print(names)\n",
    "    for name in names:\n",
    "        print(\"hello, {0} \".format(name))"
   ]
  },
  {
   "cell_type": "code",
   "execution_count": 6,
   "id": "f860e6a8-56e5-4877-bbea-6099fca70cf7",
   "metadata": {},
   "outputs": [
    {
     "name": "stdout",
     "output_type": "stream",
     "text": [
      "('sai', 'subham')\n",
      "hello, sai \n",
      "hello, subham \n"
     ]
    }
   ],
   "source": [
    "greet(\"sai\",\"subham\")"
   ]
  },
  {
   "cell_type": "markdown",
   "id": "5a86049a-8c06-4b3b-9fb2-e5fc750cebe6",
   "metadata": {},
   "source": [
    "### Recussive & Recurison"
   ]
  },
  {
   "cell_type": "code",
   "execution_count": 23,
   "id": "7d2c48a3-ff97-48d2-bf55-09350dd532e8",
   "metadata": {},
   "outputs": [],
   "source": [
    "#python program to print factorial of a number using recurion\n",
    "def factorial(num):\n",
    "    if num==0:\n",
    "       return 1\n",
    "    else:\n",
    "       return num * factorial(num-1)"
   ]
  },
  {
   "cell_type": "markdown",
   "id": "6102413c-dec4-4e63-88a6-0a43acd974e6",
   "metadata": {},
   "source": [
    "num"
   ]
  },
  {
   "cell_type": "code",
   "execution_count": null,
   "id": "a3fd6fbd-44b4-48b5-8907-e13d346e283a",
   "metadata": {},
   "outputs": [],
   "source": []
  }
 ],
 "metadata": {
  "kernelspec": {
   "display_name": "Python 3 (ipykernel)",
   "language": "python",
   "name": "python3"
  },
  "language_info": {
   "codemirror_mode": {
    "name": "ipython",
    "version": 3
   },
   "file_extension": ".py",
   "mimetype": "text/x-python",
   "name": "python",
   "nbconvert_exporter": "python",
   "pygments_lexer": "ipython3",
   "version": "3.12.4"
  }
 },
 "nbformat": 4,
 "nbformat_minor": 5
}
