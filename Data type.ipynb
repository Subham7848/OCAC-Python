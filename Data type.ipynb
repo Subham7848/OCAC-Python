{
 "cells": [
  {
   "cell_type": "markdown",
   "id": "ba515d9b-f8f1-4134-a621-1d45321e97c9",
   "metadata": {},
   "source": [
    "### int"
   ]
  },
  {
   "cell_type": "code",
   "execution_count": 8,
   "id": "32a548bc-e051-4c36-8669-80622b915908",
   "metadata": {},
   "outputs": [],
   "source": [
    "a=10"
   ]
  },
  {
   "cell_type": "code",
   "execution_count": 10,
   "id": "00f459b5-e683-4ccf-902e-a6c40ade60da",
   "metadata": {},
   "outputs": [
    {
     "data": {
      "text/plain": [
       "int"
      ]
     },
     "execution_count": 10,
     "metadata": {},
     "output_type": "execute_result"
    }
   ],
   "source": [
    "# to check type : use type()\n",
    "type(a)"
   ]
  },
  {
   "cell_type": "markdown",
   "id": "1a491fea-c05d-4870-9acc-a3f0e6310a5a",
   "metadata": {},
   "source": [
    "### Float"
   ]
  },
  {
   "cell_type": "code",
   "execution_count": 13,
   "id": "1ec59497-93f9-45f6-bdd1-767c53bf84e7",
   "metadata": {},
   "outputs": [
    {
     "data": {
      "text/plain": [
       "float"
      ]
     },
     "execution_count": 13,
     "metadata": {},
     "output_type": "execute_result"
    }
   ],
   "source": [
    "x=10.0\n",
    "type(x)"
   ]
  },
  {
   "cell_type": "code",
   "execution_count": 15,
   "id": "5df9e384-9dee-49ab-a6a2-b302cd62ae14",
   "metadata": {},
   "outputs": [
    {
     "name": "stdout",
     "output_type": "stream",
     "text": [
      "<class 'int'>\n",
      "<class 'float'>\n"
     ]
    }
   ],
   "source": [
    "x=5\n",
    "print(type(x))\n",
    "b=4.0\n",
    "print(type(b))"
   ]
  },
  {
   "cell_type": "code",
   "execution_count": 17,
   "id": "8aa520af-ce5d-477f-937b-d006a8afefd9",
   "metadata": {},
   "outputs": [
    {
     "data": {
      "text/plain": [
       "11.0"
      ]
     },
     "execution_count": 17,
     "metadata": {},
     "output_type": "execute_result"
    }
   ],
   "source": [
    "x=5\n",
    "y=6.0\n",
    "x+y"
   ]
  },
  {
   "cell_type": "markdown",
   "id": "2acaef25-b5cc-4971-8d40-989cebd369cb",
   "metadata": {},
   "source": [
    "### Type casting "
   ]
  },
  {
   "cell_type": "code",
   "execution_count": 20,
   "id": "dd76dae9-bd72-466e-800a-9fa6e3039f21",
   "metadata": {},
   "outputs": [
    {
     "data": {
      "text/plain": [
       "5"
      ]
     },
     "execution_count": 20,
     "metadata": {},
     "output_type": "execute_result"
    }
   ],
   "source": [
    "b=5.8\n",
    "int(b)"
   ]
  },
  {
   "cell_type": "code",
   "execution_count": 22,
   "id": "f21f8812-4afd-459a-a520-940e605f75d1",
   "metadata": {},
   "outputs": [
    {
     "data": {
      "text/plain": [
       "11"
      ]
     },
     "execution_count": 22,
     "metadata": {},
     "output_type": "execute_result"
    }
   ],
   "source": [
    "int(11.9999)"
   ]
  },
  {
   "cell_type": "markdown",
   "id": "bf5f2b76-3b1d-41ee-bef7-65ee1556d3eb",
   "metadata": {},
   "source": [
    "### Boolean"
   ]
  },
  {
   "cell_type": "code",
   "execution_count": 29,
   "id": "f4fbff6e-eade-443b-a796-a59dcb0b39ef",
   "metadata": {},
   "outputs": [
    {
     "data": {
      "text/plain": [
       "bool"
      ]
     },
     "execution_count": 29,
     "metadata": {},
     "output_type": "execute_result"
    }
   ],
   "source": [
    "x1 = True\n",
    "type(x1)"
   ]
  },
  {
   "cell_type": "code",
   "execution_count": 33,
   "id": "ae6608d2-3e45-4a9c-96b4-6acb4bffca83",
   "metadata": {},
   "outputs": [
    {
     "data": {
      "text/plain": [
       "bool"
      ]
     },
     "execution_count": 33,
     "metadata": {},
     "output_type": "execute_result"
    }
   ],
   "source": [
    "type(True)"
   ]
  },
  {
   "cell_type": "code",
   "execution_count": 35,
   "id": "88612137-0775-4713-a021-d820e80e2764",
   "metadata": {},
   "outputs": [
    {
     "data": {
      "text/plain": [
       "bool"
      ]
     },
     "execution_count": 35,
     "metadata": {},
     "output_type": "execute_result"
    }
   ],
   "source": [
    "type(False)"
   ]
  },
  {
   "cell_type": "code",
   "execution_count": 37,
   "id": "d796fcae-57a9-4ce4-8349-45babf1e2979",
   "metadata": {},
   "outputs": [
    {
     "data": {
      "text/plain": [
       "1"
      ]
     },
     "execution_count": 37,
     "metadata": {},
     "output_type": "execute_result"
    }
   ],
   "source": [
    "int(True)"
   ]
  },
  {
   "cell_type": "code",
   "execution_count": 39,
   "id": "67d5fba2-6722-405d-aa76-1c225a024f7e",
   "metadata": {},
   "outputs": [
    {
     "data": {
      "text/plain": [
       "0"
      ]
     },
     "execution_count": 39,
     "metadata": {},
     "output_type": "execute_result"
    }
   ],
   "source": [
    "int(False)"
   ]
  },
  {
   "cell_type": "code",
   "execution_count": 41,
   "id": "823a72ad-933b-4610-8514-23e0bdcfb620",
   "metadata": {},
   "outputs": [
    {
     "data": {
      "text/plain": [
       "2"
      ]
     },
     "execution_count": 41,
     "metadata": {},
     "output_type": "execute_result"
    }
   ],
   "source": [
    "True + True"
   ]
  },
  {
   "cell_type": "code",
   "execution_count": 43,
   "id": "d68e6314-d40a-4412-851e-c85c8e9a9fe4",
   "metadata": {},
   "outputs": [
    {
     "data": {
      "text/plain": [
       "4.9"
      ]
     },
     "execution_count": 43,
     "metadata": {},
     "output_type": "execute_result"
    }
   ],
   "source": [
    "x=4.9\n",
    "c=False\n",
    "x+c"
   ]
  },
  {
   "cell_type": "markdown",
   "id": "bd23c6c8-390d-4e57-9f8d-442e0c7d0213",
   "metadata": {},
   "source": [
    "### Complex"
   ]
  },
  {
   "cell_type": "code",
   "execution_count": 46,
   "id": "a0ce4d84-28fb-476b-a9f9-2ae40cce7b37",
   "metadata": {},
   "outputs": [],
   "source": [
    "#complex numbers: note the use of 'j' to specify the imaginary part\n",
    "a=10+52j"
   ]
  },
  {
   "cell_type": "code",
   "execution_count": 48,
   "id": "ea47af42-3cd9-4a73-b2e1-2ccaa21ac2ae",
   "metadata": {},
   "outputs": [
    {
     "data": {
      "text/plain": [
       "complex"
      ]
     },
     "execution_count": 48,
     "metadata": {},
     "output_type": "execute_result"
    }
   ],
   "source": [
    "type(a)"
   ]
  },
  {
   "cell_type": "code",
   "execution_count": 50,
   "id": "282b1135-e4e1-4193-a92c-b50f0fea8cc8",
   "metadata": {},
   "outputs": [
    {
     "data": {
      "text/plain": [
       "4.9"
      ]
     },
     "execution_count": 50,
     "metadata": {},
     "output_type": "execute_result"
    }
   ],
   "source": [
    "# to get real value\n",
    "x.real"
   ]
  },
  {
   "cell_type": "code",
   "execution_count": 54,
   "id": "b6918ed0-990b-4cb2-8780-f9f5eeb705fc",
   "metadata": {},
   "outputs": [
    {
     "data": {
      "text/plain": [
       "0.0"
      ]
     },
     "execution_count": 54,
     "metadata": {},
     "output_type": "execute_result"
    }
   ],
   "source": [
    "# to get imaginary value\n",
    "x.imag"
   ]
  },
  {
   "cell_type": "code",
   "execution_count": 56,
   "id": "67195a95-ab7c-4ce5-aaa8-a1e6bd2b47bf",
   "metadata": {},
   "outputs": [
    {
     "data": {
      "text/plain": [
       "0"
      ]
     },
     "execution_count": 56,
     "metadata": {},
     "output_type": "execute_result"
    }
   ],
   "source": [
    "int(x.imag)"
   ]
  },
  {
   "cell_type": "code",
   "execution_count": 62,
   "id": "2835682a-0418-4bd2-9c28-a57f453e3b7f",
   "metadata": {},
   "outputs": [
    {
     "name": "stdout",
     "output_type": "stream",
     "text": [
      "6.0 0.0\n"
     ]
    }
   ],
   "source": [
    "x = 1.0 - 2.0j\n",
    "print(y.real,y.imag)"
   ]
  },
  {
   "cell_type": "markdown",
   "id": "f6e74d83-15ac-45a7-92d9-92196e56067f",
   "metadata": {},
   "source": [
    "### Strings"
   ]
  },
  {
   "cell_type": "code",
   "execution_count": 65,
   "id": "d6550981-8d7f-4e36-bbdb-dedc2e8bc977",
   "metadata": {},
   "outputs": [
    {
     "name": "stdout",
     "output_type": "stream",
     "text": [
      "hello\n",
      "hello\n",
      "hello\n"
     ]
    }
   ],
   "source": [
    "mystring1 = 'hello'\n",
    "print(mystring1)\n",
    "\n",
    "mystring2 = \"hello\"\n",
    "print(mystring2)\n",
    "\n",
    "mystring3 = '''hello'''\n",
    "print(mystring3)\n",
    "\n"
   ]
  },
  {
   "cell_type": "code",
   "execution_count": 67,
   "id": "6dad4008-2dfe-4052-8490-12b4ba176362",
   "metadata": {},
   "outputs": [
    {
     "data": {
      "text/plain": [
       "str"
      ]
     },
     "execution_count": 67,
     "metadata": {},
     "output_type": "execute_result"
    }
   ],
   "source": [
    "a='subham'\n",
    "type(a)"
   ]
  },
  {
   "cell_type": "code",
   "execution_count": 69,
   "id": "e87c38c5-5e6f-487c-a4ac-4ba53ee3ec39",
   "metadata": {},
   "outputs": [
    {
     "ename": "ValueError",
     "evalue": "invalid literal for int() with base 10: 'subham'",
     "output_type": "error",
     "traceback": [
      "\u001b[1;31m---------------------------------------------------------------------------\u001b[0m",
      "\u001b[1;31mValueError\u001b[0m                                Traceback (most recent call last)",
      "Cell \u001b[1;32mIn[69], line 1\u001b[0m\n\u001b[1;32m----> 1\u001b[0m \u001b[38;5;28mint\u001b[39m(a)\n",
      "\u001b[1;31mValueError\u001b[0m: invalid literal for int() with base 10: 'subham'"
     ]
    }
   ],
   "source": [
    "int(a)"
   ]
  },
  {
   "cell_type": "code",
   "execution_count": 71,
   "id": "9eea5179-d0d0-4a55-afb0-2e60a576751c",
   "metadata": {},
   "outputs": [
    {
     "data": {
      "text/plain": [
       "str"
      ]
     },
     "execution_count": 71,
     "metadata": {},
     "output_type": "execute_result"
    }
   ],
   "source": [
    "type(\"subham\")"
   ]
  },
  {
   "cell_type": "code",
   "execution_count": 77,
   "id": "20dc894f-8b90-4b44-9501-fa77b0358030",
   "metadata": {},
   "outputs": [
    {
     "data": {
      "text/plain": [
       "str"
      ]
     },
     "execution_count": 77,
     "metadata": {},
     "output_type": "execute_result"
    }
   ],
   "source": [
    "var = \"123456\"\n",
    "type(var)"
   ]
  },
  {
   "cell_type": "code",
   "execution_count": 79,
   "id": "f7ec993a-4412-4dff-9d23-902df9bdb93c",
   "metadata": {},
   "outputs": [
    {
     "data": {
      "text/plain": [
       "'123456'"
      ]
     },
     "execution_count": 79,
     "metadata": {},
     "output_type": "execute_result"
    }
   ],
   "source": [
    "var"
   ]
  },
  {
   "cell_type": "code",
   "execution_count": 83,
   "id": "457dc610-a511-4eaa-a56f-dbaef7cdf99e",
   "metadata": {},
   "outputs": [
    {
     "data": {
      "text/plain": [
       "123456"
      ]
     },
     "execution_count": 83,
     "metadata": {},
     "output_type": "execute_result"
    }
   ],
   "source": [
    "x=int(var)\n",
    "x"
   ]
  },
  {
   "cell_type": "code",
   "execution_count": 87,
   "id": "8201ccab-9083-441c-9165-4ac00a48caab",
   "metadata": {},
   "outputs": [
    {
     "data": {
      "text/plain": [
       "'S$144343'"
      ]
     },
     "execution_count": 87,
     "metadata": {},
     "output_type": "execute_result"
    }
   ],
   "source": [
    "x='S$144343'\n",
    "x"
   ]
  },
  {
   "cell_type": "code",
   "execution_count": 89,
   "id": "cf361d3f-4caf-41ff-b85e-41b3d103012f",
   "metadata": {},
   "outputs": [
    {
     "ename": "ValueError",
     "evalue": "invalid literal for int() with base 10: 'S$144343'",
     "output_type": "error",
     "traceback": [
      "\u001b[1;31m---------------------------------------------------------------------------\u001b[0m",
      "\u001b[1;31mValueError\u001b[0m                                Traceback (most recent call last)",
      "Cell \u001b[1;32mIn[89], line 1\u001b[0m\n\u001b[1;32m----> 1\u001b[0m \u001b[38;5;28mint\u001b[39m(x)\n",
      "\u001b[1;31mValueError\u001b[0m: invalid literal for int() with base 10: 'S$144343'"
     ]
    }
   ],
   "source": [
    "int(x)"
   ]
  },
  {
   "cell_type": "code",
   "execution_count": 91,
   "id": "5903de63-94ce-4214-9525-5295d0e3cad6",
   "metadata": {},
   "outputs": [],
   "source": [
    "x='4561'"
   ]
  },
  {
   "cell_type": "code",
   "execution_count": 95,
   "id": "8219fac8-8e42-4b0a-aa12-702b225eb6e2",
   "metadata": {},
   "outputs": [
    {
     "data": {
      "text/plain": [
       "4561"
      ]
     },
     "execution_count": 95,
     "metadata": {},
     "output_type": "execute_result"
    }
   ],
   "source": [
    "int(x)"
   ]
  },
  {
   "cell_type": "code",
   "execution_count": 97,
   "id": "00dfaa40-84f6-4fa5-8c6b-adb6d6f92278",
   "metadata": {},
   "outputs": [
    {
     "name": "stdout",
     "output_type": "stream",
     "text": [
      "navin \"laptop\"\n"
     ]
    }
   ],
   "source": [
    "print('navin \"laptop\"')"
   ]
  },
  {
   "cell_type": "code",
   "execution_count": 99,
   "id": "05d8efa9-0af6-49ad-a6ab-851cd7a9e026",
   "metadata": {},
   "outputs": [
    {
     "ename": "SyntaxError",
     "evalue": "unterminated string literal (detected at line 1) (503525417.py, line 1)",
     "output_type": "error",
     "traceback": [
      "\u001b[1;36m  Cell \u001b[1;32mIn[99], line 1\u001b[1;36m\u001b[0m\n\u001b[1;33m    print('navin's \"laptop\"')\u001b[0m\n\u001b[1;37m                           ^\u001b[0m\n\u001b[1;31mSyntaxError\u001b[0m\u001b[1;31m:\u001b[0m unterminated string literal (detected at line 1)\n"
     ]
    }
   ],
   "source": [
    "print('navin's \"laptop\"')"
   ]
  },
  {
   "cell_type": "code",
   "execution_count": 101,
   "id": "081662b6-0b34-4335-8f45-0bb6961ae757",
   "metadata": {},
   "outputs": [
    {
     "name": "stdout",
     "output_type": "stream",
     "text": [
      "navin's \"laptop\"\n"
     ]
    }
   ],
   "source": [
    "print('navin\\'s \"laptop\"')"
   ]
  },
  {
   "cell_type": "markdown",
   "id": "4fa15485-e6a4-424c-862b-b398e0b65110",
   "metadata": {},
   "source": [
    "### Concatenation"
   ]
  },
  {
   "cell_type": "code",
   "execution_count": 104,
   "id": "440ff141-2cd5-4260-a7cf-5242635c06b5",
   "metadata": {},
   "outputs": [
    {
     "data": {
      "text/plain": [
       "'605'"
      ]
     },
     "execution_count": 104,
     "metadata": {},
     "output_type": "execute_result"
    }
   ],
   "source": [
    "x=\"60\"\n",
    "y=\"5\"\n",
    "#concatenation of 5 strings\n",
    "x+y"
   ]
  },
  {
   "cell_type": "code",
   "execution_count": 106,
   "id": "5827d4e5-5c22-4d6c-a5c1-e9693552d896",
   "metadata": {},
   "outputs": [
    {
     "data": {
      "text/plain": [
       "605"
      ]
     },
     "execution_count": 106,
     "metadata": {},
     "output_type": "execute_result"
    }
   ],
   "source": [
    "int(x+y)"
   ]
  },
  {
   "cell_type": "code",
   "execution_count": 108,
   "id": "901de829-8693-4b35-9376-3e1a3c76cecd",
   "metadata": {},
   "outputs": [
    {
     "data": {
      "text/plain": [
       "65"
      ]
     },
     "execution_count": 108,
     "metadata": {},
     "output_type": "execute_result"
    }
   ],
   "source": [
    "int(x)+int(y)"
   ]
  },
  {
   "cell_type": "code",
   "execution_count": 114,
   "id": "60de67e6-8859-4bea-84e0-91acf88241f7",
   "metadata": {},
   "outputs": [
    {
     "ename": "TypeError",
     "evalue": "unsupported operand type(s) for +: 'int' and 'str'",
     "output_type": "error",
     "traceback": [
      "\u001b[1;31m---------------------------------------------------------------------------\u001b[0m",
      "\u001b[1;31mTypeError\u001b[0m                                 Traceback (most recent call last)",
      "Cell \u001b[1;32mIn[114], line 3\u001b[0m\n\u001b[0;32m      1\u001b[0m d\u001b[38;5;241m=\u001b[39m \u001b[38;5;124m'\u001b[39m\u001b[38;5;124m5\u001b[39m\u001b[38;5;124m'\u001b[39m\n\u001b[0;32m      2\u001b[0m a\u001b[38;5;241m=\u001b[39m \u001b[38;5;241m6\u001b[39m\n\u001b[1;32m----> 3\u001b[0m a\u001b[38;5;241m+\u001b[39md\n",
      "\u001b[1;31mTypeError\u001b[0m: unsupported operand type(s) for +: 'int' and 'str'"
     ]
    }
   ],
   "source": [
    "d= '5'\n",
    "a= 6\n",
    "a+d"
   ]
  },
  {
   "cell_type": "code",
   "execution_count": 116,
   "id": "621f1d38-7b20-4570-91cf-e7454531315e",
   "metadata": {},
   "outputs": [
    {
     "data": {
      "text/plain": [
       "11"
      ]
     },
     "execution_count": 116,
     "metadata": {},
     "output_type": "execute_result"
    }
   ],
   "source": [
    "int(d)+a"
   ]
  },
  {
   "cell_type": "code",
   "execution_count": 118,
   "id": "e6575fbb-7204-49d0-b5f5-fcf7bccec37c",
   "metadata": {},
   "outputs": [
    {
     "data": {
      "text/plain": [
       "56"
      ]
     },
     "execution_count": 118,
     "metadata": {},
     "output_type": "execute_result"
    }
   ],
   "source": [
    "int(d+str(a))"
   ]
  },
  {
   "cell_type": "code",
   "execution_count": 120,
   "id": "5e71fbc2-556d-4535-a46b-791045e08aaf",
   "metadata": {},
   "outputs": [],
   "source": [
    "a=\"subham\"\n",
    "b=456"
   ]
  },
  {
   "cell_type": "code",
   "execution_count": 122,
   "id": "78c436b2-deda-4d36-a5c4-0f493b47656d",
   "metadata": {},
   "outputs": [
    {
     "name": "stdout",
     "output_type": "stream",
     "text": [
      "subham456\n"
     ]
    }
   ],
   "source": [
    "print(a+str(b))"
   ]
  },
  {
   "cell_type": "code",
   "execution_count": 124,
   "id": "e8ba184d-b427-4a4e-90a9-e88d1ba5b4ac",
   "metadata": {},
   "outputs": [
    {
     "data": {
      "text/plain": [
       "'subhamsubham'"
      ]
     },
     "execution_count": 124,
     "metadata": {},
     "output_type": "execute_result"
    }
   ],
   "source": [
    "'subham'+'subham'"
   ]
  },
  {
   "cell_type": "code",
   "execution_count": 126,
   "id": "2dbdd239-2fea-47d1-bd37-3d799bb15fa5",
   "metadata": {},
   "outputs": [
    {
     "data": {
      "text/plain": [
       "'biswabiswabiswabiswabiswabiswa'"
      ]
     },
     "execution_count": 126,
     "metadata": {},
     "output_type": "execute_result"
    }
   ],
   "source": [
    "#repeat string n times\n",
    "\"biswa\" *6"
   ]
  },
  {
   "cell_type": "code",
   "execution_count": 128,
   "id": "f724e4be-063a-4517-8ae6-568a4f6483ab",
   "metadata": {},
   "outputs": [],
   "source": [
    "user = \"satya\"\n",
    "lines = 100\n"
   ]
  },
  {
   "cell_type": "code",
   "execution_count": 132,
   "id": "d76009e5-ce43-4d77-a55a-a869db554947",
   "metadata": {},
   "outputs": [
    {
     "name": "stdout",
     "output_type": "stream",
     "text": [
      "congratulations, satya ! you just wrote 100 lines of code\n"
     ]
    }
   ],
   "source": [
    "print(\"congratulations,\",user,\"! you just wrote\",lines,\"lines of code\")"
   ]
  },
  {
   "cell_type": "code",
   "execution_count": 134,
   "id": "3dea29e4-8a23-40cb-847a-08f5082d8d4e",
   "metadata": {},
   "outputs": [
    {
     "name": "stdout",
     "output_type": "stream",
     "text": [
      "congratulations,satya! you  just wrote100lines of code\n"
     ]
    }
   ],
   "source": [
    "print(\"congratulations,\" + user +\"! you  just wrote\"+str(lines)+\"lines of code\")"
   ]
  },
  {
   "cell_type": "markdown",
   "id": "3d131d81-ab58-4dd7-a96e-6c823b7ad4d6",
   "metadata": {},
   "source": [
    "### Length of string"
   ]
  },
  {
   "cell_type": "code",
   "execution_count": 144,
   "id": "4afe523d-e82e-44bf-9d6d-d071deac142e",
   "metadata": {},
   "outputs": [
    {
     "data": {
      "text/plain": [
       "19"
      ]
     },
     "execution_count": 144,
     "metadata": {},
     "output_type": "execute_result"
    }
   ],
   "source": [
    "x= 'this is interesting'\n",
    "len(x)"
   ]
  },
  {
   "cell_type": "markdown",
   "id": "b0023152-dae6-49e4-832f-89c8da1ec292",
   "metadata": {},
   "source": [
    "### Delete string"
   ]
  },
  {
   "cell_type": "code",
   "execution_count": 146,
   "id": "06ad5323-2e55-46fa-8a16-b4c3e7cff5e0",
   "metadata": {},
   "outputs": [
    {
     "ename": "NameError",
     "evalue": "name 'x' is not defined",
     "output_type": "error",
     "traceback": [
      "\u001b[1;31m---------------------------------------------------------------------------\u001b[0m",
      "\u001b[1;31mNameError\u001b[0m                                 Traceback (most recent call last)",
      "Cell \u001b[1;32mIn[146], line 3\u001b[0m\n\u001b[0;32m      1\u001b[0m \u001b[38;5;66;03m# delete complete string\u001b[39;00m\n\u001b[0;32m      2\u001b[0m \u001b[38;5;28;01mdel\u001b[39;00m x\n\u001b[1;32m----> 3\u001b[0m \u001b[38;5;28mprint\u001b[39m(x)\n",
      "\u001b[1;31mNameError\u001b[0m: name 'x' is not defined"
     ]
    }
   ],
   "source": [
    "# delete complete string\n",
    "del x\n",
    "print(x)"
   ]
  },
  {
   "cell_type": "markdown",
   "id": "a8c17701-6fb7-4496-8789-90ee873a15bf",
   "metadata": {},
   "source": [
    "### How to access characters"
   ]
  },
  {
   "cell_type": "code",
   "execution_count": 4,
   "id": "a33696ac-26fa-4487-bde9-992c29a605fa",
   "metadata": {},
   "outputs": [],
   "source": [
    "mystring = \"hello\""
   ]
  },
  {
   "cell_type": "code",
   "execution_count": 6,
   "id": "b1bc75d4-4936-4080-a8d8-ea24300ffccc",
   "metadata": {},
   "outputs": [
    {
     "name": "stdout",
     "output_type": "stream",
     "text": [
      "h\n"
     ]
    }
   ],
   "source": [
    "#print first character\n",
    "print(mystring[0])"
   ]
  },
  {
   "cell_type": "code",
   "execution_count": 8,
   "id": "e8bc4dbb-6939-48bc-ba11-7c53ce62c07d",
   "metadata": {},
   "outputs": [
    {
     "name": "stdout",
     "output_type": "stream",
     "text": [
      "o\n"
     ]
    }
   ],
   "source": [
    "#last char d[len(d)-1] or d[-1]\n",
    "print(mystring[-1])"
   ]
  },
  {
   "cell_type": "code",
   "execution_count": 10,
   "id": "83d1f68d-77ff-4c41-9f7c-90cb019ebb0c",
   "metadata": {},
   "outputs": [
    {
     "name": "stdout",
     "output_type": "stream",
     "text": [
      "l\n"
     ]
    }
   ],
   "source": [
    "#print character using negative indexing\n",
    "print(mystring[-3])"
   ]
  },
  {
   "cell_type": "code",
   "execution_count": 14,
   "id": "310014bd-62b4-46ec-99ca-0e4f29974249",
   "metadata": {},
   "outputs": [
    {
     "name": "stdout",
     "output_type": "stream",
     "text": [
      "e\n"
     ]
    }
   ],
   "source": [
    "# if we try to access index with out of the range, we will get index error.\n",
    "print(mystring[1])"
   ]
  },
  {
   "cell_type": "code",
   "execution_count": 16,
   "id": "90d0188d-9c3c-459b-a987-1dd9e6ddef33",
   "metadata": {},
   "outputs": [
    {
     "ename": "TypeError",
     "evalue": "string indices must be integers, not 'float'",
     "output_type": "error",
     "traceback": [
      "\u001b[1;31m---------------------------------------------------------------------------\u001b[0m",
      "\u001b[1;31mTypeError\u001b[0m                                 Traceback (most recent call last)",
      "Cell \u001b[1;32mIn[16], line 2\u001b[0m\n\u001b[0;32m      1\u001b[0m \u001b[38;5;66;03m# if we try to access by using use decimal number, we will get errors.\u001b[39;00m\n\u001b[1;32m----> 2\u001b[0m \u001b[38;5;28mprint\u001b[39m(mystring[\u001b[38;5;241m1.5\u001b[39m])\n",
      "\u001b[1;31mTypeError\u001b[0m: string indices must be integers, not 'float'"
     ]
    }
   ],
   "source": [
    "# if we try to access by using use decimal number, we will get errors.\n",
    "print(mystring[1.5])"
   ]
  },
  {
   "cell_type": "markdown",
   "id": "9c9b0ca2-8f16-4624-846d-b1ec9945239d",
   "metadata": {},
   "source": [
    "### String immutable"
   ]
  },
  {
   "cell_type": "code",
   "execution_count": 19,
   "id": "f24e473e-e22d-4d09-89c6-e3301ff409fd",
   "metadata": {},
   "outputs": [
    {
     "ename": "SyntaxError",
     "evalue": "invalid syntax (1299186292.py, line 2)",
     "output_type": "error",
     "traceback": [
      "\u001b[1;36m  Cell \u001b[1;32mIn[19], line 2\u001b[1;36m\u001b[0m\n\u001b[1;33m    has been assigned.\u001b[0m\n\u001b[1;37m        ^\u001b[0m\n\u001b[1;31mSyntaxError\u001b[0m\u001b[1;31m:\u001b[0m invalid syntax\n"
     ]
    }
   ],
   "source": [
    "# strings are immutable.this means that elements of a string cannot be change d once it\n",
    "has been assigned.\n",
    "# we can simply reassign different strings to the same name.\n",
    "\n",
    "mystring = \"hello\"\n",
    "mystring[5]='s' # strings are immutable"
   ]
  },
  {
   "cell_type": "markdown",
   "id": "8ff55bce-7e8a-481b-a3e6-4ea641107a8d",
   "metadata": {},
   "source": [
    "### Slicing string"
   ]
  },
  {
   "cell_type": "code",
   "execution_count": 22,
   "id": "fbe0aa3c-e592-48de-9060-49ba3dcb705d",
   "metadata": {},
   "outputs": [
    {
     "name": "stdout",
     "output_type": "stream",
     "text": [
      "llo\n"
     ]
    }
   ],
   "source": [
    "#slicing 2nd to 5th character (start to end-1 index)\n",
    "print(mystring[2:5])"
   ]
  },
  {
   "cell_type": "code",
   "execution_count": 26,
   "id": "4ea84b09-b996-49b6-99f5-2fffed630764",
   "metadata": {},
   "outputs": [
    {
     "name": "stdout",
     "output_type": "stream",
     "text": [
      "hel\n"
     ]
    }
   ],
   "source": [
    "print(mystring[0:3])"
   ]
  },
  {
   "cell_type": "code",
   "execution_count": 28,
   "id": "118d6d6d-caa3-476d-85f9-64303066ccf6",
   "metadata": {},
   "outputs": [
    {
     "data": {
      "text/plain": [
       "'llo'"
      ]
     },
     "execution_count": 28,
     "metadata": {},
     "output_type": "execute_result"
    }
   ],
   "source": [
    "# slicing (start to all)\n",
    "mystring[2: ]"
   ]
  },
  {
   "cell_type": "code",
   "execution_count": 30,
   "id": "89b70fdb-305a-442e-9063-00820bbf1bf9",
   "metadata": {},
   "outputs": [
    {
     "data": {
      "text/plain": [
       "'hell'"
      ]
     },
     "execution_count": 30,
     "metadata": {},
     "output_type": "execute_result"
    }
   ],
   "source": [
    "mystring[:4]"
   ]
  },
  {
   "cell_type": "code",
   "execution_count": 32,
   "id": "df6fcbb4-e783-4311-a7f4-7c8657547577",
   "metadata": {},
   "outputs": [
    {
     "data": {
      "text/plain": [
       "'hello'"
      ]
     },
     "execution_count": 32,
     "metadata": {},
     "output_type": "execute_result"
    }
   ],
   "source": [
    "mystring[:]"
   ]
  },
  {
   "cell_type": "code",
   "execution_count": 34,
   "id": "7b028eb0-f867-4fe6-b817-77039bc52ae4",
   "metadata": {},
   "outputs": [
    {
     "data": {
      "text/plain": [
       "'hello'"
      ]
     },
     "execution_count": 34,
     "metadata": {},
     "output_type": "execute_result"
    }
   ],
   "source": [
    "mystring"
   ]
  },
  {
   "cell_type": "code",
   "execution_count": 36,
   "id": "a7c17956-52e8-41f4-831f-ef8e2568ad4d",
   "metadata": {},
   "outputs": [
    {
     "data": {
      "text/plain": [
       "''"
      ]
     },
     "execution_count": 36,
     "metadata": {},
     "output_type": "execute_result"
    }
   ],
   "source": [
    "mystring[4:1]"
   ]
  },
  {
   "cell_type": "code",
   "execution_count": 38,
   "id": "b6b6d62d-1604-42bb-90bf-9817dbdd7711",
   "metadata": {},
   "outputs": [
    {
     "data": {
      "text/plain": [
       "'oll'"
      ]
     },
     "execution_count": 38,
     "metadata": {},
     "output_type": "execute_result"
    }
   ],
   "source": [
    "# slicing with increment\n",
    "mystring[-1:-4:-1]"
   ]
  },
  {
   "cell_type": "code",
   "execution_count": 40,
   "id": "ef477798-4c77-4013-a9bc-88cfd702743e",
   "metadata": {},
   "outputs": [
    {
     "data": {
      "text/plain": [
       "'olleh'"
      ]
     },
     "execution_count": 40,
     "metadata": {},
     "output_type": "execute_result"
    }
   ],
   "source": [
    "#print in reverse order\n",
    "mystring[::-1]"
   ]
  },
  {
   "cell_type": "markdown",
   "id": "6dfa5e1b-0aa8-435f-a59c-784ffe47dc11",
   "metadata": {},
   "source": [
    "### String methods"
   ]
  },
  {
   "cell_type": "code",
   "execution_count": 43,
   "id": "8db29592-8b17-4079-a5b7-391e7350b440",
   "metadata": {},
   "outputs": [
    {
     "data": {
      "text/plain": [
       "'Good morning'"
      ]
     },
     "execution_count": 43,
     "metadata": {},
     "output_type": "execute_result"
    }
   ],
   "source": [
    "# capatilise only first letter and remaning all to small\n",
    "\"good morning\".capitalize()"
   ]
  },
  {
   "cell_type": "code",
   "execution_count": 45,
   "id": "1e0c88eb-9550-4cd6-93d3-67900b0027ab",
   "metadata": {},
   "outputs": [
    {
     "data": {
      "text/plain": [
       "'Good morning.wellcome'"
      ]
     },
     "execution_count": 45,
     "metadata": {},
     "output_type": "execute_result"
    }
   ],
   "source": [
    "\"good morning.wellcome\".capitalize()"
   ]
  },
  {
   "cell_type": "markdown",
   "id": "1143fc0f-340f-4eba-b21f-dc219aefc32e",
   "metadata": {},
   "source": [
    "### Tittle"
   ]
  },
  {
   "cell_type": "code",
   "execution_count": 50,
   "id": "9458c12b-7a6f-4d74-a21b-ea7ee8f0a129",
   "metadata": {},
   "outputs": [
    {
     "data": {
      "text/plain": [
       "'Good Morning'"
      ]
     },
     "execution_count": 50,
     "metadata": {},
     "output_type": "execute_result"
    }
   ],
   "source": [
    "# capatilize first letter of each word and remaning all  to small\n",
    "a=\"good morning\"\n",
    "a.title()"
   ]
  },
  {
   "cell_type": "code",
   "execution_count": 52,
   "id": "52a146e8-fba2-4812-b694-9d4bf1a3d08a",
   "metadata": {},
   "outputs": [
    {
     "data": {
      "text/plain": [
       "'Good Morning'"
      ]
     },
     "execution_count": 52,
     "metadata": {},
     "output_type": "execute_result"
    }
   ],
   "source": [
    "\"good morning\".title()"
   ]
  },
  {
   "cell_type": "markdown",
   "id": "99af74c9-83ce-43a3-9894-046033b37f9d",
   "metadata": {},
   "source": [
    "### Upper"
   ]
  },
  {
   "cell_type": "code",
   "execution_count": 55,
   "id": "eb442f35-fc65-4057-9fdc-c99ab4228ce7",
   "metadata": {},
   "outputs": [
    {
     "data": {
      "text/plain": [
       "'GOOD MORNING'"
      ]
     },
     "execution_count": 55,
     "metadata": {},
     "output_type": "execute_result"
    }
   ],
   "source": [
    "# convert complete string to upper case\n",
    "a.upper()"
   ]
  },
  {
   "cell_type": "markdown",
   "id": "983b04f2-783a-4080-b1e0-921c97b79280",
   "metadata": {},
   "source": [
    "### Lower"
   ]
  },
  {
   "cell_type": "code",
   "execution_count": 58,
   "id": "da7a68c1-383e-4685-9405-e1daeaf8b5b0",
   "metadata": {},
   "outputs": [
    {
     "data": {
      "text/plain": [
       "'good morning'"
      ]
     },
     "execution_count": 58,
     "metadata": {},
     "output_type": "execute_result"
    }
   ],
   "source": [
    "# convert complete string to lower case \n",
    "a.lower()"
   ]
  },
  {
   "cell_type": "markdown",
   "id": "2e657a1c-db81-4fa5-9551-a0557171f433",
   "metadata": {},
   "source": [
    "### Spilt"
   ]
  },
  {
   "cell_type": "code",
   "execution_count": 63,
   "id": "7d0542cc-7cc0-471d-8c5a-15e079665ce3",
   "metadata": {},
   "outputs": [
    {
     "data": {
      "text/plain": [
       "['hello', 'my', 'name', 'is', 'subham']"
      ]
     },
     "execution_count": 63,
     "metadata": {},
     "output_type": "execute_result"
    }
   ],
   "source": [
    "# split with space\n",
    "st='hello my name is subham'\n",
    "st.split(' ')"
   ]
  },
  {
   "cell_type": "code",
   "execution_count": 65,
   "id": "195ffe81-525b-4333-a47d-09af668f529e",
   "metadata": {},
   "outputs": [
    {
     "data": {
      "text/plain": [
       "['go sports! ', ' sports']"
      ]
     },
     "execution_count": 65,
     "metadata": {},
     "output_type": "execute_result"
    }
   ],
   "source": [
    "tweet = 'go sports! # sports'\n",
    "tweet.split('#')"
   ]
  },
  {
   "cell_type": "code",
   "execution_count": 67,
   "id": "c54a6913-9542-4e25-9d78-ca08fb6d8b31",
   "metadata": {},
   "outputs": [
    {
     "data": {
      "text/plain": [
       "['this', 'will', 'spilt', 'all', 'words', 'in', 'a', 'list']"
      ]
     },
     "execution_count": 67,
     "metadata": {},
     "output_type": "execute_result"
    }
   ],
   "source": [
    "\"this will spilt all words in a list\".split()"
   ]
  },
  {
   "cell_type": "markdown",
   "id": "d69ee605-164f-4f33-94a7-7f6c0abe468e",
   "metadata": {},
   "source": [
    "### Join"
   ]
  },
  {
   "cell_type": "code",
   "execution_count": 70,
   "id": "c71d9a4b-a117-4728-b7d1-ecbb05753652",
   "metadata": {},
   "outputs": [
    {
     "data": {
      "text/plain": [
       "'this will split all words in a list'"
      ]
     },
     "execution_count": 70,
     "metadata": {},
     "output_type": "execute_result"
    }
   ],
   "source": [
    "' '.join(['this','will','split','all','words','in','a','list'])"
   ]
  },
  {
   "cell_type": "markdown",
   "id": "b95d4020-19fd-4b84-a47d-80767934bd30",
   "metadata": {},
   "source": [
    "### Find"
   ]
  },
  {
   "cell_type": "code",
   "execution_count": 73,
   "id": "19c72f72-dbe3-4836-b2f9-e3664e4c1f0d",
   "metadata": {},
   "outputs": [
    {
     "data": {
      "text/plain": [
       "5"
      ]
     },
     "execution_count": 73,
     "metadata": {},
     "output_type": "execute_result"
    }
   ],
   "source": [
    "# to find a string in the input string \n",
    "\"good morning\".find(\"m\")\n",
    "#it returns the index position of string if available\n",
    "# it returns -1 if not available"
   ]
  },
  {
   "cell_type": "markdown",
   "id": "a6ce98f6-6c9e-4221-a36c-b927a1749ece",
   "metadata": {},
   "source": [
    "### Count"
   ]
  },
  {
   "cell_type": "code",
   "execution_count": 82,
   "id": "8db5f124-d6a8-472d-907f-b617abe29520",
   "metadata": {},
   "outputs": [
    {
     "data": {
      "text/plain": [
       "0"
      ]
     },
     "execution_count": 82,
     "metadata": {},
     "output_type": "execute_result"
    }
   ],
   "source": [
    "#to count how many times the string available in the main string \n",
    "\"good morning\".count(\"a\")"
   ]
  },
  {
   "cell_type": "markdown",
   "id": "32336fee-24e7-438f-a053-e9834ad19ea2",
   "metadata": {},
   "source": [
    "### Replace"
   ]
  },
  {
   "cell_type": "code",
   "execution_count": 85,
   "id": "4e312174-1a4a-412d-92b5-ee993fa3231b",
   "metadata": {},
   "outputs": [],
   "source": [
    "# to replace the old string with new string \n",
    "s1= \"good morning\"\n",
    "s2= s1.replace(\"good\",\"bad\")"
   ]
  },
  {
   "cell_type": "code",
   "execution_count": 91,
   "id": "518c8a9f-7650-4793-8344-26484dd8d6d2",
   "metadata": {},
   "outputs": [
    {
     "name": "stdout",
     "output_type": "stream",
     "text": [
      "True\n",
      "False\n",
      "False\n",
      "False\n",
      "False\n",
      "True\n",
      "False\n",
      "False\n"
     ]
    },
    {
     "ename": "AttributeError",
     "evalue": "'str' object has no attribute 'startswitch'",
     "output_type": "error",
     "traceback": [
      "\u001b[1;31m---------------------------------------------------------------------------\u001b[0m",
      "\u001b[1;31mAttributeError\u001b[0m                            Traceback (most recent call last)",
      "Cell \u001b[1;32mIn[91], line 10\u001b[0m\n\u001b[0;32m      8\u001b[0m \u001b[38;5;28mprint\u001b[39m(my_str\u001b[38;5;241m.\u001b[39misspace()) \u001b[38;5;66;03m#test if string contains spaces \u001b[39;00m\n\u001b[0;32m      9\u001b[0m \u001b[38;5;28mprint\u001b[39m(my_str\u001b[38;5;241m.\u001b[39mendswith(\u001b[38;5;124m'\u001b[39m\u001b[38;5;124ms\u001b[39m\u001b[38;5;124m'\u001b[39m)) \u001b[38;5;66;03m#test if string endswith a s\u001b[39;00m\n\u001b[1;32m---> 10\u001b[0m \u001b[38;5;28mprint\u001b[39m(my_str\u001b[38;5;241m.\u001b[39mstartswitch(\u001b[38;5;124m'\u001b[39m\u001b[38;5;124ms\u001b[39m\u001b[38;5;124m'\u001b[39m))\n",
      "\u001b[1;31mAttributeError\u001b[0m: 'str' object has no attribute 'startswitch'"
     ]
    }
   ],
   "source": [
    "my_str='subham131'\n",
    "print(my_str.isalnum()) #check if all char are alphanumeric\n",
    "print(my_str.isalpha()) #check if all char in the string are alphabetic \n",
    "print(my_str.isdigit()) # test if string contains digits\n",
    "print(my_str.istitle()) #test if string contains title words\n",
    "print(my_str.isupper()) #test if string contains upper case\n",
    "print(my_str.islower()) #test if string contains lower case\n",
    "print(my_str.isspace()) #test if string contains spaces \n",
    "print(my_str.endswith('s')) #test if string endswith a s\n",
    "print(my_str.startswith('s')) #test if string startswitch s"
   ]
  },
  {
   "cell_type": "code",
   "execution_count": null,
   "id": "adba9ca1-b74a-49fb-b20a-ba7f04eeece5",
   "metadata": {},
   "outputs": [],
   "source": []
  }
 ],
 "metadata": {
  "kernelspec": {
   "display_name": "Python 3 (ipykernel)",
   "language": "python",
   "name": "python3"
  },
  "language_info": {
   "codemirror_mode": {
    "name": "ipython",
    "version": 3
   },
   "file_extension": ".py",
   "mimetype": "text/x-python",
   "name": "python",
   "nbconvert_exporter": "python",
   "pygments_lexer": "ipython3",
   "version": "3.12.4"
  }
 },
 "nbformat": 4,
 "nbformat_minor": 5
}
