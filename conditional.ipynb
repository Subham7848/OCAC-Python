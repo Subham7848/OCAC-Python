{
 "cells": [
  {
   "cell_type": "markdown",
   "id": "b30d8feb-3d41-414b-ace4-43d92c8f8895",
   "metadata": {},
   "source": [
    "### Block structure"
   ]
  },
  {
   "cell_type": "code",
   "execution_count": 4,
   "id": "acf82267-517a-4a03-b108-58ad7b0ec96a",
   "metadata": {},
   "outputs": [
    {
     "name": "stdout",
     "output_type": "stream",
     "text": [
      "hi!\n",
      "raj\n"
     ]
    }
   ],
   "source": [
    "if 1<2:\n",
    "    print('hi!')\n",
    "    print('raj')"
   ]
  },
  {
   "cell_type": "code",
   "execution_count": 6,
   "id": "0df068a8-80ef-4a38-8305-44d0d30127da",
   "metadata": {},
   "outputs": [],
   "source": [
    "if 1>2:\n",
    "    print('hi!')"
   ]
  },
  {
   "cell_type": "code",
   "execution_count": 8,
   "id": "9d365b41-0b16-43e9-a135-77b5cdceafa4",
   "metadata": {},
   "outputs": [
    {
     "name": "stdout",
     "output_type": "stream",
     "text": [
      "raj\n"
     ]
    }
   ],
   "source": [
    "if 1>2:\n",
    "    print('hi!')\n",
    "\n",
    "print(\"raj\")"
   ]
  },
  {
   "cell_type": "code",
   "execution_count": 10,
   "id": "bcf00aa5-c09b-455f-9ade-dc64a33faba3",
   "metadata": {},
   "outputs": [
    {
     "name": "stdin",
     "output_type": "stream",
     "text": [
      "enter name: raj\n"
     ]
    },
    {
     "name": "stdout",
     "output_type": "stream",
     "text": [
      "hello raj good morning\n"
     ]
    }
   ],
   "source": [
    "name=input(\"enter name:\")\n",
    "if name ==\"raj\":\n",
    "    print(\"hello raj good morning\")"
   ]
  },
  {
   "cell_type": "markdown",
   "id": "40666955-0c8b-48ac-be04-844537aaf7d1",
   "metadata": {},
   "source": [
    "### If-else"
   ]
  },
  {
   "cell_type": "code",
   "execution_count": 13,
   "id": "25f5d673-55a6-446c-af53-afc5b1f39f94",
   "metadata": {},
   "outputs": [
    {
     "name": "stdout",
     "output_type": "stream",
     "text": [
      "first\n"
     ]
    }
   ],
   "source": [
    "if 1<2:\n",
    "    print('first')\n",
    "\n",
    "else:\n",
    "    print('last')"
   ]
  },
  {
   "cell_type": "code",
   "execution_count": 15,
   "id": "7d8bded1-4323-4510-baa4-a29efa5e045c",
   "metadata": {},
   "outputs": [
    {
     "name": "stdout",
     "output_type": "stream",
     "text": [
      "last\n"
     ]
    }
   ],
   "source": [
    "if 1>2:\n",
    "    print('first')\n",
    "else:\n",
    "    print('last')"
   ]
  },
  {
   "cell_type": "code",
   "execution_count": 19,
   "id": "489ca329-d87a-47ef-991c-a00b68d27e7c",
   "metadata": {},
   "outputs": [
    {
     "name": "stdin",
     "output_type": "stream",
     "text": [
      "enter a number 6\n"
     ]
    },
    {
     "name": "stdout",
     "output_type": "stream",
     "text": [
      "6 is even number\n"
     ]
    }
   ],
   "source": [
    "# take a variable  x and print \"even\" if the number is divisible by 2, otherwise print\"odd\".\n",
    "x=int(input('enter a number'))\n",
    "if (x%2==0):\n",
    "    print(x,'is even number')\n",
    "else:\n",
    "    print(x,'is odd number')"
   ]
  },
  {
   "cell_type": "code",
   "execution_count": 39,
   "id": "1d0d7dc1-8153-4080-8665-d984c51b5290",
   "metadata": {},
   "outputs": [
    {
     "name": "stdin",
     "output_type": "stream",
     "text": [
      "enter name: sai\n"
     ]
    },
    {
     "name": "stdout",
     "output_type": "stream",
     "text": [
      "hello sai good morning\n"
     ]
    }
   ],
   "source": [
    "name=input(\"enter name:\")\n",
    "if name==\"sai\":\n",
    "    print(\"hello sai good morning\")\n",
    "else:\n",
    "    print(\"hello\",name,\"good morning\")"
   ]
  },
  {
   "cell_type": "code",
   "execution_count": 3,
   "id": "6ebe218f-e53f-4713-a547-564bc9f54ebc",
   "metadata": {},
   "outputs": [
    {
     "name": "stdout",
     "output_type": "stream",
     "text": [
      "AI\n",
      "ML\n"
     ]
    }
   ],
   "source": [
    "#keyword 'in' is used to test if an item is in a list\n",
    "lst = ['one','two','three','four']\n",
    "\n",
    "if 'two'in lst:\n",
    "    print('AI')  \n",
    "    \n",
    "#keyword 'not' can combined with 'in'\n",
    "if 'six' not in lst:\n",
    "    print('ML')"
   ]
  },
  {
   "cell_type": "code",
   "execution_count": 1,
   "id": "85b3c302-8d05-46dd-9741-7055dc826cff",
   "metadata": {},
   "outputs": [
    {
     "name": "stdin",
     "output_type": "stream",
     "text": [
      " 4\n"
     ]
    },
    {
     "name": "stdout",
     "output_type": "stream",
     "text": [
      "4 is positive\n"
     ]
    }
   ],
   "source": [
    "# given number is positive or negative\n",
    "a=int(input())\n",
    "if (a>=0):\n",
    "    print(a,'is positive')\n",
    "else:\n",
    "    print(a,'is negative number')"
   ]
  },
  {
   "cell_type": "code",
   "execution_count": 53,
   "id": "549096ed-582d-42ac-9c58-4f34dd533745",
   "metadata": {},
   "outputs": [
    {
     "name": "stdout",
     "output_type": "stream",
     "text": [
      "8 is even number\n",
      "this is out of else block\n"
     ]
    }
   ],
   "source": [
    "x = 8\n",
    "if x%2 == 0:\n",
    "    print(x,\"is even number\")\n",
    "else:\n",
    "    print(x,\"is odd number\")\n",
    "print(\"this is out of else block\")"
   ]
  },
  {
   "cell_type": "markdown",
   "id": "27a56e86-7fe5-4db9-9f9f-054f8b7cda1c",
   "metadata": {},
   "source": [
    "### If-elif-else\n"
   ]
  },
  {
   "cell_type": "code",
   "execution_count": 6,
   "id": "e204d983-dae8-45a9-b27a-77f9a53757e7",
   "metadata": {},
   "outputs": [
    {
     "name": "stdout",
     "output_type": "stream",
     "text": [
      "first\n"
     ]
    }
   ],
   "source": [
    "if 4 == 4:\n",
    "    print('first')\n",
    "elif 5 == 5:\n",
    "    print('middle')"
   ]
  },
  {
   "cell_type": "code",
   "execution_count": 20,
   "id": "777f761d-24e6-45e3-8f55-7fa95314ab47",
   "metadata": {},
   "outputs": [
    {
     "name": "stdout",
     "output_type": "stream",
     "text": [
      "grade C\n"
     ]
    }
   ],
   "source": [
    "# take a variable y and print \"grade A\" if y is greater than 80, \"grade B\" if\n",
    "#y is greater than 50 but less than or equal to 80 and \"grade F\" otherwise.\n",
    "y=56\n",
    "\n",
    "if y>80:\n",
    "   print(\"grade A\")\n",
    "   \n",
    "elif(y>62):\n",
    "   print(\"grade B\")\n",
    "   \n",
    "elif y>45:\n",
    "   print(\"grade C\")\n",
    "   \n",
    "else:\n",
    "   print(\"grade F\")"
   ]
  },
  {
   "cell_type": "code",
   "execution_count": 24,
   "id": "599e4d1f-390d-42a0-8c37-131a9c5e436e",
   "metadata": {},
   "outputs": [
    {
     "name": "stdout",
     "output_type": "stream",
     "text": [
      "i am in elif block\n",
      "a is negative\n"
     ]
    }
   ],
   "source": [
    "a =-55.99\n",
    "\n",
    "if ((a>0) or (a==-100)):\n",
    "    print(\"a is positive value or -100\")\n",
    "    print(\"i am if loop\")\n",
    "\n",
    "elif (a<0):\n",
    "    print(\"i am in elif block\")\n",
    "    print(\"a is negative\")\n",
    "\n",
    "else:\n",
    "    print(\"a is zero\")"
   ]
  },
  {
   "cell_type": "code",
   "execution_count": 26,
   "id": "78b1b7c0-72e6-4125-88ec-324a8c8c29fa",
   "metadata": {},
   "outputs": [
    {
     "name": "stdout",
     "output_type": "stream",
     "text": [
      "negative\n",
      "i am out of if block\n"
     ]
    }
   ],
   "source": [
    "a = -60\n",
    "\n",
    "if a > 0:\n",
    "    print('positive')\n",
    "    print('hello')\n",
    "\n",
    "elif a == 0:\n",
    "    print('zero')\n",
    "\n",
    "else:\n",
    "    print('negative')\n",
    "\n",
    "print(\"i am out of if block\")"
   ]
  },
  {
   "cell_type": "code",
   "execution_count": 30,
   "id": "d3cafc03-81cb-4c8d-8894-e2fbfffe6870",
   "metadata": {},
   "outputs": [
    {
     "name": "stdin",
     "output_type": "stream",
     "text": [
      "enter your favourite brand: kf\n"
     ]
    },
    {
     "name": "stdout",
     "output_type": "stream",
     "text": [
      "other brands are not recommended\n"
     ]
    }
   ],
   "source": [
    "brand=input(\"enter your favourite brand:\")\n",
    "if brand==\"bc\":\n",
    "    print(\"it is childrens brand\")\n",
    "elif brand==\"sf\":\n",
    "    print(\"it is not that much kick\")\n",
    "elif brand==\"ko\":\n",
    "    print(\"buy one get free one\")\n",
    "elif brand==\"rc\":\n",
    "    print(\"it is brand\")\n",
    "else:\n",
    "    print(\"other brands are not recommended\")"
   ]
  },
  {
   "cell_type": "code",
   "execution_count": 32,
   "id": "61bbd565-8302-4eed-853a-1915c3f5d774",
   "metadata": {},
   "outputs": [
    {
     "name": "stdout",
     "output_type": "stream",
     "text": [
      "all is well with the world\n"
     ]
    },
    {
     "name": "stderr",
     "output_type": "stream",
     "text": [
      "<>:1: SyntaxWarning: \"is\" with 'int' literal. Did you mean \"==\"?\n",
      "<>:1: SyntaxWarning: \"is\" with 'int' literal. Did you mean \"==\"?\n",
      "C:\\Users\\subha\\AppData\\Local\\Temp\\ipykernel_16496\\3973682803.py:1: SyntaxWarning: \"is\" with 'int' literal. Did you mean \"==\"?\n",
      "  if 1 is 4:\n"
     ]
    }
   ],
   "source": [
    "if 1 is 4:\n",
    "    print(\"how did that happen?\")\n",
    "elif 1 > 4:\n",
    "    print(\"yikes\")\n",
    "else:\n",
    "    print(\"all is well with the world\")"
   ]
  },
  {
   "cell_type": "code",
   "execution_count": 36,
   "id": "c8e7c5a1-ca97-41eb-abfd-bf784735067e",
   "metadata": {},
   "outputs": [
    {
     "name": "stdin",
     "output_type": "stream",
     "text": [
      "enter marks: 80\n"
     ]
    },
    {
     "name": "stdout",
     "output_type": "stream",
     "text": [
      "80 B grade\n"
     ]
    }
   ],
   "source": [
    "'''findout the grades based on stundent marks\n",
    "80-100 - A grade\n",
    "70-80 - B grade\n",
    "60-70 - C grade\n",
    "50-60 - D grade\n",
    "40-50 - E grade\n",
    "0-40 - F grade\n",
    "'''\n",
    "a=int(float(input('enter marks:')))\n",
    "\n",
    "if (a>80 and a<=100):\n",
    "    print(a,'A grade')\n",
    "elif(a<=80 and a>70):\n",
    "    print(a,'B grade')\n",
    "elif(a<=70 and a>60):\n",
    "    print(a,'C grade')\n",
    "elif(a<=60 and a>50):\n",
    "    print(a,'D grade')\n",
    "elif(a<=50 and a>40):\n",
    "    print(a,'E grade')\n",
    "else:\n",
    "    print(a,'fail')"
   ]
  },
  {
   "cell_type": "code",
   "execution_count": 38,
   "id": "0446d6ea-bec4-4bed-bd8e-8c321dfa3f1f",
   "metadata": {},
   "outputs": [
    {
     "name": "stdin",
     "output_type": "stream",
     "text": [
      "enter first number: 8\n",
      "enter second number: 15\n"
     ]
    },
    {
     "name": "stdout",
     "output_type": "stream",
     "text": [
      "biggest number is: 15\n"
     ]
    }
   ],
   "source": [
    "# write a program to find biggest of given 2 numbers from the input console?\n",
    "\n",
    "n1=int(input(\"enter first number:\"))\n",
    "n2=int(input(\"enter second number:\"))\n",
    "if n1>n2:\n",
    "    print(\"biggest number is:\",n1)\n",
    "else:\n",
    "    print(\"biggest number is:\",n2)"
   ]
  },
  {
   "cell_type": "code",
   "execution_count": 40,
   "id": "f0a3a9c7-2f4a-45e4-9e58-cd9486882a80",
   "metadata": {},
   "outputs": [
    {
     "name": "stdin",
     "output_type": "stream",
     "text": [
      "enter first number: 4\n",
      "enter srcond number: 6\n",
      "enter third number: 14\n",
      "enter fourth number: 54\n"
     ]
    },
    {
     "name": "stdout",
     "output_type": "stream",
     "text": [
      "54 is the largest\n"
     ]
    }
   ],
   "source": [
    "# write a program to find largest of given 4 numbers from the input console?\n",
    "n1=int(input(\"enter first number:\"))\n",
    "n2=int(input(\"enter srcond number:\"))\n",
    "n3=int(input(\"enter third number:\"))\n",
    "n4=int(input(\"enter fourth number:\"))\n",
    "if n1>n2 and n1>n3:\n",
    "    print(n1,\"is the largest\")\n",
    "elif n2>n3:\n",
    "    print(n2,\"is the largest\")\n",
    "elif n3>n4:\n",
    "    print(n3,\"is the largest\")\n",
    "else:\n",
    "    print(n4,\"is the largest\")"
   ]
  },
  {
   "cell_type": "code",
   "execution_count": 46,
   "id": "5b968fc5-7253-4cda-b79f-84c7791dafb0",
   "metadata": {},
   "outputs": [
    {
     "name": "stdin",
     "output_type": "stream",
     "text": [
      "enter first string: sai\n",
      "enter second string: subham\n"
     ]
    },
    {
     "name": "stdout",
     "output_type": "stream",
     "text": [
      "first string is less than second string\n"
     ]
    }
   ],
   "source": [
    "# comparison of string: we can use comparison operators (<,<=,>=) and e quality operators\n",
    "# (==, !=) for strings.comparison will be performed based on a lphabetical order.\n",
    "x1=input(\"enter first string:\")\n",
    "x2=input(\"enter second string:\")\n",
    "if x1==x2:\n",
    "    print(\"both strings are equal\")\n",
    "elif x1<x2:\n",
    "    print(\"first string is less than second string\")\n",
    "else:\n",
    "    print(\"first string is greater than second string\")"
   ]
  },
  {
   "cell_type": "markdown",
   "id": "7d01623c-7923-4d9b-a384-e41798f50496",
   "metadata": {},
   "source": [
    "### Nested-if"
   ]
  },
  {
   "cell_type": "code",
   "execution_count": 49,
   "id": "e4c44e80-e542-410e-bc0b-29ca4dba7e91",
   "metadata": {},
   "outputs": [
    {
     "name": "stdout",
     "output_type": "stream",
     "text": [
      "negative number\n"
     ]
    }
   ],
   "source": [
    "num = 20\n",
    "\n",
    "if num >= 0:\n",
    "    if num == 0:\n",
    "        print(\"not\")\n",
    "    else:\n",
    "        print(\"negative number\")\n",
    "else:\n",
    "    print(\"positive number\")"
   ]
  },
  {
   "cell_type": "code",
   "execution_count": 55,
   "id": "984f6ec2-b342-489c-982a-ea6280fce610",
   "metadata": {},
   "outputs": [
    {
     "name": "stdout",
     "output_type": "stream",
     "text": [
      "less than 5\n"
     ]
    }
   ],
   "source": [
    "x = 3.1\n",
    "if (x < 5):\n",
    "    print('less than 5')\n",
    "    if x>4:\n",
    "        print(\"fsdfsf\")\n",
    "elif x < 6:\n",
    "    print('less than 6')\n",
    "else:\n",
    "    print('6 or more')"
   ]
  },
  {
   "cell_type": "code",
   "execution_count": 59,
   "id": "8f6a17f7-b715-46b8-9d86-670e8d897fa3",
   "metadata": {},
   "outputs": [
    {
     "name": "stdin",
     "output_type": "stream",
     "text": [
      "enter your pin 752106\n",
      "with draw amount: 15000\n"
     ]
    },
    {
     "name": "stdout",
     "output_type": "stream",
     "text": [
      "15000 successfully transaction completed\n"
     ]
    }
   ],
   "source": [
    "# next program on bank trasction using conditional statements\n",
    "amount=20000\n",
    "pin=752106\n",
    "if(int(input('enter your pin'))==752106):\n",
    "    with_draw=int(input('with draw amount:'))   \n",
    "    if (with_draw<=amount):\n",
    "        print(with_draw,'successfully transaction completed')\n",
    "    else:\n",
    "        print(with_draw,'not sufficiant funds in your account')\n",
    "else:\n",
    "    print('invalid pin number')"
   ]
  },
  {
   "cell_type": "code",
   "execution_count": null,
   "id": "7cd94572-fa49-45b6-a842-05fcd68aa072",
   "metadata": {},
   "outputs": [],
   "source": []
  }
 ],
 "metadata": {
  "kernelspec": {
   "display_name": "Python 3 (ipykernel)",
   "language": "python",
   "name": "python3"
  },
  "language_info": {
   "codemirror_mode": {
    "name": "ipython",
    "version": 3
   },
   "file_extension": ".py",
   "mimetype": "text/x-python",
   "name": "python",
   "nbconvert_exporter": "python",
   "pygments_lexer": "ipython3",
   "version": "3.12.4"
  }
 },
 "nbformat": 4,
 "nbformat_minor": 5
}
