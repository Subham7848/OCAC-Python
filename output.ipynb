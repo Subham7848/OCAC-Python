{
 "cells": [
  {
   "cell_type": "code",
   "execution_count": 3,
   "id": "7908af2c-0483-4673-b436-86ab3782580a",
   "metadata": {},
   "outputs": [
    {
     "name": "stdout",
     "output_type": "stream",
     "text": [
      "5\n"
     ]
    }
   ],
   "source": [
    "print(5)"
   ]
  },
  {
   "cell_type": "code",
   "execution_count": 5,
   "id": "90e219bf-8f0d-429d-af28-5c22a417bd29",
   "metadata": {},
   "outputs": [
    {
     "name": "stdout",
     "output_type": "stream",
     "text": [
      "subham\n"
     ]
    }
   ],
   "source": [
    "print(\"subham\")"
   ]
  },
  {
   "cell_type": "code",
   "execution_count": 9,
   "id": "a7e3dfa0-b115-47cf-9044-b587fdd3c667",
   "metadata": {},
   "outputs": [
    {
     "name": "stdout",
     "output_type": "stream",
     "text": [
      "akash  12!@#$%^&\n"
     ]
    }
   ],
   "source": [
    "print(\"akash  12!@#$%^&\")"
   ]
  },
  {
   "cell_type": "code",
   "execution_count": 11,
   "id": "5c491091-cb61-4cc1-95f5-157c4db6fdf0",
   "metadata": {},
   "outputs": [
    {
     "name": "stdout",
     "output_type": "stream",
     "text": [
      "30\n"
     ]
    }
   ],
   "source": [
    "a=30\n",
    "print(a)"
   ]
  },
  {
   "cell_type": "code",
   "execution_count": 13,
   "id": "bcfccc94-cbe4-41e8-b1c5-494b9accf4e3",
   "metadata": {},
   "outputs": [
    {
     "name": "stdout",
     "output_type": "stream",
     "text": [
      "20\n"
     ]
    }
   ],
   "source": [
    "mitu=20\n",
    "print(mitu)"
   ]
  },
  {
   "cell_type": "code",
   "execution_count": 15,
   "id": "bc4534a2-a935-4697-9b94-2bb6089d1d50",
   "metadata": {},
   "outputs": [
    {
     "name": "stdout",
     "output_type": "stream",
     "text": [
      "mitu\n"
     ]
    }
   ],
   "source": [
    "print(\"mitu\")"
   ]
  },
  {
   "cell_type": "code",
   "execution_count": 17,
   "id": "a42452f1-6f93-422a-be41-214dbb94aac4",
   "metadata": {},
   "outputs": [
    {
     "name": "stdout",
     "output_type": "stream",
     "text": [
      "10 20 30 40\n"
     ]
    }
   ],
   "source": [
    "a=10\n",
    "b=20\n",
    "c=30\n",
    "d=40\n",
    "\n",
    "print(a,b,c,d)"
   ]
  },
  {
   "cell_type": "code",
   "execution_count": 19,
   "id": "8ea7f8d1-2005-44e0-823c-1f87b25d928a",
   "metadata": {},
   "outputs": [
    {
     "name": "stdout",
     "output_type": "stream",
     "text": [
      "3\n"
     ]
    },
    {
     "data": {
      "text/plain": [
       "int"
      ]
     },
     "execution_count": 19,
     "metadata": {},
     "output_type": "execute_result"
    }
   ],
   "source": [
    "x=3\n",
    "print(x)\n",
    "type(x)"
   ]
  },
  {
   "cell_type": "code",
   "execution_count": 1,
   "id": "167ce1a1-58c5-4a6c-88a4-9450e062d880",
   "metadata": {},
   "outputs": [
    {
     "name": "stdout",
     "output_type": "stream",
     "text": [
      "4\n"
     ]
    },
    {
     "data": {
      "text/plain": [
       "str"
      ]
     },
     "execution_count": 1,
     "metadata": {},
     "output_type": "execute_result"
    }
   ],
   "source": [
    "x='4'\n",
    "print(x)\n",
    "type(x)"
   ]
  },
  {
   "cell_type": "code",
   "execution_count": 5,
   "id": "c96b61c0-6e7d-484d-a143-14b16eeefaee",
   "metadata": {},
   "outputs": [
    {
     "name": "stdout",
     "output_type": "stream",
     "text": [
      "30\n"
     ]
    }
   ],
   "source": [
    "# print function in python 3\n",
    "a=10\n",
    "b=20\n",
    "c=a+b\n",
    "print(c)"
   ]
  },
  {
   "cell_type": "code",
   "execution_count": 7,
   "id": "f1fa86f3-896c-4176-a7a7-38ea4fb17968",
   "metadata": {},
   "outputs": [
    {
     "name": "stdout",
     "output_type": "stream",
     "text": [
      "30\n"
     ]
    }
   ],
   "source": [
    "a=10\n",
    "b=20\n",
    "print(a+b)"
   ]
  },
  {
   "cell_type": "code",
   "execution_count": 9,
   "id": "3491a3f5-6d4a-4c13-9d21-0839ba029eed",
   "metadata": {},
   "outputs": [
    {
     "name": "stdout",
     "output_type": "stream",
     "text": [
      "50\n"
     ]
    }
   ],
   "source": [
    "print(20+30)"
   ]
  },
  {
   "cell_type": "code",
   "execution_count": 11,
   "id": "b891c3da-1574-4cb5-9e69-7941b6a3bc96",
   "metadata": {},
   "outputs": [
    {
     "name": "stdout",
     "output_type": "stream",
     "text": [
      "10 20 30 50\n"
     ]
    }
   ],
   "source": [
    "a=10\n",
    "b=20\n",
    "c=30\n",
    "d=50\n",
    "print(a,b,c,d)"
   ]
  },
  {
   "cell_type": "code",
   "execution_count": 15,
   "id": "f9e72fd7-5823-4ba9-a71d-a4b3f24b5e87",
   "metadata": {},
   "outputs": [
    {
     "name": "stdout",
     "output_type": "stream",
     "text": [
      "10,20,30,40\n"
     ]
    }
   ],
   "source": [
    "a=10\n",
    "b=20\n",
    "c=30\n",
    "d=40\n",
    "print(a,b,c,d,sep=\",\")"
   ]
  },
  {
   "cell_type": "code",
   "execution_count": 17,
   "id": "2bc89c5a-e8cf-484b-b1e4-d02a2932e9c2",
   "metadata": {},
   "outputs": [
    {
     "name": "stdout",
     "output_type": "stream",
     "text": [
      "the value of a: 10\n"
     ]
    }
   ],
   "source": [
    "a=10\n",
    "print(\"the value of a:\",a)"
   ]
  },
  {
   "cell_type": "code",
   "execution_count": 19,
   "id": "0942a7f3-8284-4885-93a6-854a6cb31f34",
   "metadata": {},
   "outputs": [],
   "source": [
    "first_name='rama'\n",
    "last_name='saI'"
   ]
  },
  {
   "cell_type": "code",
   "execution_count": 21,
   "id": "f47f237f-f2b5-42c9-9430-0b520accb00a",
   "metadata": {},
   "outputs": [
    {
     "name": "stdout",
     "output_type": "stream",
     "text": [
      "name saI rama\n"
     ]
    }
   ],
   "source": [
    "print(\"name\",last_name,first_name)\n"
   ]
  },
  {
   "cell_type": "code",
   "execution_count": 23,
   "id": "8ad65a46-aef5-4c74-9ea8-bc16fde4c482",
   "metadata": {},
   "outputs": [
    {
     "name": "stdout",
     "output_type": "stream",
     "text": [
      "my first name is: rama and last name is: saI\n"
     ]
    }
   ],
   "source": [
    "print(\"my first name is:\",first_name,\"and last name is:\",last_name)"
   ]
  },
  {
   "cell_type": "code",
   "execution_count": 3,
   "id": "c21f0a0a-f651-4662-92d5-70eae38bd15a",
   "metadata": {},
   "outputs": [
    {
     "ename": "NameError",
     "evalue": "name 'first_name' is not defined",
     "output_type": "error",
     "traceback": [
      "\u001b[1;31m---------------------------------------------------------------------------\u001b[0m",
      "\u001b[1;31mNameError\u001b[0m                                 Traceback (most recent call last)",
      "Cell \u001b[1;32mIn[3], line 1\u001b[0m\n\u001b[1;32m----> 1\u001b[0m \u001b[38;5;28mprint\u001b[39m(\u001b[38;5;124m\"\u001b[39m\u001b[38;5;124mmy first name is: \u001b[39m\u001b[38;5;132;01m{}\u001b[39;00m\u001b[38;5;124m and last name is: \u001b[39m\u001b[38;5;132;01m{}\u001b[39;00m\u001b[38;5;124m\"\u001b[39m\u001b[38;5;241m.\u001b[39mformat(first_name,last_name))\n",
      "\u001b[1;31mNameError\u001b[0m: name 'first_name' is not defined"
     ]
    }
   ],
   "source": [
    "print(\"my first name is: {} and last name is: {}\".format(first_name,last_name))"
   ]
  },
  {
   "cell_type": "code",
   "execution_count": 13,
   "id": "1bc9e667-12c9-492b-b48a-bcd74e7086da",
   "metadata": {},
   "outputs": [
    {
     "ename": "NameError",
     "evalue": "name 'last_name' is not defined",
     "output_type": "error",
     "traceback": [
      "\u001b[1;31m---------------------------------------------------------------------------\u001b[0m",
      "\u001b[1;31mNameError\u001b[0m                                 Traceback (most recent call last)",
      "Cell \u001b[1;32mIn[13], line 2\u001b[0m\n\u001b[0;32m      1\u001b[0m \u001b[38;5;66;03m#we can use keyword arguments to format the string\u001b[39;00m\n\u001b[1;32m----> 2\u001b[0m \u001b[38;5;28mprint\u001b[39m(\u001b[38;5;124m\"\u001b[39m\u001b[38;5;124mmy first name is: \u001b[39m\u001b[38;5;132;01m{first}\u001b[39;00m\u001b[38;5;124m and last name is: \u001b[39m\u001b[38;5;132;01m{first}\u001b[39;00m\u001b[38;5;124m\"\u001b[39m\u001b[38;5;241m.\u001b[39mformat(last\u001b[38;5;241m=\u001b[39mlast_name,first\u001b[38;5;241m=\u001b[39mlast_name))\n",
      "\u001b[1;31mNameError\u001b[0m: name 'last_name' is not defined"
     ]
    }
   ],
   "source": [
    "#we can use keyword arguments to format the string\n",
    "print(\"my first name is: {first} and last name is: {first}\".format(last=last_name,first=last_name))\n",
    "\n"
   ]
  },
  {
   "cell_type": "code",
   "execution_count": 17,
   "id": "fdf23b7e-ccaa-4f77-9488-989ceb725ff0",
   "metadata": {},
   "outputs": [
    {
     "name": "stdout",
     "output_type": "stream",
     "text": [
      "hello satish good morning satish\n"
     ]
    }
   ],
   "source": [
    "print(\"hello {name} {greeting} {name}\".format(name=\"satish\", greeting=\"good morning\"))"
   ]
  },
  {
   "cell_type": "code",
   "execution_count": 19,
   "id": "4c847b52-4ac2-4b83-a680-83f8a1907b4f",
   "metadata": {},
   "outputs": [
    {
     "name": "stdout",
     "output_type": "stream",
     "text": [
      "the story of bill, manfred, and georg\n"
     ]
    }
   ],
   "source": [
    "#we can combine positional arguments with keyword arguments\n",
    "print('the story of {}, {}, and {other}'.format('bill','manfred',other='georg'))"
   ]
  },
  {
   "cell_type": "code",
   "execution_count": 1,
   "id": "614e93f0-0f29-47fc-9b8b-8a9cd6e9d741",
   "metadata": {},
   "outputs": [
    {
     "name": "stdout",
     "output_type": "stream",
     "text": [
      "my number is : 12 and my name is: sam\n",
      "my number is : 12 and my name is: sam\n",
      "my number is : 12 and my name is: sam\n"
     ]
    }
   ],
   "source": [
    "num = 12\n",
    "name = 'sam'\n",
    "print('my number is : {one} and my name is: {two}'.format(one=num,two=name))\n",
    "print('my number is : {} and my name is: {}'.format(num,name))\n",
    "print(\"my number is :\",num,\"and my name is:\",name)\n"
   ]
  },
  {
   "cell_type": "code",
   "execution_count": 7,
   "id": "c7aedfa1-b2ce-4a1d-bdd1-4b5bd1b3acaf",
   "metadata": {},
   "outputs": [
    {
     "ename": "SyntaxError",
     "evalue": "invalid syntax (2032398549.py, line 3)",
     "output_type": "error",
     "traceback": [
      "\u001b[1;36m  Cell \u001b[1;32mIn[7], line 3\u001b[1;36m\u001b[0m\n\u001b[1;33m    a on the left.\u001b[0m\n\u001b[1;37m      ^\u001b[0m\n\u001b[1;31mSyntaxError\u001b[0m\u001b[1;31m:\u001b[0m invalid syntax\n"
     ]
    }
   ],
   "source": [
    "a=15\n",
    "a # is a simple assignment operator that assigns the value 15 on the right to the variable \n",
    "a on the left."
   ]
  },
  {
   "cell_type": "code",
   "execution_count": null,
   "id": "f0bf81a2-1ce9-4623-bab0-672f93da208d",
   "metadata": {},
   "outputs": [],
   "source": []
  }
 ],
 "metadata": {
  "kernelspec": {
   "display_name": "Python 3 (ipykernel)",
   "language": "python",
   "name": "python3"
  },
  "language_info": {
   "codemirror_mode": {
    "name": "ipython",
    "version": 3
   },
   "file_extension": ".py",
   "mimetype": "text/x-python",
   "name": "python",
   "nbconvert_exporter": "python",
   "pygments_lexer": "ipython3",
   "version": "3.12.4"
  }
 },
 "nbformat": 4,
 "nbformat_minor": 5
}
